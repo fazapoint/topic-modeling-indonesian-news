{
 "cells": [
  {
   "cell_type": "code",
   "execution_count": 1,
   "id": "75c9d552-007e-444d-a802-6d68e9f46815",
   "metadata": {},
   "outputs": [],
   "source": [
    "import os\n",
    "import glob\n",
    "import pandas as pd\n",
    "\n",
    "os.chdir(\"datasets/merge_list\")"
   ]
  },
  {
   "cell_type": "code",
   "execution_count": 2,
   "id": "882691c8-6ef5-4a23-be12-54c5520a6e4d",
   "metadata": {},
   "outputs": [],
   "source": [
    "extension = 'csv'\n",
    "all_filenames = [i for i in glob.glob('*.{}'.format(extension))]"
   ]
  },
  {
   "cell_type": "code",
   "execution_count": 3,
   "id": "ca1ba7c7-f1d9-4f2c-8104-7e77c19a1fa0",
   "metadata": {},
   "outputs": [],
   "source": [
    "list_csv = []\n",
    "\n",
    "for filename in all_filenames:\n",
    "    df = pd.read_csv(filename)\n",
    "    list_csv.append(df)\n",
    "    \n",
    "combined_csv = pd.concat(list_csv)"
   ]
  },
  {
   "cell_type": "code",
   "execution_count": 4,
   "id": "69cfdc2d-f951-4e54-9d84-7fc18ef221c7",
   "metadata": {},
   "outputs": [
    {
     "name": "stdout",
     "output_type": "stream",
     "text": [
      "<class 'pandas.core.frame.DataFrame'>\n",
      "Int64Index: 36761 entries, 0 to 36664\n",
      "Data columns (total 4 columns):\n",
      " #   Column    Non-Null Count  Dtype \n",
      "---  ------    --------------  ----- \n",
      " 0   id        36761 non-null  int64 \n",
      " 1   date      36761 non-null  object\n",
      " 2   username  36761 non-null  object\n",
      " 3   tweets    36761 non-null  object\n",
      "dtypes: int64(1), object(3)\n",
      "memory usage: 1.4+ MB\n"
     ]
    }
   ],
   "source": [
    "combined_csv.info()"
   ]
  },
  {
   "cell_type": "code",
   "execution_count": 5,
   "id": "cfb0f699-7103-4abb-b2d5-e6ab088c67ab",
   "metadata": {},
   "outputs": [],
   "source": [
    "combined_csv.to_csv('../endgame_media_covid.csv', index=False, encoding='utf-8')"
   ]
  }
 ],
 "metadata": {
  "kernelspec": {
   "display_name": "Python 3 (ipykernel)",
   "language": "python",
   "name": "python3"
  },
  "language_info": {
   "codemirror_mode": {
    "name": "ipython",
    "version": 3
   },
   "file_extension": ".py",
   "mimetype": "text/x-python",
   "name": "python",
   "nbconvert_exporter": "python",
   "pygments_lexer": "ipython3",
   "version": "3.9.7"
  }
 },
 "nbformat": 4,
 "nbformat_minor": 5
}
