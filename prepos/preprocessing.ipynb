{
 "cells": [
  {
   "cell_type": "code",
   "execution_count": 1,
   "id": "34c09252-b606-4d45-8d7f-693ac0c6a193",
   "metadata": {
    "tags": []
   },
   "outputs": [],
   "source": [
    "import pandas as pd\n",
    "pd.set_option(\"display.max_colwidth\", None)"
   ]
  },
  {
   "cell_type": "code",
   "execution_count": 2,
   "id": "32688f6e-4a2e-45f0-8155-b4bffc9601d5",
   "metadata": {},
   "outputs": [],
   "source": [
    "import re\n",
    "import string\n",
    "import emoji"
   ]
  },
  {
   "cell_type": "code",
   "execution_count": 3,
   "id": "cf4bdd96-e6d0-4451-a3cf-ed3136893a55",
   "metadata": {},
   "outputs": [],
   "source": [
    "df = pd.read_csv(\"datasets/final_media_covid.csv\")"
   ]
  },
  {
   "cell_type": "code",
   "execution_count": 4,
   "id": "042f0e0f-911e-4cba-9d79-a237483c6c31",
   "metadata": {},
   "outputs": [
    {
     "data": {
      "text/html": [
       "<div>\n",
       "<style scoped>\n",
       "    .dataframe tbody tr th:only-of-type {\n",
       "        vertical-align: middle;\n",
       "    }\n",
       "\n",
       "    .dataframe tbody tr th {\n",
       "        vertical-align: top;\n",
       "    }\n",
       "\n",
       "    .dataframe thead th {\n",
       "        text-align: right;\n",
       "    }\n",
       "</style>\n",
       "<table border=\"1\" class=\"dataframe\">\n",
       "  <thead>\n",
       "    <tr style=\"text-align: right;\">\n",
       "      <th></th>\n",
       "      <th>id</th>\n",
       "      <th>date</th>\n",
       "      <th>username</th>\n",
       "      <th>tweets</th>\n",
       "    </tr>\n",
       "  </thead>\n",
       "  <tbody>\n",
       "    <tr>\n",
       "      <th>0</th>\n",
       "      <td>1607520736603963393</td>\n",
       "      <td>2022-12-26 23:36:24+00:00</td>\n",
       "      <td>Okezone</td>\n",
       "      <td>China Hapus Wajib Karantina Bagi Pelancong Asing di Saat Kasus Covid-19 Melonjak #LengkapCepatBeritanya #BeritaTerkini #International #BeritaInternasional . https://t.co/bXROipUUIP</td>\n",
       "    </tr>\n",
       "    <tr>\n",
       "      <th>1</th>\n",
       "      <td>1607514185101103104</td>\n",
       "      <td>2022-12-26 23:10:22+00:00</td>\n",
       "      <td>Okezone</td>\n",
       "      <td>Covid-19 Kembali Merebak di China, Pencabutan PPKM Perlu Hati-Hati #LengkapCepatBeritanya #BeritaTerkini #Berita #News #BeritaNasional . https://t.co/9VciJm3pkf</td>\n",
       "    </tr>\n",
       "    <tr>\n",
       "      <th>2</th>\n",
       "      <td>1607386138540642305</td>\n",
       "      <td>2022-12-26 14:41:33+00:00</td>\n",
       "      <td>Okezone</td>\n",
       "      <td>Sebaran 468 Konfirmasi Positif Covid-19 di Indonesia, 6 Provinsi Nihil Kasus #LengkapCepatBeritanya #BeritaTerkini #Berita #News #BeritaNasional . https://t.co/X09MDSUGAW</td>\n",
       "    </tr>\n",
       "    <tr>\n",
       "      <th>3</th>\n",
       "      <td>1607384456578617344</td>\n",
       "      <td>2022-12-26 14:34:52+00:00</td>\n",
       "      <td>Okezone</td>\n",
       "      <td>'Update' Covid-19 Per Senin 26 Desember 2022: Positif 6.716.592 Orang, Sembuh 6.538.568 dan Meninggal 160.551 #LengkapCepatBeritanya #BeritaTerkini #Berita #News #BeritaNasional . https://t.co/xSXWXUOlhy</td>\n",
       "    </tr>\n",
       "    <tr>\n",
       "      <th>4</th>\n",
       "      <td>1607382275251142659</td>\n",
       "      <td>2022-12-26 14:26:12+00:00</td>\n",
       "      <td>CNN Indonesia</td>\n",
       "      <td>Positif Covid di RI Tambah 468, Pasien Sembuh 3.212 Orang https://t.co/kqe5YCg525</td>\n",
       "    </tr>\n",
       "  </tbody>\n",
       "</table>\n",
       "</div>"
      ],
      "text/plain": [
       "                    id                       date       username  \\\n",
       "0  1607520736603963393  2022-12-26 23:36:24+00:00        Okezone   \n",
       "1  1607514185101103104  2022-12-26 23:10:22+00:00        Okezone   \n",
       "2  1607386138540642305  2022-12-26 14:41:33+00:00        Okezone   \n",
       "3  1607384456578617344  2022-12-26 14:34:52+00:00        Okezone   \n",
       "4  1607382275251142659  2022-12-26 14:26:12+00:00  CNN Indonesia   \n",
       "\n",
       "                                                                                                                                                                                                        tweets  \n",
       "0                         China Hapus Wajib Karantina Bagi Pelancong Asing di Saat Kasus Covid-19 Melonjak #LengkapCepatBeritanya #BeritaTerkini #International #BeritaInternasional . https://t.co/bXROipUUIP  \n",
       "1                                             Covid-19 Kembali Merebak di China, Pencabutan PPKM Perlu Hati-Hati #LengkapCepatBeritanya #BeritaTerkini #Berita #News #BeritaNasional . https://t.co/9VciJm3pkf  \n",
       "2                                   Sebaran 468 Konfirmasi Positif Covid-19 di Indonesia, 6 Provinsi Nihil Kasus #LengkapCepatBeritanya #BeritaTerkini #Berita #News #BeritaNasional . https://t.co/X09MDSUGAW  \n",
       "3  'Update' Covid-19 Per Senin 26 Desember 2022: Positif 6.716.592 Orang, Sembuh 6.538.568 dan Meninggal 160.551 #LengkapCepatBeritanya #BeritaTerkini #Berita #News #BeritaNasional . https://t.co/xSXWXUOlhy  \n",
       "4                                                                                                                            Positif Covid di RI Tambah 468, Pasien Sembuh 3.212 Orang https://t.co/kqe5YCg525  "
      ]
     },
     "execution_count": 4,
     "metadata": {},
     "output_type": "execute_result"
    }
   ],
   "source": [
    "df.head()"
   ]
  },
  {
   "cell_type": "code",
   "execution_count": 5,
   "id": "69f0aeb7-8f70-42bd-ace5-88d6493676a9",
   "metadata": {},
   "outputs": [
    {
     "name": "stdout",
     "output_type": "stream",
     "text": [
      "<class 'pandas.core.frame.DataFrame'>\n",
      "RangeIndex: 36665 entries, 0 to 36664\n",
      "Data columns (total 4 columns):\n",
      " #   Column    Non-Null Count  Dtype \n",
      "---  ------    --------------  ----- \n",
      " 0   id        36665 non-null  int64 \n",
      " 1   date      36665 non-null  object\n",
      " 2   username  36665 non-null  object\n",
      " 3   tweets    36665 non-null  object\n",
      "dtypes: int64(1), object(3)\n",
      "memory usage: 1.1+ MB\n"
     ]
    }
   ],
   "source": [
    "df.info()"
   ]
  },
  {
   "cell_type": "markdown",
   "id": "0ba25481-d139-4bf2-a624-f7ed2275a4ad",
   "metadata": {},
   "source": [
    "# Check duplicate"
   ]
  },
  {
   "cell_type": "code",
   "execution_count": 6,
   "id": "ccce040a-caa7-4f9c-850d-4a91eac1d9fd",
   "metadata": {},
   "outputs": [
    {
     "data": {
      "text/plain": [
       "47"
      ]
     },
     "execution_count": 6,
     "metadata": {},
     "output_type": "execute_result"
    }
   ],
   "source": [
    "# check if it has duplicated value\n",
    "df.tweets.duplicated().sum()"
   ]
  },
  {
   "cell_type": "code",
   "execution_count": 7,
   "id": "963144f3-50a3-4937-af86-b56b3328805a",
   "metadata": {},
   "outputs": [
    {
     "data": {
      "text/html": [
       "<div>\n",
       "<style scoped>\n",
       "    .dataframe tbody tr th:only-of-type {\n",
       "        vertical-align: middle;\n",
       "    }\n",
       "\n",
       "    .dataframe tbody tr th {\n",
       "        vertical-align: top;\n",
       "    }\n",
       "\n",
       "    .dataframe thead th {\n",
       "        text-align: right;\n",
       "    }\n",
       "</style>\n",
       "<table border=\"1\" class=\"dataframe\">\n",
       "  <thead>\n",
       "    <tr style=\"text-align: right;\">\n",
       "      <th></th>\n",
       "      <th>id</th>\n",
       "      <th>date</th>\n",
       "      <th>username</th>\n",
       "      <th>tweets</th>\n",
       "    </tr>\n",
       "  </thead>\n",
       "  <tbody>\n",
       "    <tr>\n",
       "      <th>1017</th>\n",
       "      <td>1612460564248399880</td>\n",
       "      <td>2023-01-09 14:45:31+00:00</td>\n",
       "      <td>Tribunnews.com</td>\n",
       "      <td>Infeksi Covid-19 China Kian Menggila, 90 Persen Warga di Provinsi Henan Dinyatakan Positif\\n \\nhttps://t.co/MMS3B02kMJ via @tribunnews</td>\n",
       "    </tr>\n",
       "    <tr>\n",
       "      <th>2475</th>\n",
       "      <td>1645598665950777345</td>\n",
       "      <td>2023-04-11 01:24:30+00:00</td>\n",
       "      <td>Harian Kompas</td>\n",
       "      <td>Pelabuhan Merak memegang kunci sebagai sarana penghubung antarpulau. Pada mudik Lebaran 2023, ada euforia menyambut mudik setelah tahun sebelumnya ada pembatasan karena pandemi Covid-19.\\n\\nhttps://t.co/zavnz6keCT\\n\\n #Metropolitan #AdadiKompas</td>\n",
       "    </tr>\n",
       "    <tr>\n",
       "      <th>4260</th>\n",
       "      <td>1497128313013542912</td>\n",
       "      <td>2022-02-25 08:36:19+00:00</td>\n",
       "      <td>TEMPO.CO</td>\n",
       "      <td>Supaya antibodi terbentuk dengan baik dan tidak timbul risiko tertentu, berikut adalah hal-hal yang tidak dianjurkan bagi seseorang setelah menerima vaksin booster Covid-19. #TempoGaya https://t.co/Gh4vaBuym3</td>\n",
       "    </tr>\n",
       "    <tr>\n",
       "      <th>5259</th>\n",
       "      <td>1500350464424136708</td>\n",
       "      <td>2022-03-06 06:00:00+00:00</td>\n",
       "      <td>CNN Indonesia</td>\n",
       "      <td>Long Covid adalah gejala Covid-19 yang berlangsung dalam waktu lama. Penyintas Omicron pun berisiko mengalami long Covid. Seperti apa gejalanya? #CNNIndonesia \\nhttps://t.co/rF8eWwOPmT</td>\n",
       "    </tr>\n",
       "    <tr>\n",
       "      <th>6120</th>\n",
       "      <td>1501456501113864195</td>\n",
       "      <td>2022-03-09 07:15:00+00:00</td>\n",
       "      <td>Harian Kompas</td>\n",
       "      <td>Dua tahun, Covid-19 melanda Indonesia. Penanganan kesehatan dan pemulihan ekonominya tak lepas dari strategi ”gas dan rem”. Dari buku ”Indonesia dan Covid-19: Kerja Keras di Tengah Pandemi”, terekam perjalanannya. #Kesehatan #AdadiKompas\\n\\nhttps://t.co/3FMEIs4Bff</td>\n",
       "    </tr>\n",
       "  </tbody>\n",
       "</table>\n",
       "</div>"
      ],
      "text/plain": [
       "                       id                       date        username  \\\n",
       "1017  1612460564248399880  2023-01-09 14:45:31+00:00  Tribunnews.com   \n",
       "2475  1645598665950777345  2023-04-11 01:24:30+00:00   Harian Kompas   \n",
       "4260  1497128313013542912  2022-02-25 08:36:19+00:00        TEMPO.CO   \n",
       "5259  1500350464424136708  2022-03-06 06:00:00+00:00   CNN Indonesia   \n",
       "6120  1501456501113864195  2022-03-09 07:15:00+00:00   Harian Kompas   \n",
       "\n",
       "                                                                                                                                                                                                                                                                        tweets  \n",
       "1017                                                                                                                                    Infeksi Covid-19 China Kian Menggila, 90 Persen Warga di Provinsi Henan Dinyatakan Positif\\n \\nhttps://t.co/MMS3B02kMJ via @tribunnews  \n",
       "2475                      Pelabuhan Merak memegang kunci sebagai sarana penghubung antarpulau. Pada mudik Lebaran 2023, ada euforia menyambut mudik setelah tahun sebelumnya ada pembatasan karena pandemi Covid-19.\\n\\nhttps://t.co/zavnz6keCT\\n\\n #Metropolitan #AdadiKompas  \n",
       "4260                                                          Supaya antibodi terbentuk dengan baik dan tidak timbul risiko tertentu, berikut adalah hal-hal yang tidak dianjurkan bagi seseorang setelah menerima vaksin booster Covid-19. #TempoGaya https://t.co/Gh4vaBuym3  \n",
       "5259                                                                                  Long Covid adalah gejala Covid-19 yang berlangsung dalam waktu lama. Penyintas Omicron pun berisiko mengalami long Covid. Seperti apa gejalanya? #CNNIndonesia \\nhttps://t.co/rF8eWwOPmT  \n",
       "6120  Dua tahun, Covid-19 melanda Indonesia. Penanganan kesehatan dan pemulihan ekonominya tak lepas dari strategi ”gas dan rem”. Dari buku ”Indonesia dan Covid-19: Kerja Keras di Tengah Pandemi”, terekam perjalanannya. #Kesehatan #AdadiKompas\\n\\nhttps://t.co/3FMEIs4Bff  "
      ]
     },
     "execution_count": 7,
     "metadata": {},
     "output_type": "execute_result"
    }
   ],
   "source": [
    "duplicates = df[df.duplicated(subset='tweets')]\n",
    "duplicates.head()"
   ]
  },
  {
   "cell_type": "code",
   "execution_count": 8,
   "id": "e88e8cdb-3dc4-4c52-b9d9-9fea46acfc74",
   "metadata": {},
   "outputs": [],
   "source": [
    "# delete duplicate data\n",
    "# 36665 - 47 = 36618\n",
    "df.drop_duplicates(subset='tweets', inplace=True)"
   ]
  },
  {
   "cell_type": "code",
   "execution_count": 9,
   "id": "034d45fa-08f0-4f75-a180-97c10b6e35cb",
   "metadata": {},
   "outputs": [
    {
     "name": "stdout",
     "output_type": "stream",
     "text": [
      "<class 'pandas.core.frame.DataFrame'>\n",
      "Int64Index: 36618 entries, 0 to 36664\n",
      "Data columns (total 4 columns):\n",
      " #   Column    Non-Null Count  Dtype \n",
      "---  ------    --------------  ----- \n",
      " 0   id        36618 non-null  int64 \n",
      " 1   date      36618 non-null  object\n",
      " 2   username  36618 non-null  object\n",
      " 3   tweets    36618 non-null  object\n",
      "dtypes: int64(1), object(3)\n",
      "memory usage: 1.4+ MB\n"
     ]
    }
   ],
   "source": [
    "df.info()"
   ]
  },
  {
   "cell_type": "markdown",
   "id": "af0fea1e-3ff6-457a-bcea-d9e6623ea01d",
   "metadata": {},
   "source": [
    "# Select tweets column only"
   ]
  },
  {
   "cell_type": "code",
   "execution_count": 10,
   "id": "2dc7dd4d-547a-4377-990b-5b0e5a0f9156",
   "metadata": {},
   "outputs": [
    {
     "data": {
      "text/html": [
       "<div>\n",
       "<style scoped>\n",
       "    .dataframe tbody tr th:only-of-type {\n",
       "        vertical-align: middle;\n",
       "    }\n",
       "\n",
       "    .dataframe tbody tr th {\n",
       "        vertical-align: top;\n",
       "    }\n",
       "\n",
       "    .dataframe thead th {\n",
       "        text-align: right;\n",
       "    }\n",
       "</style>\n",
       "<table border=\"1\" class=\"dataframe\">\n",
       "  <thead>\n",
       "    <tr style=\"text-align: right;\">\n",
       "      <th></th>\n",
       "      <th>tweets</th>\n",
       "    </tr>\n",
       "  </thead>\n",
       "  <tbody>\n",
       "    <tr>\n",
       "      <th>0</th>\n",
       "      <td>China Hapus Wajib Karantina Bagi Pelancong Asing di Saat Kasus Covid-19 Melonjak #LengkapCepatBeritanya #BeritaTerkini #International #BeritaInternasional . https://t.co/bXROipUUIP</td>\n",
       "    </tr>\n",
       "    <tr>\n",
       "      <th>1</th>\n",
       "      <td>Covid-19 Kembali Merebak di China, Pencabutan PPKM Perlu Hati-Hati #LengkapCepatBeritanya #BeritaTerkini #Berita #News #BeritaNasional . https://t.co/9VciJm3pkf</td>\n",
       "    </tr>\n",
       "    <tr>\n",
       "      <th>2</th>\n",
       "      <td>Sebaran 468 Konfirmasi Positif Covid-19 di Indonesia, 6 Provinsi Nihil Kasus #LengkapCepatBeritanya #BeritaTerkini #Berita #News #BeritaNasional . https://t.co/X09MDSUGAW</td>\n",
       "    </tr>\n",
       "    <tr>\n",
       "      <th>3</th>\n",
       "      <td>'Update' Covid-19 Per Senin 26 Desember 2022: Positif 6.716.592 Orang, Sembuh 6.538.568 dan Meninggal 160.551 #LengkapCepatBeritanya #BeritaTerkini #Berita #News #BeritaNasional . https://t.co/xSXWXUOlhy</td>\n",
       "    </tr>\n",
       "    <tr>\n",
       "      <th>4</th>\n",
       "      <td>Positif Covid di RI Tambah 468, Pasien Sembuh 3.212 Orang https://t.co/kqe5YCg525</td>\n",
       "    </tr>\n",
       "  </tbody>\n",
       "</table>\n",
       "</div>"
      ],
      "text/plain": [
       "                                                                                                                                                                                                        tweets\n",
       "0                         China Hapus Wajib Karantina Bagi Pelancong Asing di Saat Kasus Covid-19 Melonjak #LengkapCepatBeritanya #BeritaTerkini #International #BeritaInternasional . https://t.co/bXROipUUIP\n",
       "1                                             Covid-19 Kembali Merebak di China, Pencabutan PPKM Perlu Hati-Hati #LengkapCepatBeritanya #BeritaTerkini #Berita #News #BeritaNasional . https://t.co/9VciJm3pkf\n",
       "2                                   Sebaran 468 Konfirmasi Positif Covid-19 di Indonesia, 6 Provinsi Nihil Kasus #LengkapCepatBeritanya #BeritaTerkini #Berita #News #BeritaNasional . https://t.co/X09MDSUGAW\n",
       "3  'Update' Covid-19 Per Senin 26 Desember 2022: Positif 6.716.592 Orang, Sembuh 6.538.568 dan Meninggal 160.551 #LengkapCepatBeritanya #BeritaTerkini #Berita #News #BeritaNasional . https://t.co/xSXWXUOlhy\n",
       "4                                                                                                                            Positif Covid di RI Tambah 468, Pasien Sembuh 3.212 Orang https://t.co/kqe5YCg525"
      ]
     },
     "execution_count": 10,
     "metadata": {},
     "output_type": "execute_result"
    }
   ],
   "source": [
    "df_tweets = df[['tweets']].copy()\n",
    "df_tweets.head()"
   ]
  },
  {
   "cell_type": "code",
   "execution_count": 11,
   "id": "6af6ff7c-f253-43da-a6f7-20f34acd9adf",
   "metadata": {},
   "outputs": [
    {
     "name": "stdout",
     "output_type": "stream",
     "text": [
      "<class 'pandas.core.frame.DataFrame'>\n",
      "Int64Index: 36618 entries, 0 to 36664\n",
      "Data columns (total 1 columns):\n",
      " #   Column  Non-Null Count  Dtype \n",
      "---  ------  --------------  ----- \n",
      " 0   tweets  36618 non-null  object\n",
      "dtypes: object(1)\n",
      "memory usage: 572.2+ KB\n"
     ]
    }
   ],
   "source": [
    "df_tweets.info()"
   ]
  },
  {
   "cell_type": "markdown",
   "id": "90f2285d-6dec-41e9-8c4d-22152e27d257",
   "metadata": {},
   "source": [
    "# Cleaning Function"
   ]
  },
  {
   "cell_type": "code",
   "execution_count": 12,
   "id": "2cfb1ffe-a640-4237-93b0-a3f9c377e9b5",
   "metadata": {},
   "outputs": [],
   "source": [
    "# def remove_non_ascii(text):\n",
    "#     clean_text = re.sub(r'[^\\x00-\\x7F]', '', text)\n",
    "#     return clean_text\n",
    "\n",
    "def lowercase(text):\n",
    "    clean_text = text.lower()\n",
    "    return clean_text\n",
    "\n",
    "def remove_newline(text):\n",
    "    clean_text = text.replace('\\n', ' ') \n",
    "    return clean_text\n",
    "\n",
    "def remove_hastag(text):\n",
    "    clean_text = re.sub(r'#\\S+', '', text)\n",
    "    return clean_text\n",
    "\n",
    "def remove_url(text):\n",
    "    url_pattern = r\"http[s]?://(?:[a-zA-Z]|[0-9]|[$-_@.&+]|[!*\\\\(\\\\),]|(?:%[0-9a-fA-F][0-9a-fA-F]))+\"\n",
    "    clean_text = re.sub(url_pattern, \"\", text)\n",
    "    return clean_text\n",
    "\n",
    "def remove_punctuation(text):\n",
    "    clean_text = text.translate(str.maketrans(\"\", \"\", string.punctuation))\n",
    "    return clean_text\n",
    "\n",
    "def remove_digits(text):\n",
    "    clean_text = re.sub(r'\\d', '', text)\n",
    "    return clean_text\n",
    "\n",
    "def remove_emoji(text):\n",
    "    clean_text = re.sub(r':[^:]+:', '', emoji.demojize(text))\n",
    "    return clean_text\n",
    "\n",
    "# def remove_add_whitespace(text):\n",
    "#     clean_text = re.sub(r'\\s+', ' ', text.strip())\n",
    "#     return clean_text"
   ]
  },
  {
   "cell_type": "markdown",
   "id": "c6423ce3-4730-482e-8295-e27c6bdac4e5",
   "metadata": {},
   "source": [
    "# Lowecasing"
   ]
  },
  {
   "cell_type": "code",
   "execution_count": 13,
   "id": "bf4a22e9-2e0f-43e0-889e-f56bb30dc6e1",
   "metadata": {},
   "outputs": [],
   "source": [
    "df_lowercase = df_tweets.copy()"
   ]
  },
  {
   "cell_type": "code",
   "execution_count": 14,
   "id": "22db2638-9d32-41db-ac92-597b4441a623",
   "metadata": {},
   "outputs": [],
   "source": [
    "df_lowercase['lowercase'] = df_lowercase['tweets'].apply(lowercase)"
   ]
  },
  {
   "cell_type": "code",
   "execution_count": 15,
   "id": "482ef27d-30a8-414b-8cd5-560eef7dc0b5",
   "metadata": {},
   "outputs": [
    {
     "data": {
      "text/html": [
       "<div>\n",
       "<style scoped>\n",
       "    .dataframe tbody tr th:only-of-type {\n",
       "        vertical-align: middle;\n",
       "    }\n",
       "\n",
       "    .dataframe tbody tr th {\n",
       "        vertical-align: top;\n",
       "    }\n",
       "\n",
       "    .dataframe thead th {\n",
       "        text-align: right;\n",
       "    }\n",
       "</style>\n",
       "<table border=\"1\" class=\"dataframe\">\n",
       "  <thead>\n",
       "    <tr style=\"text-align: right;\">\n",
       "      <th></th>\n",
       "      <th>tweets</th>\n",
       "      <th>lowercase</th>\n",
       "    </tr>\n",
       "  </thead>\n",
       "  <tbody>\n",
       "    <tr>\n",
       "      <th>90</th>\n",
       "      <td>Data perkembangan pandemi COVID-19 Indonesia hingga Selasa (27/12/2022) : \\n\\nPositif: 6.717.395 (+803)\\nSembuh: 6.540.260 (+1.692)\\nMeninggal: 160.560 (+9)\\nKasus Aktif: 16.575\\n\\n#ingatpesanibu #sudahdivaksintetap3m\\n#vaksinmelindungikitasemua\\n\\nhttps://t.co/kxPeWuQVKB</td>\n",
       "      <td>data perkembangan pandemi covid-19 indonesia hingga selasa (27/12/2022) : \\n\\npositif: 6.717.395 (+803)\\nsembuh: 6.540.260 (+1.692)\\nmeninggal: 160.560 (+9)\\nkasus aktif: 16.575\\n\\n#ingatpesanibu #sudahdivaksintetap3m\\n#vaksinmelindungikitasemua\\n\\nhttps://t.co/kxpewuqvkb</td>\n",
       "    </tr>\n",
       "    <tr>\n",
       "      <th>91</th>\n",
       "      <td>Indonesia mencatat sebanyak 803 kasus baru COVID-19, Selasa (27/12/2022). Jawa Barat menyumbang kasus terbanyak dengan jumlah 229. https://t.co/wj1aELagX0</td>\n",
       "      <td>indonesia mencatat sebanyak 803 kasus baru covid-19, selasa (27/12/2022). jawa barat menyumbang kasus terbanyak dengan jumlah 229. https://t.co/wj1aelagx0</td>\n",
       "    </tr>\n",
       "    <tr>\n",
       "      <th>92</th>\n",
       "      <td>Indonesia mencatat 803 kasus baru COVID-19 hari ini, Selasa (27/12/2022). Seiring itu, terdapat kasus sembuh sebanyak 1.692 dan 9 pasien meninggal dunia. https://t.co/XMmBIbjxcM</td>\n",
       "      <td>indonesia mencatat 803 kasus baru covid-19 hari ini, selasa (27/12/2022). seiring itu, terdapat kasus sembuh sebanyak 1.692 dan 9 pasien meninggal dunia. https://t.co/xmmbibjxcm</td>\n",
       "    </tr>\n",
       "    <tr>\n",
       "      <th>93</th>\n",
       "      <td>Badan POM Terbitkan Izin Vaksin Covid-19 Comirnaty Children Usia 6 Bulan hingga 11 Tahun  https://t.co/58mb7aihnG</td>\n",
       "      <td>badan pom terbitkan izin vaksin covid-19 comirnaty children usia 6 bulan hingga 11 tahun  https://t.co/58mb7aihng</td>\n",
       "    </tr>\n",
       "    <tr>\n",
       "      <th>94</th>\n",
       "      <td>Pakar Ikatan Dokter Indonesia menilai kebijakan pencabutan PPKM sudah relevan dengan situasi COVID-19 saat ini. Inikah alasannya? https://t.co/mVB2ZN1f32</td>\n",
       "      <td>pakar ikatan dokter indonesia menilai kebijakan pencabutan ppkm sudah relevan dengan situasi covid-19 saat ini. inikah alasannya? https://t.co/mvb2zn1f32</td>\n",
       "    </tr>\n",
       "    <tr>\n",
       "      <th>95</th>\n",
       "      <td>China tengah kewalahan usai dihantam lonjakan kasus COVID-19, hingga fasilitas kesehatan penuh. Akibatnya, banyak pasien COVID-19 terdampar di luar RS.  https://t.co/Tlh6Os0eY6</td>\n",
       "      <td>china tengah kewalahan usai dihantam lonjakan kasus covid-19, hingga fasilitas kesehatan penuh. akibatnya, banyak pasien covid-19 terdampar di luar rs.  https://t.co/tlh6os0ey6</td>\n",
       "    </tr>\n",
       "    <tr>\n",
       "      <th>96</th>\n",
       "      <td>Penjualan kembang api terus meningkat seiring dengan pelonggaran kegiatan karena pandemi Covid-19 yang semakin terkendali. Momentum tahun baru dimanfaatkan pedagang kembang api musiman untuk meraup keuntungan maksimal.\\n\\nhttps://t.co/MuAWAxhGJH\\n\\n #Metropolitan #AdadiKompas</td>\n",
       "      <td>penjualan kembang api terus meningkat seiring dengan pelonggaran kegiatan karena pandemi covid-19 yang semakin terkendali. momentum tahun baru dimanfaatkan pedagang kembang api musiman untuk meraup keuntungan maksimal.\\n\\nhttps://t.co/muawaxhgjh\\n\\n #metropolitan #adadikompas</td>\n",
       "    </tr>\n",
       "    <tr>\n",
       "      <th>97</th>\n",
       "      <td>RSDC Wisma Atlet Kemayoran akan  berhenti beroperasi mulai 31 Desember 2022. Saat ini, dari 10 tower yang ada di RSDC Wisma Atlet Kemayoran, tersisa satu tower masih beroperasi untuk menangani pasien Covid-19.\\n\\nhttps://t.co/1xEXLr9MAU\\n\\n #Kesehatan #AdadiKompas</td>\n",
       "      <td>rsdc wisma atlet kemayoran akan  berhenti beroperasi mulai 31 desember 2022. saat ini, dari 10 tower yang ada di rsdc wisma atlet kemayoran, tersisa satu tower masih beroperasi untuk menangani pasien covid-19.\\n\\nhttps://t.co/1xexlr9mau\\n\\n #kesehatan #adadikompas</td>\n",
       "    </tr>\n",
       "    <tr>\n",
       "      <th>98</th>\n",
       "      <td>Dosen UGM: Erick Thohir Sukses Bangun BUMN Tanggap Pandemi Covid-19  https://t.co/iR3Gb2NIt8</td>\n",
       "      <td>dosen ugm: erick thohir sukses bangun bumn tanggap pandemi covid-19  https://t.co/ir3gb2nit8</td>\n",
       "    </tr>\n",
       "    <tr>\n",
       "      <th>99</th>\n",
       "      <td>Satgas Penanganan COVID-19 Kepulauan Babel mengawasi penerapan prokes di pusat keramaian.\\n\\nhttps://t.co/NfZqIWliAQ</td>\n",
       "      <td>satgas penanganan covid-19 kepulauan babel mengawasi penerapan prokes di pusat keramaian.\\n\\nhttps://t.co/nfzqiwliaq</td>\n",
       "    </tr>\n",
       "  </tbody>\n",
       "</table>\n",
       "</div>"
      ],
      "text/plain": [
       "                                                                                                                                                                                                                                                                                  tweets  \\\n",
       "90      Data perkembangan pandemi COVID-19 Indonesia hingga Selasa (27/12/2022) : \\n\\nPositif: 6.717.395 (+803)\\nSembuh: 6.540.260 (+1.692)\\nMeninggal: 160.560 (+9)\\nKasus Aktif: 16.575\\n\\n#ingatpesanibu #sudahdivaksintetap3m\\n#vaksinmelindungikitasemua\\n\\nhttps://t.co/kxPeWuQVKB   \n",
       "91                                                                                                                            Indonesia mencatat sebanyak 803 kasus baru COVID-19, Selasa (27/12/2022). Jawa Barat menyumbang kasus terbanyak dengan jumlah 229. https://t.co/wj1aELagX0   \n",
       "92                                                                                                     Indonesia mencatat 803 kasus baru COVID-19 hari ini, Selasa (27/12/2022). Seiring itu, terdapat kasus sembuh sebanyak 1.692 dan 9 pasien meninggal dunia. https://t.co/XMmBIbjxcM   \n",
       "93                                                                                                                                                                     Badan POM Terbitkan Izin Vaksin Covid-19 Comirnaty Children Usia 6 Bulan hingga 11 Tahun  https://t.co/58mb7aihnG   \n",
       "94                                                                                                                             Pakar Ikatan Dokter Indonesia menilai kebijakan pencabutan PPKM sudah relevan dengan situasi COVID-19 saat ini. Inikah alasannya? https://t.co/mVB2ZN1f32   \n",
       "95                                                                                                      China tengah kewalahan usai dihantam lonjakan kasus COVID-19, hingga fasilitas kesehatan penuh. Akibatnya, banyak pasien COVID-19 terdampar di luar RS.  https://t.co/Tlh6Os0eY6   \n",
       "96  Penjualan kembang api terus meningkat seiring dengan pelonggaran kegiatan karena pandemi Covid-19 yang semakin terkendali. Momentum tahun baru dimanfaatkan pedagang kembang api musiman untuk meraup keuntungan maksimal.\\n\\nhttps://t.co/MuAWAxhGJH\\n\\n #Metropolitan #AdadiKompas   \n",
       "97              RSDC Wisma Atlet Kemayoran akan  berhenti beroperasi mulai 31 Desember 2022. Saat ini, dari 10 tower yang ada di RSDC Wisma Atlet Kemayoran, tersisa satu tower masih beroperasi untuk menangani pasien Covid-19.\\n\\nhttps://t.co/1xEXLr9MAU\\n\\n #Kesehatan #AdadiKompas   \n",
       "98                                                                                                                                                                                          Dosen UGM: Erick Thohir Sukses Bangun BUMN Tanggap Pandemi Covid-19  https://t.co/iR3Gb2NIt8   \n",
       "99                                                                                                                                                                  Satgas Penanganan COVID-19 Kepulauan Babel mengawasi penerapan prokes di pusat keramaian.\\n\\nhttps://t.co/NfZqIWliAQ   \n",
       "\n",
       "                                                                                                                                                                                                                                                                               lowercase  \n",
       "90      data perkembangan pandemi covid-19 indonesia hingga selasa (27/12/2022) : \\n\\npositif: 6.717.395 (+803)\\nsembuh: 6.540.260 (+1.692)\\nmeninggal: 160.560 (+9)\\nkasus aktif: 16.575\\n\\n#ingatpesanibu #sudahdivaksintetap3m\\n#vaksinmelindungikitasemua\\n\\nhttps://t.co/kxpewuqvkb  \n",
       "91                                                                                                                            indonesia mencatat sebanyak 803 kasus baru covid-19, selasa (27/12/2022). jawa barat menyumbang kasus terbanyak dengan jumlah 229. https://t.co/wj1aelagx0  \n",
       "92                                                                                                     indonesia mencatat 803 kasus baru covid-19 hari ini, selasa (27/12/2022). seiring itu, terdapat kasus sembuh sebanyak 1.692 dan 9 pasien meninggal dunia. https://t.co/xmmbibjxcm  \n",
       "93                                                                                                                                                                     badan pom terbitkan izin vaksin covid-19 comirnaty children usia 6 bulan hingga 11 tahun  https://t.co/58mb7aihng  \n",
       "94                                                                                                                             pakar ikatan dokter indonesia menilai kebijakan pencabutan ppkm sudah relevan dengan situasi covid-19 saat ini. inikah alasannya? https://t.co/mvb2zn1f32  \n",
       "95                                                                                                      china tengah kewalahan usai dihantam lonjakan kasus covid-19, hingga fasilitas kesehatan penuh. akibatnya, banyak pasien covid-19 terdampar di luar rs.  https://t.co/tlh6os0ey6  \n",
       "96  penjualan kembang api terus meningkat seiring dengan pelonggaran kegiatan karena pandemi covid-19 yang semakin terkendali. momentum tahun baru dimanfaatkan pedagang kembang api musiman untuk meraup keuntungan maksimal.\\n\\nhttps://t.co/muawaxhgjh\\n\\n #metropolitan #adadikompas  \n",
       "97              rsdc wisma atlet kemayoran akan  berhenti beroperasi mulai 31 desember 2022. saat ini, dari 10 tower yang ada di rsdc wisma atlet kemayoran, tersisa satu tower masih beroperasi untuk menangani pasien covid-19.\\n\\nhttps://t.co/1xexlr9mau\\n\\n #kesehatan #adadikompas  \n",
       "98                                                                                                                                                                                          dosen ugm: erick thohir sukses bangun bumn tanggap pandemi covid-19  https://t.co/ir3gb2nit8  \n",
       "99                                                                                                                                                                  satgas penanganan covid-19 kepulauan babel mengawasi penerapan prokes di pusat keramaian.\\n\\nhttps://t.co/nfzqiwliaq  "
      ]
     },
     "execution_count": 15,
     "metadata": {},
     "output_type": "execute_result"
    }
   ],
   "source": [
    "df_lowercase.head(100).tail(10)"
   ]
  },
  {
   "cell_type": "markdown",
   "id": "a7c571f3-4a98-4fdc-ac3d-352aa5d46502",
   "metadata": {
    "tags": []
   },
   "source": [
    "# Remove newline"
   ]
  },
  {
   "cell_type": "code",
   "execution_count": 16,
   "id": "b458bef0-1a7f-46f9-913d-ab97e909ec1c",
   "metadata": {},
   "outputs": [],
   "source": [
    "df_re_newline = df_lowercase[['lowercase']].copy()"
   ]
  },
  {
   "cell_type": "code",
   "execution_count": 17,
   "id": "59632891-3cf4-4904-8a09-73cbe51f8399",
   "metadata": {},
   "outputs": [
    {
     "data": {
      "text/html": [
       "<div>\n",
       "<style scoped>\n",
       "    .dataframe tbody tr th:only-of-type {\n",
       "        vertical-align: middle;\n",
       "    }\n",
       "\n",
       "    .dataframe tbody tr th {\n",
       "        vertical-align: top;\n",
       "    }\n",
       "\n",
       "    .dataframe thead th {\n",
       "        text-align: right;\n",
       "    }\n",
       "</style>\n",
       "<table border=\"1\" class=\"dataframe\">\n",
       "  <thead>\n",
       "    <tr style=\"text-align: right;\">\n",
       "      <th></th>\n",
       "      <th>lowercase</th>\n",
       "    </tr>\n",
       "  </thead>\n",
       "  <tbody>\n",
       "    <tr>\n",
       "      <th>0</th>\n",
       "      <td>china hapus wajib karantina bagi pelancong asing di saat kasus covid-19 melonjak #lengkapcepatberitanya #beritaterkini #international #beritainternasional . https://t.co/bxroipuuip</td>\n",
       "    </tr>\n",
       "    <tr>\n",
       "      <th>1</th>\n",
       "      <td>covid-19 kembali merebak di china, pencabutan ppkm perlu hati-hati #lengkapcepatberitanya #beritaterkini #berita #news #beritanasional . https://t.co/9vcijm3pkf</td>\n",
       "    </tr>\n",
       "    <tr>\n",
       "      <th>2</th>\n",
       "      <td>sebaran 468 konfirmasi positif covid-19 di indonesia, 6 provinsi nihil kasus #lengkapcepatberitanya #beritaterkini #berita #news #beritanasional . https://t.co/x09mdsugaw</td>\n",
       "    </tr>\n",
       "    <tr>\n",
       "      <th>3</th>\n",
       "      <td>'update' covid-19 per senin 26 desember 2022: positif 6.716.592 orang, sembuh 6.538.568 dan meninggal 160.551 #lengkapcepatberitanya #beritaterkini #berita #news #beritanasional . https://t.co/xsxwxuolhy</td>\n",
       "    </tr>\n",
       "    <tr>\n",
       "      <th>4</th>\n",
       "      <td>positif covid di ri tambah 468, pasien sembuh 3.212 orang https://t.co/kqe5ycg525</td>\n",
       "    </tr>\n",
       "  </tbody>\n",
       "</table>\n",
       "</div>"
      ],
      "text/plain": [
       "                                                                                                                                                                                                     lowercase\n",
       "0                         china hapus wajib karantina bagi pelancong asing di saat kasus covid-19 melonjak #lengkapcepatberitanya #beritaterkini #international #beritainternasional . https://t.co/bxroipuuip\n",
       "1                                             covid-19 kembali merebak di china, pencabutan ppkm perlu hati-hati #lengkapcepatberitanya #beritaterkini #berita #news #beritanasional . https://t.co/9vcijm3pkf\n",
       "2                                   sebaran 468 konfirmasi positif covid-19 di indonesia, 6 provinsi nihil kasus #lengkapcepatberitanya #beritaterkini #berita #news #beritanasional . https://t.co/x09mdsugaw\n",
       "3  'update' covid-19 per senin 26 desember 2022: positif 6.716.592 orang, sembuh 6.538.568 dan meninggal 160.551 #lengkapcepatberitanya #beritaterkini #berita #news #beritanasional . https://t.co/xsxwxuolhy\n",
       "4                                                                                                                            positif covid di ri tambah 468, pasien sembuh 3.212 orang https://t.co/kqe5ycg525"
      ]
     },
     "execution_count": 17,
     "metadata": {},
     "output_type": "execute_result"
    }
   ],
   "source": [
    "df_re_newline.head()"
   ]
  },
  {
   "cell_type": "code",
   "execution_count": 18,
   "id": "9b3f8247-0cb4-488c-b755-76590c327bd7",
   "metadata": {},
   "outputs": [
    {
     "name": "stdout",
     "output_type": "stream",
     "text": [
      "                                                                                                                                                                                                                                                                                     lowercase\n",
      "28                     ada atau tidak ppkm, sebaiknya kita tetap menjaga kesehatan dan menghindari diri dari tertular penyakit. pengalaman pedih covid-19 beri pelajaran, dampak penyakit ini dapat meluluh-lantakkan berbagai sendi kehidupan. #opini #adadikompas\\n\\nhttps://t.co/mdklnpb9hj\n",
      "32                       \"asal sero survei kita sudah sampai 90%, ya artinya kita kemungkinan sudah baik. ada apapun, dari manapun seharusnya sudah tidak jadi masalah,\" ujar jokowi di jakarta, senin (26/12).#mediaindonesia\\n#referensibangsa\\n#covid-19\\n\\nsumber: https://t.co/2rpiuvkuso\n",
      "33                                                               memiliki populasi hingga 65,4 juta jiwa, pemerintah zhejiang mengatakan bahwa ada 13.583 pasien covid-19 yang dirawat di rumah sakit provinsi.#mediaindonesia\\n#referensibangsa\\n#covid-19\\n\\nsumber: https://t.co/kwrhesvr0f\n",
      "34                                          pemeriksaan tes usap pcr dilakukan terhadap seribu  pengungsi. dengan temuan 10 orang yang terkonfirmasi covid-19, kata dia, jumlahnya bisa dikatakan relatif sedikit dibanding jumlah pengungsi yang dites usap pcr.\\n\\n  https://t.co/hyzcft7hmt\n",
      "35                           china memutuskan untuk menghentikan publikasi kasus harian dan kematian akibat covid-19. para pakar kesehatan memperingatkan lonjakan infeksi di china membuka kemungkinan munculnya varian baru covid-19. #internasional #adadikompas\\n\\nhttps://t.co/xuv7zuqfm7\n",
      "...                                                                                                                                                                                                                                                                                        ...\n",
      "36656  sejumlah pemain di 3 liga nasional berbeda, yaitu ibl, liga 1, dan proliga, tertular virus korona. melonjaknya jumlah kasus positif covid-19 menuntut kehati-hatian pihak penyelenggara. #olahraga #adadikompas @kelvinhianusa\\n@fajriansyah1989 @iksanmahar\\n\\nhttps://t.co/bqqudefenn\n",
      "36657                                                                     \"kami terus menyampaikan keprihatinan kami kepada spotify untuk memastikan perubahan pada platformnya dilakukan demi membantu mengatasi krisis kesehatan masyarakat ini...\" juru bicara. \\n\\nhttps://t.co/zl0xzmjeuo\n",
      "36659                langkah pencegahan dan pengobatan sama-sama berperan penting di tengah lonjakan kasus covid-19. langkah ini sebagai upaya persiapan bagi indonesia menghadapi potensi gelombang pasang pandemi. #riset @ddy_afrianto @kompasdata\\n#adadikompas\\n\\nhttps://t.co/zhalbkcovg\n",
      "36660                                                       kabar dari kerabat, sahabat, yang terinfeksi covid-19 bermunculan lagi di media sosial. di sisi lain, kepatuhan terhadap protokol kesehatan di ruang publik kian melonggar. #opini #tajuk #adadikompas \\n\\nhttps://t.co/0apc3rmnwj\n",
      "36663     peningkatan kasus covid-19 dengan penyebaran cepat varian omicron di indonesia disebut epidemiolog sebagai \"kegagalan\" dalam strategi penahanan pandemi, sehingga sulit diharapkan segera berakhir. intervensi pemerintah pun dinilai \"tidak efektif\".  \\n\\nhttps://t.co/3hczsmmvho.\n",
      "\n",
      "[5044 rows x 1 columns]\n"
     ]
    }
   ],
   "source": [
    "pattern_newline = r'\\n'\n",
    "matching_rows_newline = df_re_newline[df_re_newline['lowercase'].str.contains(pattern_newline)]\n",
    "print(matching_rows_newline)"
   ]
  },
  {
   "cell_type": "code",
   "execution_count": 19,
   "id": "219d8923-bfa9-43ed-9c93-b15b154e29f1",
   "metadata": {},
   "outputs": [
    {
     "name": "stdout",
     "output_type": "stream",
     "text": [
      "<class 'pandas.core.frame.DataFrame'>\n",
      "Int64Index: 5044 entries, 28 to 36663\n",
      "Data columns (total 2 columns):\n",
      " #   Column      Non-Null Count  Dtype \n",
      "---  ------      --------------  ----- \n",
      " 0   lowercase   5044 non-null   object\n",
      " 1   re_newline  5044 non-null   object\n",
      "dtypes: object(2)\n",
      "memory usage: 118.2+ KB\n"
     ]
    },
    {
     "name": "stderr",
     "output_type": "stream",
     "text": [
      "C:\\Users\\asus\\AppData\\Local\\Temp\\ipykernel_3340\\2800929330.py:1: SettingWithCopyWarning: \n",
      "A value is trying to be set on a copy of a slice from a DataFrame.\n",
      "Try using .loc[row_indexer,col_indexer] = value instead\n",
      "\n",
      "See the caveats in the documentation: https://pandas.pydata.org/pandas-docs/stable/user_guide/indexing.html#returning-a-view-versus-a-copy\n",
      "  matching_rows_newline['re_newline'] = matching_rows_newline['lowercase'].apply(remove_newline)\n"
     ]
    }
   ],
   "source": [
    "matching_rows_newline['re_newline'] = matching_rows_newline['lowercase'].apply(remove_newline)\n",
    "matching_rows_newline.info()"
   ]
  },
  {
   "cell_type": "code",
   "execution_count": 20,
   "id": "7d1756db-91b3-4eb7-affa-1db194ef912a",
   "metadata": {},
   "outputs": [
    {
     "data": {
      "text/html": [
       "<div>\n",
       "<style scoped>\n",
       "    .dataframe tbody tr th:only-of-type {\n",
       "        vertical-align: middle;\n",
       "    }\n",
       "\n",
       "    .dataframe tbody tr th {\n",
       "        vertical-align: top;\n",
       "    }\n",
       "\n",
       "    .dataframe thead th {\n",
       "        text-align: right;\n",
       "    }\n",
       "</style>\n",
       "<table border=\"1\" class=\"dataframe\">\n",
       "  <thead>\n",
       "    <tr style=\"text-align: right;\">\n",
       "      <th></th>\n",
       "      <th>lowercase</th>\n",
       "      <th>re_newline</th>\n",
       "    </tr>\n",
       "  </thead>\n",
       "  <tbody>\n",
       "    <tr>\n",
       "      <th>28</th>\n",
       "      <td>ada atau tidak ppkm, sebaiknya kita tetap menjaga kesehatan dan menghindari diri dari tertular penyakit. pengalaman pedih covid-19 beri pelajaran, dampak penyakit ini dapat meluluh-lantakkan berbagai sendi kehidupan. #opini #adadikompas\\n\\nhttps://t.co/mdklnpb9hj</td>\n",
       "      <td>ada atau tidak ppkm, sebaiknya kita tetap menjaga kesehatan dan menghindari diri dari tertular penyakit. pengalaman pedih covid-19 beri pelajaran, dampak penyakit ini dapat meluluh-lantakkan berbagai sendi kehidupan. #opini #adadikompas  https://t.co/mdklnpb9hj</td>\n",
       "    </tr>\n",
       "    <tr>\n",
       "      <th>32</th>\n",
       "      <td>\"asal sero survei kita sudah sampai 90%, ya artinya kita kemungkinan sudah baik. ada apapun, dari manapun seharusnya sudah tidak jadi masalah,\" ujar jokowi di jakarta, senin (26/12).#mediaindonesia\\n#referensibangsa\\n#covid-19\\n\\nsumber: https://t.co/2rpiuvkuso</td>\n",
       "      <td>\"asal sero survei kita sudah sampai 90%, ya artinya kita kemungkinan sudah baik. ada apapun, dari manapun seharusnya sudah tidak jadi masalah,\" ujar jokowi di jakarta, senin (26/12).#mediaindonesia #referensibangsa #covid-19  sumber: https://t.co/2rpiuvkuso</td>\n",
       "    </tr>\n",
       "    <tr>\n",
       "      <th>33</th>\n",
       "      <td>memiliki populasi hingga 65,4 juta jiwa, pemerintah zhejiang mengatakan bahwa ada 13.583 pasien covid-19 yang dirawat di rumah sakit provinsi.#mediaindonesia\\n#referensibangsa\\n#covid-19\\n\\nsumber: https://t.co/kwrhesvr0f</td>\n",
       "      <td>memiliki populasi hingga 65,4 juta jiwa, pemerintah zhejiang mengatakan bahwa ada 13.583 pasien covid-19 yang dirawat di rumah sakit provinsi.#mediaindonesia #referensibangsa #covid-19  sumber: https://t.co/kwrhesvr0f</td>\n",
       "    </tr>\n",
       "    <tr>\n",
       "      <th>34</th>\n",
       "      <td>pemeriksaan tes usap pcr dilakukan terhadap seribu  pengungsi. dengan temuan 10 orang yang terkonfirmasi covid-19, kata dia, jumlahnya bisa dikatakan relatif sedikit dibanding jumlah pengungsi yang dites usap pcr.\\n\\n  https://t.co/hyzcft7hmt</td>\n",
       "      <td>pemeriksaan tes usap pcr dilakukan terhadap seribu  pengungsi. dengan temuan 10 orang yang terkonfirmasi covid-19, kata dia, jumlahnya bisa dikatakan relatif sedikit dibanding jumlah pengungsi yang dites usap pcr.    https://t.co/hyzcft7hmt</td>\n",
       "    </tr>\n",
       "    <tr>\n",
       "      <th>35</th>\n",
       "      <td>china memutuskan untuk menghentikan publikasi kasus harian dan kematian akibat covid-19. para pakar kesehatan memperingatkan lonjakan infeksi di china membuka kemungkinan munculnya varian baru covid-19. #internasional #adadikompas\\n\\nhttps://t.co/xuv7zuqfm7</td>\n",
       "      <td>china memutuskan untuk menghentikan publikasi kasus harian dan kematian akibat covid-19. para pakar kesehatan memperingatkan lonjakan infeksi di china membuka kemungkinan munculnya varian baru covid-19. #internasional #adadikompas  https://t.co/xuv7zuqfm7</td>\n",
       "    </tr>\n",
       "  </tbody>\n",
       "</table>\n",
       "</div>"
      ],
      "text/plain": [
       "                                                                                                                                                                                                                                                                  lowercase  \\\n",
       "28  ada atau tidak ppkm, sebaiknya kita tetap menjaga kesehatan dan menghindari diri dari tertular penyakit. pengalaman pedih covid-19 beri pelajaran, dampak penyakit ini dapat meluluh-lantakkan berbagai sendi kehidupan. #opini #adadikompas\\n\\nhttps://t.co/mdklnpb9hj   \n",
       "32    \"asal sero survei kita sudah sampai 90%, ya artinya kita kemungkinan sudah baik. ada apapun, dari manapun seharusnya sudah tidak jadi masalah,\" ujar jokowi di jakarta, senin (26/12).#mediaindonesia\\n#referensibangsa\\n#covid-19\\n\\nsumber: https://t.co/2rpiuvkuso   \n",
       "33                                            memiliki populasi hingga 65,4 juta jiwa, pemerintah zhejiang mengatakan bahwa ada 13.583 pasien covid-19 yang dirawat di rumah sakit provinsi.#mediaindonesia\\n#referensibangsa\\n#covid-19\\n\\nsumber: https://t.co/kwrhesvr0f   \n",
       "34                       pemeriksaan tes usap pcr dilakukan terhadap seribu  pengungsi. dengan temuan 10 orang yang terkonfirmasi covid-19, kata dia, jumlahnya bisa dikatakan relatif sedikit dibanding jumlah pengungsi yang dites usap pcr.\\n\\n  https://t.co/hyzcft7hmt   \n",
       "35        china memutuskan untuk menghentikan publikasi kasus harian dan kematian akibat covid-19. para pakar kesehatan memperingatkan lonjakan infeksi di china membuka kemungkinan munculnya varian baru covid-19. #internasional #adadikompas\\n\\nhttps://t.co/xuv7zuqfm7   \n",
       "\n",
       "                                                                                                                                                                                                                                                               re_newline  \n",
       "28  ada atau tidak ppkm, sebaiknya kita tetap menjaga kesehatan dan menghindari diri dari tertular penyakit. pengalaman pedih covid-19 beri pelajaran, dampak penyakit ini dapat meluluh-lantakkan berbagai sendi kehidupan. #opini #adadikompas  https://t.co/mdklnpb9hj  \n",
       "32      \"asal sero survei kita sudah sampai 90%, ya artinya kita kemungkinan sudah baik. ada apapun, dari manapun seharusnya sudah tidak jadi masalah,\" ujar jokowi di jakarta, senin (26/12).#mediaindonesia #referensibangsa #covid-19  sumber: https://t.co/2rpiuvkuso  \n",
       "33                                              memiliki populasi hingga 65,4 juta jiwa, pemerintah zhejiang mengatakan bahwa ada 13.583 pasien covid-19 yang dirawat di rumah sakit provinsi.#mediaindonesia #referensibangsa #covid-19  sumber: https://t.co/kwrhesvr0f  \n",
       "34                       pemeriksaan tes usap pcr dilakukan terhadap seribu  pengungsi. dengan temuan 10 orang yang terkonfirmasi covid-19, kata dia, jumlahnya bisa dikatakan relatif sedikit dibanding jumlah pengungsi yang dites usap pcr.    https://t.co/hyzcft7hmt  \n",
       "35        china memutuskan untuk menghentikan publikasi kasus harian dan kematian akibat covid-19. para pakar kesehatan memperingatkan lonjakan infeksi di china membuka kemungkinan munculnya varian baru covid-19. #internasional #adadikompas  https://t.co/xuv7zuqfm7  "
      ]
     },
     "execution_count": 20,
     "metadata": {},
     "output_type": "execute_result"
    }
   ],
   "source": [
    "matching_rows_newline.head()"
   ]
  },
  {
   "cell_type": "code",
   "execution_count": 21,
   "id": "da75bc24-d16b-49ad-9af5-af31ba785c11",
   "metadata": {},
   "outputs": [
    {
     "name": "stdout",
     "output_type": "stream",
     "text": [
      "<class 'pandas.core.frame.DataFrame'>\n",
      "Int64Index: 36618 entries, 0 to 36664\n",
      "Data columns (total 2 columns):\n",
      " #   Column      Non-Null Count  Dtype \n",
      "---  ------      --------------  ----- \n",
      " 0   lowercase   36618 non-null  object\n",
      " 1   re_newline  36618 non-null  object\n",
      "dtypes: object(2)\n",
      "memory usage: 858.2+ KB\n"
     ]
    }
   ],
   "source": [
    "df_re_newline['re_newline'] = df_re_newline['lowercase'].apply(remove_newline)\n",
    "df_re_newline.info()"
   ]
  },
  {
   "cell_type": "code",
   "execution_count": 22,
   "id": "09cf7cac-26b4-42b3-9840-d094fb960d49",
   "metadata": {},
   "outputs": [
    {
     "data": {
      "text/html": [
       "<div>\n",
       "<style scoped>\n",
       "    .dataframe tbody tr th:only-of-type {\n",
       "        vertical-align: middle;\n",
       "    }\n",
       "\n",
       "    .dataframe tbody tr th {\n",
       "        vertical-align: top;\n",
       "    }\n",
       "\n",
       "    .dataframe thead th {\n",
       "        text-align: right;\n",
       "    }\n",
       "</style>\n",
       "<table border=\"1\" class=\"dataframe\">\n",
       "  <thead>\n",
       "    <tr style=\"text-align: right;\">\n",
       "      <th></th>\n",
       "      <th>lowercase</th>\n",
       "      <th>re_newline</th>\n",
       "    </tr>\n",
       "  </thead>\n",
       "  <tbody>\n",
       "    <tr>\n",
       "      <th>25</th>\n",
       "      <td>dosen universitas gadjah mada (ugm) menjelaskan, hiposmia adalah salah satu gejala penurunan kemampuan membau terhadap sesuatu. https://t.co/xuaqqazvma</td>\n",
       "      <td>dosen universitas gadjah mada (ugm) menjelaskan, hiposmia adalah salah satu gejala penurunan kemampuan membau terhadap sesuatu. https://t.co/xuaqqazvma</td>\n",
       "    </tr>\n",
       "    <tr>\n",
       "      <th>26</th>\n",
       "      <td>pemerintah mulai percaya diri meninggalkan pandemi covid-19. di sisi lain masih sangat mungkin gelombang peningkatan kasus covid-19 kembali terjadi. https://t.co/dr93yubhzs</td>\n",
       "      <td>pemerintah mulai percaya diri meninggalkan pandemi covid-19. di sisi lain masih sangat mungkin gelombang peningkatan kasus covid-19 kembali terjadi. https://t.co/dr93yubhzs</td>\n",
       "    </tr>\n",
       "    <tr>\n",
       "      <th>27</th>\n",
       "      <td>giliran jepang melaporkan kekhawatiran tren kasus covid-19. pasalnya, sejumlah anak-anak dalam kondisi sehat meninggal usai terinfeksi varian omicron. https://t.co/coacvsk0li</td>\n",
       "      <td>giliran jepang melaporkan kekhawatiran tren kasus covid-19. pasalnya, sejumlah anak-anak dalam kondisi sehat meninggal usai terinfeksi varian omicron. https://t.co/coacvsk0li</td>\n",
       "    </tr>\n",
       "    <tr>\n",
       "      <th>28</th>\n",
       "      <td>ada atau tidak ppkm, sebaiknya kita tetap menjaga kesehatan dan menghindari diri dari tertular penyakit. pengalaman pedih covid-19 beri pelajaran, dampak penyakit ini dapat meluluh-lantakkan berbagai sendi kehidupan. #opini #adadikompas\\n\\nhttps://t.co/mdklnpb9hj</td>\n",
       "      <td>ada atau tidak ppkm, sebaiknya kita tetap menjaga kesehatan dan menghindari diri dari tertular penyakit. pengalaman pedih covid-19 beri pelajaran, dampak penyakit ini dapat meluluh-lantakkan berbagai sendi kehidupan. #opini #adadikompas  https://t.co/mdklnpb9hj</td>\n",
       "    </tr>\n",
       "    <tr>\n",
       "      <th>29</th>\n",
       "      <td>koordinator tim pakar dan juru bicara pemerintah untuk penanganan covid-19 prof wiku adisasmito mengingatkan bahwa kesadaran masyarakat untuk menerapkan protokol kesehatan merupakan kunci utama agar jumlah kasus covid-19 tetap rendah.  https://t.co/odump3lipa</td>\n",
       "      <td>koordinator tim pakar dan juru bicara pemerintah untuk penanganan covid-19 prof wiku adisasmito mengingatkan bahwa kesadaran masyarakat untuk menerapkan protokol kesehatan merupakan kunci utama agar jumlah kasus covid-19 tetap rendah.  https://t.co/odump3lipa</td>\n",
       "    </tr>\n",
       "    <tr>\n",
       "      <th>30</th>\n",
       "      <td>68,33 juta warga indonesia sudah mendapat vaksinasi covid-19 penguat https://t.co/iyf0hzenjh</td>\n",
       "      <td>68,33 juta warga indonesia sudah mendapat vaksinasi covid-19 penguat https://t.co/iyf0hzenjh</td>\n",
       "    </tr>\n",
       "    <tr>\n",
       "      <th>31</th>\n",
       "      <td>peningkatan kasus covid-19 di tiongkok diharapkan tidak pengaruhi situasi di indonesia  https://t.co/gnktskeqmk</td>\n",
       "      <td>peningkatan kasus covid-19 di tiongkok diharapkan tidak pengaruhi situasi di indonesia  https://t.co/gnktskeqmk</td>\n",
       "    </tr>\n",
       "    <tr>\n",
       "      <th>32</th>\n",
       "      <td>\"asal sero survei kita sudah sampai 90%, ya artinya kita kemungkinan sudah baik. ada apapun, dari manapun seharusnya sudah tidak jadi masalah,\" ujar jokowi di jakarta, senin (26/12).#mediaindonesia\\n#referensibangsa\\n#covid-19\\n\\nsumber: https://t.co/2rpiuvkuso</td>\n",
       "      <td>\"asal sero survei kita sudah sampai 90%, ya artinya kita kemungkinan sudah baik. ada apapun, dari manapun seharusnya sudah tidak jadi masalah,\" ujar jokowi di jakarta, senin (26/12).#mediaindonesia #referensibangsa #covid-19  sumber: https://t.co/2rpiuvkuso</td>\n",
       "    </tr>\n",
       "    <tr>\n",
       "      <th>33</th>\n",
       "      <td>memiliki populasi hingga 65,4 juta jiwa, pemerintah zhejiang mengatakan bahwa ada 13.583 pasien covid-19 yang dirawat di rumah sakit provinsi.#mediaindonesia\\n#referensibangsa\\n#covid-19\\n\\nsumber: https://t.co/kwrhesvr0f</td>\n",
       "      <td>memiliki populasi hingga 65,4 juta jiwa, pemerintah zhejiang mengatakan bahwa ada 13.583 pasien covid-19 yang dirawat di rumah sakit provinsi.#mediaindonesia #referensibangsa #covid-19  sumber: https://t.co/kwrhesvr0f</td>\n",
       "    </tr>\n",
       "    <tr>\n",
       "      <th>34</th>\n",
       "      <td>pemeriksaan tes usap pcr dilakukan terhadap seribu  pengungsi. dengan temuan 10 orang yang terkonfirmasi covid-19, kata dia, jumlahnya bisa dikatakan relatif sedikit dibanding jumlah pengungsi yang dites usap pcr.\\n\\n  https://t.co/hyzcft7hmt</td>\n",
       "      <td>pemeriksaan tes usap pcr dilakukan terhadap seribu  pengungsi. dengan temuan 10 orang yang terkonfirmasi covid-19, kata dia, jumlahnya bisa dikatakan relatif sedikit dibanding jumlah pengungsi yang dites usap pcr.    https://t.co/hyzcft7hmt</td>\n",
       "    </tr>\n",
       "  </tbody>\n",
       "</table>\n",
       "</div>"
      ],
      "text/plain": [
       "                                                                                                                                                                                                                                                                  lowercase  \\\n",
       "25                                                                                                                  dosen universitas gadjah mada (ugm) menjelaskan, hiposmia adalah salah satu gejala penurunan kemampuan membau terhadap sesuatu. https://t.co/xuaqqazvma   \n",
       "26                                                                                             pemerintah mulai percaya diri meninggalkan pandemi covid-19. di sisi lain masih sangat mungkin gelombang peningkatan kasus covid-19 kembali terjadi. https://t.co/dr93yubhzs   \n",
       "27                                                                                           giliran jepang melaporkan kekhawatiran tren kasus covid-19. pasalnya, sejumlah anak-anak dalam kondisi sehat meninggal usai terinfeksi varian omicron. https://t.co/coacvsk0li   \n",
       "28  ada atau tidak ppkm, sebaiknya kita tetap menjaga kesehatan dan menghindari diri dari tertular penyakit. pengalaman pedih covid-19 beri pelajaran, dampak penyakit ini dapat meluluh-lantakkan berbagai sendi kehidupan. #opini #adadikompas\\n\\nhttps://t.co/mdklnpb9hj   \n",
       "29      koordinator tim pakar dan juru bicara pemerintah untuk penanganan covid-19 prof wiku adisasmito mengingatkan bahwa kesadaran masyarakat untuk menerapkan protokol kesehatan merupakan kunci utama agar jumlah kasus covid-19 tetap rendah.  https://t.co/odump3lipa   \n",
       "30                                                                                                                                                                             68,33 juta warga indonesia sudah mendapat vaksinasi covid-19 penguat https://t.co/iyf0hzenjh   \n",
       "31                                                                                                                                                          peningkatan kasus covid-19 di tiongkok diharapkan tidak pengaruhi situasi di indonesia  https://t.co/gnktskeqmk   \n",
       "32    \"asal sero survei kita sudah sampai 90%, ya artinya kita kemungkinan sudah baik. ada apapun, dari manapun seharusnya sudah tidak jadi masalah,\" ujar jokowi di jakarta, senin (26/12).#mediaindonesia\\n#referensibangsa\\n#covid-19\\n\\nsumber: https://t.co/2rpiuvkuso   \n",
       "33                                            memiliki populasi hingga 65,4 juta jiwa, pemerintah zhejiang mengatakan bahwa ada 13.583 pasien covid-19 yang dirawat di rumah sakit provinsi.#mediaindonesia\\n#referensibangsa\\n#covid-19\\n\\nsumber: https://t.co/kwrhesvr0f   \n",
       "34                       pemeriksaan tes usap pcr dilakukan terhadap seribu  pengungsi. dengan temuan 10 orang yang terkonfirmasi covid-19, kata dia, jumlahnya bisa dikatakan relatif sedikit dibanding jumlah pengungsi yang dites usap pcr.\\n\\n  https://t.co/hyzcft7hmt   \n",
       "\n",
       "                                                                                                                                                                                                                                                               re_newline  \n",
       "25                                                                                                                dosen universitas gadjah mada (ugm) menjelaskan, hiposmia adalah salah satu gejala penurunan kemampuan membau terhadap sesuatu. https://t.co/xuaqqazvma  \n",
       "26                                                                                           pemerintah mulai percaya diri meninggalkan pandemi covid-19. di sisi lain masih sangat mungkin gelombang peningkatan kasus covid-19 kembali terjadi. https://t.co/dr93yubhzs  \n",
       "27                                                                                         giliran jepang melaporkan kekhawatiran tren kasus covid-19. pasalnya, sejumlah anak-anak dalam kondisi sehat meninggal usai terinfeksi varian omicron. https://t.co/coacvsk0li  \n",
       "28  ada atau tidak ppkm, sebaiknya kita tetap menjaga kesehatan dan menghindari diri dari tertular penyakit. pengalaman pedih covid-19 beri pelajaran, dampak penyakit ini dapat meluluh-lantakkan berbagai sendi kehidupan. #opini #adadikompas  https://t.co/mdklnpb9hj  \n",
       "29    koordinator tim pakar dan juru bicara pemerintah untuk penanganan covid-19 prof wiku adisasmito mengingatkan bahwa kesadaran masyarakat untuk menerapkan protokol kesehatan merupakan kunci utama agar jumlah kasus covid-19 tetap rendah.  https://t.co/odump3lipa  \n",
       "30                                                                                                                                                                           68,33 juta warga indonesia sudah mendapat vaksinasi covid-19 penguat https://t.co/iyf0hzenjh  \n",
       "31                                                                                                                                                        peningkatan kasus covid-19 di tiongkok diharapkan tidak pengaruhi situasi di indonesia  https://t.co/gnktskeqmk  \n",
       "32      \"asal sero survei kita sudah sampai 90%, ya artinya kita kemungkinan sudah baik. ada apapun, dari manapun seharusnya sudah tidak jadi masalah,\" ujar jokowi di jakarta, senin (26/12).#mediaindonesia #referensibangsa #covid-19  sumber: https://t.co/2rpiuvkuso  \n",
       "33                                              memiliki populasi hingga 65,4 juta jiwa, pemerintah zhejiang mengatakan bahwa ada 13.583 pasien covid-19 yang dirawat di rumah sakit provinsi.#mediaindonesia #referensibangsa #covid-19  sumber: https://t.co/kwrhesvr0f  \n",
       "34                       pemeriksaan tes usap pcr dilakukan terhadap seribu  pengungsi. dengan temuan 10 orang yang terkonfirmasi covid-19, kata dia, jumlahnya bisa dikatakan relatif sedikit dibanding jumlah pengungsi yang dites usap pcr.    https://t.co/hyzcft7hmt  "
      ]
     },
     "execution_count": 22,
     "metadata": {},
     "output_type": "execute_result"
    }
   ],
   "source": [
    "df_re_newline.head(35).tail(10)"
   ]
  },
  {
   "cell_type": "markdown",
   "id": "a7e3a959-7357-4f10-ad2f-692d84048685",
   "metadata": {},
   "source": [
    "# Remove hastag"
   ]
  },
  {
   "cell_type": "code",
   "execution_count": 23,
   "id": "1f5bb356-6b83-4f4b-8688-ad38c65af6e8",
   "metadata": {},
   "outputs": [],
   "source": [
    "df_re_hastag = df_re_newline[['re_newline']].copy()"
   ]
  },
  {
   "cell_type": "code",
   "execution_count": 24,
   "id": "29ef4b4d-2031-4470-ba02-ac5ff8e82924",
   "metadata": {},
   "outputs": [
    {
     "data": {
      "text/html": [
       "<div>\n",
       "<style scoped>\n",
       "    .dataframe tbody tr th:only-of-type {\n",
       "        vertical-align: middle;\n",
       "    }\n",
       "\n",
       "    .dataframe tbody tr th {\n",
       "        vertical-align: top;\n",
       "    }\n",
       "\n",
       "    .dataframe thead th {\n",
       "        text-align: right;\n",
       "    }\n",
       "</style>\n",
       "<table border=\"1\" class=\"dataframe\">\n",
       "  <thead>\n",
       "    <tr style=\"text-align: right;\">\n",
       "      <th></th>\n",
       "      <th>re_newline</th>\n",
       "    </tr>\n",
       "  </thead>\n",
       "  <tbody>\n",
       "    <tr>\n",
       "      <th>0</th>\n",
       "      <td>china hapus wajib karantina bagi pelancong asing di saat kasus covid-19 melonjak #lengkapcepatberitanya #beritaterkini #international #beritainternasional . https://t.co/bxroipuuip</td>\n",
       "    </tr>\n",
       "    <tr>\n",
       "      <th>1</th>\n",
       "      <td>covid-19 kembali merebak di china, pencabutan ppkm perlu hati-hati #lengkapcepatberitanya #beritaterkini #berita #news #beritanasional . https://t.co/9vcijm3pkf</td>\n",
       "    </tr>\n",
       "    <tr>\n",
       "      <th>2</th>\n",
       "      <td>sebaran 468 konfirmasi positif covid-19 di indonesia, 6 provinsi nihil kasus #lengkapcepatberitanya #beritaterkini #berita #news #beritanasional . https://t.co/x09mdsugaw</td>\n",
       "    </tr>\n",
       "    <tr>\n",
       "      <th>3</th>\n",
       "      <td>'update' covid-19 per senin 26 desember 2022: positif 6.716.592 orang, sembuh 6.538.568 dan meninggal 160.551 #lengkapcepatberitanya #beritaterkini #berita #news #beritanasional . https://t.co/xsxwxuolhy</td>\n",
       "    </tr>\n",
       "    <tr>\n",
       "      <th>4</th>\n",
       "      <td>positif covid di ri tambah 468, pasien sembuh 3.212 orang https://t.co/kqe5ycg525</td>\n",
       "    </tr>\n",
       "  </tbody>\n",
       "</table>\n",
       "</div>"
      ],
      "text/plain": [
       "                                                                                                                                                                                                    re_newline\n",
       "0                         china hapus wajib karantina bagi pelancong asing di saat kasus covid-19 melonjak #lengkapcepatberitanya #beritaterkini #international #beritainternasional . https://t.co/bxroipuuip\n",
       "1                                             covid-19 kembali merebak di china, pencabutan ppkm perlu hati-hati #lengkapcepatberitanya #beritaterkini #berita #news #beritanasional . https://t.co/9vcijm3pkf\n",
       "2                                   sebaran 468 konfirmasi positif covid-19 di indonesia, 6 provinsi nihil kasus #lengkapcepatberitanya #beritaterkini #berita #news #beritanasional . https://t.co/x09mdsugaw\n",
       "3  'update' covid-19 per senin 26 desember 2022: positif 6.716.592 orang, sembuh 6.538.568 dan meninggal 160.551 #lengkapcepatberitanya #beritaterkini #berita #news #beritanasional . https://t.co/xsxwxuolhy\n",
       "4                                                                                                                            positif covid di ri tambah 468, pasien sembuh 3.212 orang https://t.co/kqe5ycg525"
      ]
     },
     "execution_count": 24,
     "metadata": {},
     "output_type": "execute_result"
    }
   ],
   "source": [
    "df_re_hastag.head()"
   ]
  },
  {
   "cell_type": "code",
   "execution_count": 25,
   "id": "33d9586c-20ba-47cd-b915-520aa176db2a",
   "metadata": {},
   "outputs": [
    {
     "name": "stdout",
     "output_type": "stream",
     "text": [
      "<class 'pandas.core.frame.DataFrame'>\n",
      "Int64Index: 36618 entries, 0 to 36664\n",
      "Data columns (total 2 columns):\n",
      " #   Column      Non-Null Count  Dtype \n",
      "---  ------      --------------  ----- \n",
      " 0   re_newline  36618 non-null  object\n",
      " 1   re_hastag   36618 non-null  object\n",
      "dtypes: object(2)\n",
      "memory usage: 858.2+ KB\n"
     ]
    }
   ],
   "source": [
    "df_re_hastag['re_hastag'] = df_re_hastag['re_newline'].apply(remove_hastag)\n",
    "df_re_hastag.info()"
   ]
  },
  {
   "cell_type": "code",
   "execution_count": 26,
   "id": "7a73954c-966f-4b86-8de4-c5b6a7394cab",
   "metadata": {},
   "outputs": [
    {
     "data": {
      "text/html": [
       "<div>\n",
       "<style scoped>\n",
       "    .dataframe tbody tr th:only-of-type {\n",
       "        vertical-align: middle;\n",
       "    }\n",
       "\n",
       "    .dataframe tbody tr th {\n",
       "        vertical-align: top;\n",
       "    }\n",
       "\n",
       "    .dataframe thead th {\n",
       "        text-align: right;\n",
       "    }\n",
       "</style>\n",
       "<table border=\"1\" class=\"dataframe\">\n",
       "  <thead>\n",
       "    <tr style=\"text-align: right;\">\n",
       "      <th></th>\n",
       "      <th>re_newline</th>\n",
       "      <th>re_hastag</th>\n",
       "    </tr>\n",
       "  </thead>\n",
       "  <tbody>\n",
       "    <tr>\n",
       "      <th>0</th>\n",
       "      <td>china hapus wajib karantina bagi pelancong asing di saat kasus covid-19 melonjak #lengkapcepatberitanya #beritaterkini #international #beritainternasional . https://t.co/bxroipuuip</td>\n",
       "      <td>china hapus wajib karantina bagi pelancong asing di saat kasus covid-19 melonjak     . https://t.co/bxroipuuip</td>\n",
       "    </tr>\n",
       "    <tr>\n",
       "      <th>1</th>\n",
       "      <td>covid-19 kembali merebak di china, pencabutan ppkm perlu hati-hati #lengkapcepatberitanya #beritaterkini #berita #news #beritanasional . https://t.co/9vcijm3pkf</td>\n",
       "      <td>covid-19 kembali merebak di china, pencabutan ppkm perlu hati-hati      . https://t.co/9vcijm3pkf</td>\n",
       "    </tr>\n",
       "    <tr>\n",
       "      <th>2</th>\n",
       "      <td>sebaran 468 konfirmasi positif covid-19 di indonesia, 6 provinsi nihil kasus #lengkapcepatberitanya #beritaterkini #berita #news #beritanasional . https://t.co/x09mdsugaw</td>\n",
       "      <td>sebaran 468 konfirmasi positif covid-19 di indonesia, 6 provinsi nihil kasus      . https://t.co/x09mdsugaw</td>\n",
       "    </tr>\n",
       "    <tr>\n",
       "      <th>3</th>\n",
       "      <td>'update' covid-19 per senin 26 desember 2022: positif 6.716.592 orang, sembuh 6.538.568 dan meninggal 160.551 #lengkapcepatberitanya #beritaterkini #berita #news #beritanasional . https://t.co/xsxwxuolhy</td>\n",
       "      <td>'update' covid-19 per senin 26 desember 2022: positif 6.716.592 orang, sembuh 6.538.568 dan meninggal 160.551      . https://t.co/xsxwxuolhy</td>\n",
       "    </tr>\n",
       "    <tr>\n",
       "      <th>4</th>\n",
       "      <td>positif covid di ri tambah 468, pasien sembuh 3.212 orang https://t.co/kqe5ycg525</td>\n",
       "      <td>positif covid di ri tambah 468, pasien sembuh 3.212 orang https://t.co/kqe5ycg525</td>\n",
       "    </tr>\n",
       "  </tbody>\n",
       "</table>\n",
       "</div>"
      ],
      "text/plain": [
       "                                                                                                                                                                                                    re_newline  \\\n",
       "0                         china hapus wajib karantina bagi pelancong asing di saat kasus covid-19 melonjak #lengkapcepatberitanya #beritaterkini #international #beritainternasional . https://t.co/bxroipuuip   \n",
       "1                                             covid-19 kembali merebak di china, pencabutan ppkm perlu hati-hati #lengkapcepatberitanya #beritaterkini #berita #news #beritanasional . https://t.co/9vcijm3pkf   \n",
       "2                                   sebaran 468 konfirmasi positif covid-19 di indonesia, 6 provinsi nihil kasus #lengkapcepatberitanya #beritaterkini #berita #news #beritanasional . https://t.co/x09mdsugaw   \n",
       "3  'update' covid-19 per senin 26 desember 2022: positif 6.716.592 orang, sembuh 6.538.568 dan meninggal 160.551 #lengkapcepatberitanya #beritaterkini #berita #news #beritanasional . https://t.co/xsxwxuolhy   \n",
       "4                                                                                                                            positif covid di ri tambah 468, pasien sembuh 3.212 orang https://t.co/kqe5ycg525   \n",
       "\n",
       "                                                                                                                                      re_hastag  \n",
       "0                                china hapus wajib karantina bagi pelancong asing di saat kasus covid-19 melonjak     . https://t.co/bxroipuuip  \n",
       "1                                             covid-19 kembali merebak di china, pencabutan ppkm perlu hati-hati      . https://t.co/9vcijm3pkf  \n",
       "2                                   sebaran 468 konfirmasi positif covid-19 di indonesia, 6 provinsi nihil kasus      . https://t.co/x09mdsugaw  \n",
       "3  'update' covid-19 per senin 26 desember 2022: positif 6.716.592 orang, sembuh 6.538.568 dan meninggal 160.551      . https://t.co/xsxwxuolhy  \n",
       "4                                                             positif covid di ri tambah 468, pasien sembuh 3.212 orang https://t.co/kqe5ycg525  "
      ]
     },
     "execution_count": 26,
     "metadata": {},
     "output_type": "execute_result"
    }
   ],
   "source": [
    "df_re_hastag.head()"
   ]
  },
  {
   "cell_type": "markdown",
   "id": "37b72dc2-60d1-4ff2-9338-dd0c902e166d",
   "metadata": {},
   "source": [
    "# Remove Url"
   ]
  },
  {
   "cell_type": "code",
   "execution_count": 27,
   "id": "395ee8c7-eefa-43cb-8bce-0aa95474f561",
   "metadata": {},
   "outputs": [],
   "source": [
    "df_re_url = df_re_hastag[['re_hastag']].copy()"
   ]
  },
  {
   "cell_type": "code",
   "execution_count": 28,
   "id": "1f9e55fc-ebd9-40da-b516-4d421814fcce",
   "metadata": {},
   "outputs": [
    {
     "data": {
      "text/html": [
       "<div>\n",
       "<style scoped>\n",
       "    .dataframe tbody tr th:only-of-type {\n",
       "        vertical-align: middle;\n",
       "    }\n",
       "\n",
       "    .dataframe tbody tr th {\n",
       "        vertical-align: top;\n",
       "    }\n",
       "\n",
       "    .dataframe thead th {\n",
       "        text-align: right;\n",
       "    }\n",
       "</style>\n",
       "<table border=\"1\" class=\"dataframe\">\n",
       "  <thead>\n",
       "    <tr style=\"text-align: right;\">\n",
       "      <th></th>\n",
       "      <th>re_hastag</th>\n",
       "    </tr>\n",
       "  </thead>\n",
       "  <tbody>\n",
       "    <tr>\n",
       "      <th>0</th>\n",
       "      <td>china hapus wajib karantina bagi pelancong asing di saat kasus covid-19 melonjak     . https://t.co/bxroipuuip</td>\n",
       "    </tr>\n",
       "    <tr>\n",
       "      <th>1</th>\n",
       "      <td>covid-19 kembali merebak di china, pencabutan ppkm perlu hati-hati      . https://t.co/9vcijm3pkf</td>\n",
       "    </tr>\n",
       "    <tr>\n",
       "      <th>2</th>\n",
       "      <td>sebaran 468 konfirmasi positif covid-19 di indonesia, 6 provinsi nihil kasus      . https://t.co/x09mdsugaw</td>\n",
       "    </tr>\n",
       "    <tr>\n",
       "      <th>3</th>\n",
       "      <td>'update' covid-19 per senin 26 desember 2022: positif 6.716.592 orang, sembuh 6.538.568 dan meninggal 160.551      . https://t.co/xsxwxuolhy</td>\n",
       "    </tr>\n",
       "    <tr>\n",
       "      <th>4</th>\n",
       "      <td>positif covid di ri tambah 468, pasien sembuh 3.212 orang https://t.co/kqe5ycg525</td>\n",
       "    </tr>\n",
       "  </tbody>\n",
       "</table>\n",
       "</div>"
      ],
      "text/plain": [
       "                                                                                                                                      re_hastag\n",
       "0                                china hapus wajib karantina bagi pelancong asing di saat kasus covid-19 melonjak     . https://t.co/bxroipuuip\n",
       "1                                             covid-19 kembali merebak di china, pencabutan ppkm perlu hati-hati      . https://t.co/9vcijm3pkf\n",
       "2                                   sebaran 468 konfirmasi positif covid-19 di indonesia, 6 provinsi nihil kasus      . https://t.co/x09mdsugaw\n",
       "3  'update' covid-19 per senin 26 desember 2022: positif 6.716.592 orang, sembuh 6.538.568 dan meninggal 160.551      . https://t.co/xsxwxuolhy\n",
       "4                                                             positif covid di ri tambah 468, pasien sembuh 3.212 orang https://t.co/kqe5ycg525"
      ]
     },
     "execution_count": 28,
     "metadata": {},
     "output_type": "execute_result"
    }
   ],
   "source": [
    "df_re_url.head()"
   ]
  },
  {
   "cell_type": "code",
   "execution_count": 29,
   "id": "cd5590f3-380b-4d5d-a375-f30cacfaf0e7",
   "metadata": {},
   "outputs": [
    {
     "name": "stdout",
     "output_type": "stream",
     "text": [
      "<class 'pandas.core.frame.DataFrame'>\n",
      "Int64Index: 36618 entries, 0 to 36664\n",
      "Data columns (total 2 columns):\n",
      " #   Column     Non-Null Count  Dtype \n",
      "---  ------     --------------  ----- \n",
      " 0   re_hastag  36618 non-null  object\n",
      " 1   re_url     36618 non-null  object\n",
      "dtypes: object(2)\n",
      "memory usage: 858.2+ KB\n"
     ]
    }
   ],
   "source": [
    "df_re_url['re_url'] = df_re_url['re_hastag'].apply(remove_url)\n",
    "df_re_url.info()"
   ]
  },
  {
   "cell_type": "code",
   "execution_count": 30,
   "id": "9ef13287-dd8e-42f0-892f-0f58d1109cf4",
   "metadata": {},
   "outputs": [
    {
     "data": {
      "text/html": [
       "<div>\n",
       "<style scoped>\n",
       "    .dataframe tbody tr th:only-of-type {\n",
       "        vertical-align: middle;\n",
       "    }\n",
       "\n",
       "    .dataframe tbody tr th {\n",
       "        vertical-align: top;\n",
       "    }\n",
       "\n",
       "    .dataframe thead th {\n",
       "        text-align: right;\n",
       "    }\n",
       "</style>\n",
       "<table border=\"1\" class=\"dataframe\">\n",
       "  <thead>\n",
       "    <tr style=\"text-align: right;\">\n",
       "      <th></th>\n",
       "      <th>re_hastag</th>\n",
       "      <th>re_url</th>\n",
       "    </tr>\n",
       "  </thead>\n",
       "  <tbody>\n",
       "    <tr>\n",
       "      <th>0</th>\n",
       "      <td>china hapus wajib karantina bagi pelancong asing di saat kasus covid-19 melonjak     . https://t.co/bxroipuuip</td>\n",
       "      <td>china hapus wajib karantina bagi pelancong asing di saat kasus covid-19 melonjak     .</td>\n",
       "    </tr>\n",
       "    <tr>\n",
       "      <th>1</th>\n",
       "      <td>covid-19 kembali merebak di china, pencabutan ppkm perlu hati-hati      . https://t.co/9vcijm3pkf</td>\n",
       "      <td>covid-19 kembali merebak di china, pencabutan ppkm perlu hati-hati      .</td>\n",
       "    </tr>\n",
       "    <tr>\n",
       "      <th>2</th>\n",
       "      <td>sebaran 468 konfirmasi positif covid-19 di indonesia, 6 provinsi nihil kasus      . https://t.co/x09mdsugaw</td>\n",
       "      <td>sebaran 468 konfirmasi positif covid-19 di indonesia, 6 provinsi nihil kasus      .</td>\n",
       "    </tr>\n",
       "    <tr>\n",
       "      <th>3</th>\n",
       "      <td>'update' covid-19 per senin 26 desember 2022: positif 6.716.592 orang, sembuh 6.538.568 dan meninggal 160.551      . https://t.co/xsxwxuolhy</td>\n",
       "      <td>'update' covid-19 per senin 26 desember 2022: positif 6.716.592 orang, sembuh 6.538.568 dan meninggal 160.551      .</td>\n",
       "    </tr>\n",
       "    <tr>\n",
       "      <th>4</th>\n",
       "      <td>positif covid di ri tambah 468, pasien sembuh 3.212 orang https://t.co/kqe5ycg525</td>\n",
       "      <td>positif covid di ri tambah 468, pasien sembuh 3.212 orang</td>\n",
       "    </tr>\n",
       "  </tbody>\n",
       "</table>\n",
       "</div>"
      ],
      "text/plain": [
       "                                                                                                                                      re_hastag  \\\n",
       "0                                china hapus wajib karantina bagi pelancong asing di saat kasus covid-19 melonjak     . https://t.co/bxroipuuip   \n",
       "1                                             covid-19 kembali merebak di china, pencabutan ppkm perlu hati-hati      . https://t.co/9vcijm3pkf   \n",
       "2                                   sebaran 468 konfirmasi positif covid-19 di indonesia, 6 provinsi nihil kasus      . https://t.co/x09mdsugaw   \n",
       "3  'update' covid-19 per senin 26 desember 2022: positif 6.716.592 orang, sembuh 6.538.568 dan meninggal 160.551      . https://t.co/xsxwxuolhy   \n",
       "4                                                             positif covid di ri tambah 468, pasien sembuh 3.212 orang https://t.co/kqe5ycg525   \n",
       "\n",
       "                                                                                                                  re_url  \n",
       "0                                china hapus wajib karantina bagi pelancong asing di saat kasus covid-19 melonjak     .   \n",
       "1                                             covid-19 kembali merebak di china, pencabutan ppkm perlu hati-hati      .   \n",
       "2                                   sebaran 468 konfirmasi positif covid-19 di indonesia, 6 provinsi nihil kasus      .   \n",
       "3  'update' covid-19 per senin 26 desember 2022: positif 6.716.592 orang, sembuh 6.538.568 dan meninggal 160.551      .   \n",
       "4                                                             positif covid di ri tambah 468, pasien sembuh 3.212 orang   "
      ]
     },
     "execution_count": 30,
     "metadata": {},
     "output_type": "execute_result"
    }
   ],
   "source": [
    "df_re_url.head()"
   ]
  },
  {
   "cell_type": "markdown",
   "id": "7e15f755-7363-413a-8537-801f29c913f7",
   "metadata": {},
   "source": [
    "# Remove Punctuation"
   ]
  },
  {
   "cell_type": "code",
   "execution_count": 31,
   "id": "685356db-1923-4578-8115-be7afdbadeef",
   "metadata": {},
   "outputs": [],
   "source": [
    "df_re_punct = df_re_url[['re_url']].copy()"
   ]
  },
  {
   "cell_type": "code",
   "execution_count": 32,
   "id": "ed7ccbd6-bc43-4e0a-b0c2-f19cfdc778c9",
   "metadata": {},
   "outputs": [
    {
     "data": {
      "text/html": [
       "<div>\n",
       "<style scoped>\n",
       "    .dataframe tbody tr th:only-of-type {\n",
       "        vertical-align: middle;\n",
       "    }\n",
       "\n",
       "    .dataframe tbody tr th {\n",
       "        vertical-align: top;\n",
       "    }\n",
       "\n",
       "    .dataframe thead th {\n",
       "        text-align: right;\n",
       "    }\n",
       "</style>\n",
       "<table border=\"1\" class=\"dataframe\">\n",
       "  <thead>\n",
       "    <tr style=\"text-align: right;\">\n",
       "      <th></th>\n",
       "      <th>re_url</th>\n",
       "    </tr>\n",
       "  </thead>\n",
       "  <tbody>\n",
       "    <tr>\n",
       "      <th>0</th>\n",
       "      <td>china hapus wajib karantina bagi pelancong asing di saat kasus covid-19 melonjak     .</td>\n",
       "    </tr>\n",
       "    <tr>\n",
       "      <th>1</th>\n",
       "      <td>covid-19 kembali merebak di china, pencabutan ppkm perlu hati-hati      .</td>\n",
       "    </tr>\n",
       "    <tr>\n",
       "      <th>2</th>\n",
       "      <td>sebaran 468 konfirmasi positif covid-19 di indonesia, 6 provinsi nihil kasus      .</td>\n",
       "    </tr>\n",
       "    <tr>\n",
       "      <th>3</th>\n",
       "      <td>'update' covid-19 per senin 26 desember 2022: positif 6.716.592 orang, sembuh 6.538.568 dan meninggal 160.551      .</td>\n",
       "    </tr>\n",
       "    <tr>\n",
       "      <th>4</th>\n",
       "      <td>positif covid di ri tambah 468, pasien sembuh 3.212 orang</td>\n",
       "    </tr>\n",
       "  </tbody>\n",
       "</table>\n",
       "</div>"
      ],
      "text/plain": [
       "                                                                                                                  re_url\n",
       "0                                china hapus wajib karantina bagi pelancong asing di saat kasus covid-19 melonjak     . \n",
       "1                                             covid-19 kembali merebak di china, pencabutan ppkm perlu hati-hati      . \n",
       "2                                   sebaran 468 konfirmasi positif covid-19 di indonesia, 6 provinsi nihil kasus      . \n",
       "3  'update' covid-19 per senin 26 desember 2022: positif 6.716.592 orang, sembuh 6.538.568 dan meninggal 160.551      . \n",
       "4                                                             positif covid di ri tambah 468, pasien sembuh 3.212 orang "
      ]
     },
     "execution_count": 32,
     "metadata": {},
     "output_type": "execute_result"
    }
   ],
   "source": [
    "df_re_punct.head()"
   ]
  },
  {
   "cell_type": "code",
   "execution_count": 33,
   "id": "4e9ec467-e80f-4e06-b83c-e614e3a724e3",
   "metadata": {},
   "outputs": [
    {
     "name": "stdout",
     "output_type": "stream",
     "text": [
      "<class 'pandas.core.frame.DataFrame'>\n",
      "Int64Index: 36618 entries, 0 to 36664\n",
      "Data columns (total 2 columns):\n",
      " #   Column    Non-Null Count  Dtype \n",
      "---  ------    --------------  ----- \n",
      " 0   re_url    36618 non-null  object\n",
      " 1   re_punct  36618 non-null  object\n",
      "dtypes: object(2)\n",
      "memory usage: 858.2+ KB\n"
     ]
    }
   ],
   "source": [
    "df_re_punct['re_punct'] = df_re_punct['re_url'].apply(remove_punctuation)\n",
    "df_re_punct.info()"
   ]
  },
  {
   "cell_type": "code",
   "execution_count": 34,
   "id": "1c17fcd2-d811-4f42-8227-8f32698d1241",
   "metadata": {},
   "outputs": [
    {
     "data": {
      "text/html": [
       "<div>\n",
       "<style scoped>\n",
       "    .dataframe tbody tr th:only-of-type {\n",
       "        vertical-align: middle;\n",
       "    }\n",
       "\n",
       "    .dataframe tbody tr th {\n",
       "        vertical-align: top;\n",
       "    }\n",
       "\n",
       "    .dataframe thead th {\n",
       "        text-align: right;\n",
       "    }\n",
       "</style>\n",
       "<table border=\"1\" class=\"dataframe\">\n",
       "  <thead>\n",
       "    <tr style=\"text-align: right;\">\n",
       "      <th></th>\n",
       "      <th>re_url</th>\n",
       "      <th>re_punct</th>\n",
       "    </tr>\n",
       "  </thead>\n",
       "  <tbody>\n",
       "    <tr>\n",
       "      <th>0</th>\n",
       "      <td>china hapus wajib karantina bagi pelancong asing di saat kasus covid-19 melonjak     .</td>\n",
       "      <td>china hapus wajib karantina bagi pelancong asing di saat kasus covid19 melonjak</td>\n",
       "    </tr>\n",
       "    <tr>\n",
       "      <th>1</th>\n",
       "      <td>covid-19 kembali merebak di china, pencabutan ppkm perlu hati-hati      .</td>\n",
       "      <td>covid19 kembali merebak di china pencabutan ppkm perlu hatihati</td>\n",
       "    </tr>\n",
       "    <tr>\n",
       "      <th>2</th>\n",
       "      <td>sebaran 468 konfirmasi positif covid-19 di indonesia, 6 provinsi nihil kasus      .</td>\n",
       "      <td>sebaran 468 konfirmasi positif covid19 di indonesia 6 provinsi nihil kasus</td>\n",
       "    </tr>\n",
       "    <tr>\n",
       "      <th>3</th>\n",
       "      <td>'update' covid-19 per senin 26 desember 2022: positif 6.716.592 orang, sembuh 6.538.568 dan meninggal 160.551      .</td>\n",
       "      <td>update covid19 per senin 26 desember 2022 positif 6716592 orang sembuh 6538568 dan meninggal 160551</td>\n",
       "    </tr>\n",
       "    <tr>\n",
       "      <th>4</th>\n",
       "      <td>positif covid di ri tambah 468, pasien sembuh 3.212 orang</td>\n",
       "      <td>positif covid di ri tambah 468 pasien sembuh 3212 orang</td>\n",
       "    </tr>\n",
       "  </tbody>\n",
       "</table>\n",
       "</div>"
      ],
      "text/plain": [
       "                                                                                                                  re_url  \\\n",
       "0                                china hapus wajib karantina bagi pelancong asing di saat kasus covid-19 melonjak     .    \n",
       "1                                             covid-19 kembali merebak di china, pencabutan ppkm perlu hati-hati      .    \n",
       "2                                   sebaran 468 konfirmasi positif covid-19 di indonesia, 6 provinsi nihil kasus      .    \n",
       "3  'update' covid-19 per senin 26 desember 2022: positif 6.716.592 orang, sembuh 6.538.568 dan meninggal 160.551      .    \n",
       "4                                                             positif covid di ri tambah 468, pasien sembuh 3.212 orang    \n",
       "\n",
       "                                                                                                     re_punct  \n",
       "0                       china hapus wajib karantina bagi pelancong asing di saat kasus covid19 melonjak        \n",
       "1                                      covid19 kembali merebak di china pencabutan ppkm perlu hatihati         \n",
       "2                           sebaran 468 konfirmasi positif covid19 di indonesia 6 provinsi nihil kasus         \n",
       "3  update covid19 per senin 26 desember 2022 positif 6716592 orang sembuh 6538568 dan meninggal 160551         \n",
       "4                                                    positif covid di ri tambah 468 pasien sembuh 3212 orang   "
      ]
     },
     "execution_count": 34,
     "metadata": {},
     "output_type": "execute_result"
    }
   ],
   "source": [
    "df_re_punct.head()"
   ]
  },
  {
   "cell_type": "markdown",
   "id": "9f31f68d-772d-4174-8be2-58df768b75ea",
   "metadata": {},
   "source": [
    "# Remove Digits"
   ]
  },
  {
   "cell_type": "code",
   "execution_count": 35,
   "id": "a6ce2dd0-ff15-470f-82fe-ba072ea20d27",
   "metadata": {},
   "outputs": [],
   "source": [
    "df_re_dig = df_re_punct[['re_punct']].copy()"
   ]
  },
  {
   "cell_type": "code",
   "execution_count": 36,
   "id": "0dc0a325-1f2f-48d3-887d-a527fbe36093",
   "metadata": {},
   "outputs": [
    {
     "data": {
      "text/html": [
       "<div>\n",
       "<style scoped>\n",
       "    .dataframe tbody tr th:only-of-type {\n",
       "        vertical-align: middle;\n",
       "    }\n",
       "\n",
       "    .dataframe tbody tr th {\n",
       "        vertical-align: top;\n",
       "    }\n",
       "\n",
       "    .dataframe thead th {\n",
       "        text-align: right;\n",
       "    }\n",
       "</style>\n",
       "<table border=\"1\" class=\"dataframe\">\n",
       "  <thead>\n",
       "    <tr style=\"text-align: right;\">\n",
       "      <th></th>\n",
       "      <th>re_punct</th>\n",
       "    </tr>\n",
       "  </thead>\n",
       "  <tbody>\n",
       "    <tr>\n",
       "      <th>0</th>\n",
       "      <td>china hapus wajib karantina bagi pelancong asing di saat kasus covid19 melonjak</td>\n",
       "    </tr>\n",
       "    <tr>\n",
       "      <th>1</th>\n",
       "      <td>covid19 kembali merebak di china pencabutan ppkm perlu hatihati</td>\n",
       "    </tr>\n",
       "    <tr>\n",
       "      <th>2</th>\n",
       "      <td>sebaran 468 konfirmasi positif covid19 di indonesia 6 provinsi nihil kasus</td>\n",
       "    </tr>\n",
       "    <tr>\n",
       "      <th>3</th>\n",
       "      <td>update covid19 per senin 26 desember 2022 positif 6716592 orang sembuh 6538568 dan meninggal 160551</td>\n",
       "    </tr>\n",
       "    <tr>\n",
       "      <th>4</th>\n",
       "      <td>positif covid di ri tambah 468 pasien sembuh 3212 orang</td>\n",
       "    </tr>\n",
       "  </tbody>\n",
       "</table>\n",
       "</div>"
      ],
      "text/plain": [
       "                                                                                                     re_punct\n",
       "0                       china hapus wajib karantina bagi pelancong asing di saat kasus covid19 melonjak      \n",
       "1                                      covid19 kembali merebak di china pencabutan ppkm perlu hatihati       \n",
       "2                           sebaran 468 konfirmasi positif covid19 di indonesia 6 provinsi nihil kasus       \n",
       "3  update covid19 per senin 26 desember 2022 positif 6716592 orang sembuh 6538568 dan meninggal 160551       \n",
       "4                                                    positif covid di ri tambah 468 pasien sembuh 3212 orang "
      ]
     },
     "execution_count": 36,
     "metadata": {},
     "output_type": "execute_result"
    }
   ],
   "source": [
    "df_re_dig.head()"
   ]
  },
  {
   "cell_type": "code",
   "execution_count": 37,
   "id": "6747bebd-2999-4059-a92e-84bbd369f036",
   "metadata": {},
   "outputs": [
    {
     "name": "stdout",
     "output_type": "stream",
     "text": [
      "<class 'pandas.core.frame.DataFrame'>\n",
      "Int64Index: 36618 entries, 0 to 36664\n",
      "Data columns (total 2 columns):\n",
      " #   Column    Non-Null Count  Dtype \n",
      "---  ------    --------------  ----- \n",
      " 0   re_punct  36618 non-null  object\n",
      " 1   re_dig    36618 non-null  object\n",
      "dtypes: object(2)\n",
      "memory usage: 858.2+ KB\n"
     ]
    }
   ],
   "source": [
    "df_re_dig['re_dig'] = df_re_dig['re_punct'].apply(remove_digits)\n",
    "df_re_dig.info()"
   ]
  },
  {
   "cell_type": "code",
   "execution_count": 38,
   "id": "23802426-39ef-4764-a2a2-7d9936b07776",
   "metadata": {},
   "outputs": [
    {
     "data": {
      "text/html": [
       "<div>\n",
       "<style scoped>\n",
       "    .dataframe tbody tr th:only-of-type {\n",
       "        vertical-align: middle;\n",
       "    }\n",
       "\n",
       "    .dataframe tbody tr th {\n",
       "        vertical-align: top;\n",
       "    }\n",
       "\n",
       "    .dataframe thead th {\n",
       "        text-align: right;\n",
       "    }\n",
       "</style>\n",
       "<table border=\"1\" class=\"dataframe\">\n",
       "  <thead>\n",
       "    <tr style=\"text-align: right;\">\n",
       "      <th></th>\n",
       "      <th>re_punct</th>\n",
       "      <th>re_dig</th>\n",
       "    </tr>\n",
       "  </thead>\n",
       "  <tbody>\n",
       "    <tr>\n",
       "      <th>0</th>\n",
       "      <td>china hapus wajib karantina bagi pelancong asing di saat kasus covid19 melonjak</td>\n",
       "      <td>china hapus wajib karantina bagi pelancong asing di saat kasus covid melonjak</td>\n",
       "    </tr>\n",
       "    <tr>\n",
       "      <th>1</th>\n",
       "      <td>covid19 kembali merebak di china pencabutan ppkm perlu hatihati</td>\n",
       "      <td>covid kembali merebak di china pencabutan ppkm perlu hatihati</td>\n",
       "    </tr>\n",
       "    <tr>\n",
       "      <th>2</th>\n",
       "      <td>sebaran 468 konfirmasi positif covid19 di indonesia 6 provinsi nihil kasus</td>\n",
       "      <td>sebaran  konfirmasi positif covid di indonesia  provinsi nihil kasus</td>\n",
       "    </tr>\n",
       "    <tr>\n",
       "      <th>3</th>\n",
       "      <td>update covid19 per senin 26 desember 2022 positif 6716592 orang sembuh 6538568 dan meninggal 160551</td>\n",
       "      <td>update covid per senin  desember  positif  orang sembuh  dan meninggal</td>\n",
       "    </tr>\n",
       "    <tr>\n",
       "      <th>4</th>\n",
       "      <td>positif covid di ri tambah 468 pasien sembuh 3212 orang</td>\n",
       "      <td>positif covid di ri tambah  pasien sembuh  orang</td>\n",
       "    </tr>\n",
       "    <tr>\n",
       "      <th>5</th>\n",
       "      <td>breaking news  kasus covid19 bertambah 468 hari ini</td>\n",
       "      <td>breaking news  kasus covid bertambah  hari ini</td>\n",
       "    </tr>\n",
       "    <tr>\n",
       "      <th>6</th>\n",
       "      <td>kenapa covid19 di jepang menggila lagi tembus 177 ribu kasus</td>\n",
       "      <td>kenapa covid di jepang menggila lagi tembus  ribu kasus</td>\n",
       "    </tr>\n",
       "    <tr>\n",
       "      <th>7</th>\n",
       "      <td>lonjakan kasus covid19 di china bikin pabrik terpaksa tutup</td>\n",
       "      <td>lonjakan kasus covid di china bikin pabrik terpaksa tutup</td>\n",
       "    </tr>\n",
       "    <tr>\n",
       "      <th>8</th>\n",
       "      <td>covid19 merebak lagi di china bang saleh ingatkan pemerintah</td>\n",
       "      <td>covid merebak lagi di china bang saleh ingatkan pemerintah</td>\n",
       "    </tr>\n",
       "    <tr>\n",
       "      <th>9</th>\n",
       "      <td>kasus covid19 turun rsdc wisma atlet kemayoran segera ditutup</td>\n",
       "      <td>kasus covid turun rsdc wisma atlet kemayoran segera ditutup</td>\n",
       "    </tr>\n",
       "  </tbody>\n",
       "</table>\n",
       "</div>"
      ],
      "text/plain": [
       "                                                                                                     re_punct  \\\n",
       "0                       china hapus wajib karantina bagi pelancong asing di saat kasus covid19 melonjak         \n",
       "1                                      covid19 kembali merebak di china pencabutan ppkm perlu hatihati          \n",
       "2                           sebaran 468 konfirmasi positif covid19 di indonesia 6 provinsi nihil kasus          \n",
       "3  update covid19 per senin 26 desember 2022 positif 6716592 orang sembuh 6538568 dan meninggal 160551          \n",
       "4                                                    positif covid di ri tambah 468 pasien sembuh 3212 orang    \n",
       "5                                                  breaking news  kasus covid19 bertambah 468 hari ini          \n",
       "6                                               kenapa covid19 di jepang menggila lagi tembus 177 ribu kasus    \n",
       "7                                                lonjakan kasus covid19 di china bikin pabrik terpaksa tutup    \n",
       "8                                              covid19 merebak lagi di china bang saleh ingatkan pemerintah     \n",
       "9                                             kasus covid19 turun rsdc wisma atlet kemayoran segera ditutup     \n",
       "\n",
       "                                                                                re_dig  \n",
       "0  china hapus wajib karantina bagi pelancong asing di saat kasus covid melonjak        \n",
       "1                 covid kembali merebak di china pencabutan ppkm perlu hatihati         \n",
       "2          sebaran  konfirmasi positif covid di indonesia  provinsi nihil kasus         \n",
       "3       update covid per senin  desember  positif  orang sembuh  dan meninggal          \n",
       "4                                    positif covid di ri tambah  pasien sembuh  orang   \n",
       "5                                breaking news  kasus covid bertambah  hari ini         \n",
       "6                             kenapa covid di jepang menggila lagi tembus  ribu kasus   \n",
       "7                           lonjakan kasus covid di china bikin pabrik terpaksa tutup   \n",
       "8                         covid merebak lagi di china bang saleh ingatkan pemerintah    \n",
       "9                        kasus covid turun rsdc wisma atlet kemayoran segera ditutup    "
      ]
     },
     "execution_count": 38,
     "metadata": {},
     "output_type": "execute_result"
    }
   ],
   "source": [
    "df_re_dig.head(10)"
   ]
  },
  {
   "cell_type": "markdown",
   "id": "d28efde6-80c5-46f5-9b5c-fc1eed252072",
   "metadata": {
    "tags": []
   },
   "source": [
    "# Remove Emoji"
   ]
  },
  {
   "cell_type": "code",
   "execution_count": 39,
   "id": "cbc654ec-97ec-4440-91da-33c3d95f7ad8",
   "metadata": {},
   "outputs": [
    {
     "name": "stdout",
     "output_type": "stream",
     "text": [
      "<class 'pandas.core.frame.DataFrame'>\n",
      "Int64Index: 36618 entries, 0 to 36664\n",
      "Data columns (total 1 columns):\n",
      " #   Column  Non-Null Count  Dtype \n",
      "---  ------  --------------  ----- \n",
      " 0   re_dig  36618 non-null  object\n",
      "dtypes: object(1)\n",
      "memory usage: 572.2+ KB\n"
     ]
    }
   ],
   "source": [
    "df_re_emoji = df_re_dig[['re_dig']].copy()\n",
    "df_re_emoji.info()"
   ]
  },
  {
   "cell_type": "code",
   "execution_count": 40,
   "id": "1ed57579-0ca0-46d4-b2d5-242619edd75d",
   "metadata": {},
   "outputs": [],
   "source": [
    "def has_emoji(text):\n",
    "    \"\"\"Check if a string contains emojis.\"\"\"\n",
    "    return emoji.emoji_count(text) > 0\n",
    "\n",
    "# Apply the function to the 'text' column\n",
    "emoji_rows = df_re_emoji[df_re_emoji['re_dig'].apply(has_emoji)]"
   ]
  },
  {
   "cell_type": "code",
   "execution_count": 41,
   "id": "ef000540-b957-42be-8369-21f92c26d9e9",
   "metadata": {},
   "outputs": [
    {
     "name": "stdout",
     "output_type": "stream",
     "text": [
      "                                                                                                                                                                                                                                                            re_dig\n",
      "459                                                                                                                      presiden jokowi resmi mencabut ppkm seiring kondisi covid yang makin terkendali apa saja yang berubah cari tahu dalam  berikut yuk👇      \n",
      "1454                                 detikers kini vaksin covid booster kedua atau dosis keempat sudah bisa didapatkan oleh masyarakat umum selain lansia dan tenaga kesehatan  nah bagaimana ya cara mendapatkan vaksin gratis cari tahu infonya dalam  berikut👇 \n",
      "1651                          siapa yang lagi cari lokasi vaksin booster kedua di jabodetabek 😃⁣  pemerintah kini memperbolehkan masyarakat umum untuk mendapatkan vaksin covid booster kedua penyuntikan vaksin ini serentak dimulai dari tanggal  januari ⁣     \n",
      "1667                          siapa yang lagi cari lokasi vaksin booster kedua di jabodetabek 😃⁣  pemerintah kini memperbolehkan masyarakat umum untuk mendapatkan vaksin covid booster kedua penyuntikan vaksin ini serentak dimulai dari tanggal  januari ⁣     \n",
      "2123   wah ternyata indonesia menjadi salah satu negara yang berhasil menangani covid✨  keberhasilan indonesia ini menuai pujian serta apresiasi dari who hingga johns hopkins university lho detikers  yuk intip ungkapan presiden jokowi terkait hal tersebut   \n",
      "...                                                                                                                                                                                                                                                            ...\n",
      "31870                                                                                                                                                              berikut ringkasan berita perkembangan pandemi covid di berbagai belahan dunia pada hari ini 🌏  \n",
      "33077                                                                                                                                                                                  berikut kabar terbaru terkait pandemi covid dari berbagai belahan dunia 🌏  \n",
      "33560                                                                                                                                     indonesia kembali masuk ke dalam fase di mana angka kejadian covid harian mulai meningkat yuk waspadai dari sekarang 😷  \n",
      "35352                                                       selamat pagi sahabat liputandotcom 🙂⁣ jangan lupa untuk bergabung di liputan update jumat  januari  pukul  wib dengan tema desakan penghentian ptm  persen akibat kenaikan kasus covid solusinya      \n",
      "36626                                                                                                                                                                           berikut ringkasan berita perkembangan covid di berbagai belahan dunia hari ini 🌏  \n",
      "\n",
      "[68 rows x 1 columns]\n"
     ]
    }
   ],
   "source": [
    "print(emoji_rows)"
   ]
  },
  {
   "cell_type": "code",
   "execution_count": 42,
   "id": "e93f3146-9c70-44bc-bb5e-8bff881fd7ed",
   "metadata": {},
   "outputs": [
    {
     "name": "stdout",
     "output_type": "stream",
     "text": [
      "<class 'pandas.core.frame.DataFrame'>\n",
      "Int64Index: 68 entries, 459 to 36626\n",
      "Data columns (total 2 columns):\n",
      " #   Column    Non-Null Count  Dtype \n",
      "---  ------    --------------  ----- \n",
      " 0   re_dig    68 non-null     object\n",
      " 1   re_emoji  68 non-null     object\n",
      "dtypes: object(2)\n",
      "memory usage: 1.6+ KB\n"
     ]
    },
    {
     "name": "stderr",
     "output_type": "stream",
     "text": [
      "C:\\Users\\asus\\AppData\\Local\\Temp\\ipykernel_3340\\175959332.py:1: SettingWithCopyWarning: \n",
      "A value is trying to be set on a copy of a slice from a DataFrame.\n",
      "Try using .loc[row_indexer,col_indexer] = value instead\n",
      "\n",
      "See the caveats in the documentation: https://pandas.pydata.org/pandas-docs/stable/user_guide/indexing.html#returning-a-view-versus-a-copy\n",
      "  emoji_rows['re_emoji'] = emoji_rows['re_dig'].apply(remove_emoji)\n"
     ]
    }
   ],
   "source": [
    "emoji_rows['re_emoji'] = emoji_rows['re_dig'].apply(remove_emoji)\n",
    "emoji_rows.info()"
   ]
  },
  {
   "cell_type": "code",
   "execution_count": 43,
   "id": "2da9df2f-757e-4870-911d-5f2ce46fe7db",
   "metadata": {},
   "outputs": [
    {
     "data": {
      "text/html": [
       "<div>\n",
       "<style scoped>\n",
       "    .dataframe tbody tr th:only-of-type {\n",
       "        vertical-align: middle;\n",
       "    }\n",
       "\n",
       "    .dataframe tbody tr th {\n",
       "        vertical-align: top;\n",
       "    }\n",
       "\n",
       "    .dataframe thead th {\n",
       "        text-align: right;\n",
       "    }\n",
       "</style>\n",
       "<table border=\"1\" class=\"dataframe\">\n",
       "  <thead>\n",
       "    <tr style=\"text-align: right;\">\n",
       "      <th></th>\n",
       "      <th>re_dig</th>\n",
       "      <th>re_emoji</th>\n",
       "    </tr>\n",
       "  </thead>\n",
       "  <tbody>\n",
       "    <tr>\n",
       "      <th>459</th>\n",
       "      <td>presiden jokowi resmi mencabut ppkm seiring kondisi covid yang makin terkendali apa saja yang berubah cari tahu dalam  berikut yuk👇</td>\n",
       "      <td>presiden jokowi resmi mencabut ppkm seiring kondisi covid yang makin terkendali apa saja yang berubah cari tahu dalam  berikut yuk</td>\n",
       "    </tr>\n",
       "    <tr>\n",
       "      <th>1454</th>\n",
       "      <td>detikers kini vaksin covid booster kedua atau dosis keempat sudah bisa didapatkan oleh masyarakat umum selain lansia dan tenaga kesehatan  nah bagaimana ya cara mendapatkan vaksin gratis cari tahu infonya dalam  berikut👇</td>\n",
       "      <td>detikers kini vaksin covid booster kedua atau dosis keempat sudah bisa didapatkan oleh masyarakat umum selain lansia dan tenaga kesehatan  nah bagaimana ya cara mendapatkan vaksin gratis cari tahu infonya dalam  berikut</td>\n",
       "    </tr>\n",
       "    <tr>\n",
       "      <th>1651</th>\n",
       "      <td>siapa yang lagi cari lokasi vaksin booster kedua di jabodetabek 😃⁣  pemerintah kini memperbolehkan masyarakat umum untuk mendapatkan vaksin covid booster kedua penyuntikan vaksin ini serentak dimulai dari tanggal  januari ⁣</td>\n",
       "      <td>siapa yang lagi cari lokasi vaksin booster kedua di jabodetabek ⁣  pemerintah kini memperbolehkan masyarakat umum untuk mendapatkan vaksin covid booster kedua penyuntikan vaksin ini serentak dimulai dari tanggal  januari ⁣</td>\n",
       "    </tr>\n",
       "    <tr>\n",
       "      <th>1667</th>\n",
       "      <td>siapa yang lagi cari lokasi vaksin booster kedua di jabodetabek 😃⁣  pemerintah kini memperbolehkan masyarakat umum untuk mendapatkan vaksin covid booster kedua penyuntikan vaksin ini serentak dimulai dari tanggal  januari ⁣</td>\n",
       "      <td>siapa yang lagi cari lokasi vaksin booster kedua di jabodetabek ⁣  pemerintah kini memperbolehkan masyarakat umum untuk mendapatkan vaksin covid booster kedua penyuntikan vaksin ini serentak dimulai dari tanggal  januari ⁣</td>\n",
       "    </tr>\n",
       "    <tr>\n",
       "      <th>2123</th>\n",
       "      <td>wah ternyata indonesia menjadi salah satu negara yang berhasil menangani covid✨  keberhasilan indonesia ini menuai pujian serta apresiasi dari who hingga johns hopkins university lho detikers  yuk intip ungkapan presiden jokowi terkait hal tersebut</td>\n",
       "      <td>wah ternyata indonesia menjadi salah satu negara yang berhasil menangani covid  keberhasilan indonesia ini menuai pujian serta apresiasi dari who hingga johns hopkins university lho detikers  yuk intip ungkapan presiden jokowi terkait hal tersebut</td>\n",
       "    </tr>\n",
       "  </tbody>\n",
       "</table>\n",
       "</div>"
      ],
      "text/plain": [
       "                                                                                                                                                                                                                                                           re_dig  \\\n",
       "459                                                                                                                     presiden jokowi resmi mencabut ppkm seiring kondisi covid yang makin terkendali apa saja yang berubah cari tahu dalam  berikut yuk👇         \n",
       "1454                                detikers kini vaksin covid booster kedua atau dosis keempat sudah bisa didapatkan oleh masyarakat umum selain lansia dan tenaga kesehatan  nah bagaimana ya cara mendapatkan vaksin gratis cari tahu infonya dalam  berikut👇    \n",
       "1651                         siapa yang lagi cari lokasi vaksin booster kedua di jabodetabek 😃⁣  pemerintah kini memperbolehkan masyarakat umum untuk mendapatkan vaksin covid booster kedua penyuntikan vaksin ini serentak dimulai dari tanggal  januari ⁣        \n",
       "1667                         siapa yang lagi cari lokasi vaksin booster kedua di jabodetabek 😃⁣  pemerintah kini memperbolehkan masyarakat umum untuk mendapatkan vaksin covid booster kedua penyuntikan vaksin ini serentak dimulai dari tanggal  januari ⁣        \n",
       "2123  wah ternyata indonesia menjadi salah satu negara yang berhasil menangani covid✨  keberhasilan indonesia ini menuai pujian serta apresiasi dari who hingga johns hopkins university lho detikers  yuk intip ungkapan presiden jokowi terkait hal tersebut      \n",
       "\n",
       "                                                                                                                                                                                                                                                        re_emoji  \n",
       "459                                                                                                                     presiden jokowi resmi mencabut ppkm seiring kondisi covid yang makin terkendali apa saja yang berubah cari tahu dalam  berikut yuk        \n",
       "1454                                detikers kini vaksin covid booster kedua atau dosis keempat sudah bisa didapatkan oleh masyarakat umum selain lansia dan tenaga kesehatan  nah bagaimana ya cara mendapatkan vaksin gratis cari tahu infonya dalam  berikut   \n",
       "1651                         siapa yang lagi cari lokasi vaksin booster kedua di jabodetabek ⁣  pemerintah kini memperbolehkan masyarakat umum untuk mendapatkan vaksin covid booster kedua penyuntikan vaksin ini serentak dimulai dari tanggal  januari ⁣       \n",
       "1667                         siapa yang lagi cari lokasi vaksin booster kedua di jabodetabek ⁣  pemerintah kini memperbolehkan masyarakat umum untuk mendapatkan vaksin covid booster kedua penyuntikan vaksin ini serentak dimulai dari tanggal  januari ⁣       \n",
       "2123  wah ternyata indonesia menjadi salah satu negara yang berhasil menangani covid  keberhasilan indonesia ini menuai pujian serta apresiasi dari who hingga johns hopkins university lho detikers  yuk intip ungkapan presiden jokowi terkait hal tersebut     "
      ]
     },
     "execution_count": 43,
     "metadata": {},
     "output_type": "execute_result"
    }
   ],
   "source": [
    "emoji_rows.head()"
   ]
  },
  {
   "cell_type": "code",
   "execution_count": 44,
   "id": "27035865-1bc3-498c-b43f-a414e93e4f07",
   "metadata": {},
   "outputs": [
    {
     "name": "stdout",
     "output_type": "stream",
     "text": [
      "<class 'pandas.core.frame.DataFrame'>\n",
      "Int64Index: 36618 entries, 0 to 36664\n",
      "Data columns (total 2 columns):\n",
      " #   Column    Non-Null Count  Dtype \n",
      "---  ------    --------------  ----- \n",
      " 0   re_dig    36618 non-null  object\n",
      " 1   re_emoji  36618 non-null  object\n",
      "dtypes: object(2)\n",
      "memory usage: 858.2+ KB\n"
     ]
    }
   ],
   "source": [
    "df_re_emoji['re_emoji'] = df_re_emoji['re_dig'].apply(remove_emoji)\n",
    "df_re_emoji.info()"
   ]
  },
  {
   "cell_type": "code",
   "execution_count": 45,
   "id": "74e65f49-457f-4005-8be6-c52213e3d217",
   "metadata": {},
   "outputs": [
    {
     "data": {
      "text/html": [
       "<div>\n",
       "<style scoped>\n",
       "    .dataframe tbody tr th:only-of-type {\n",
       "        vertical-align: middle;\n",
       "    }\n",
       "\n",
       "    .dataframe tbody tr th {\n",
       "        vertical-align: top;\n",
       "    }\n",
       "\n",
       "    .dataframe thead th {\n",
       "        text-align: right;\n",
       "    }\n",
       "</style>\n",
       "<table border=\"1\" class=\"dataframe\">\n",
       "  <thead>\n",
       "    <tr style=\"text-align: right;\">\n",
       "      <th></th>\n",
       "      <th>re_dig</th>\n",
       "      <th>re_emoji</th>\n",
       "    </tr>\n",
       "  </thead>\n",
       "  <tbody>\n",
       "    <tr>\n",
       "      <th>1649</th>\n",
       "      <td>berikut ini jumlah kasus covid hingga hari ini untuk provinsi aceh sumut sumbar riau kepri jambi dan bengkulu</td>\n",
       "      <td>berikut ini jumlah kasus covid hingga hari ini untuk provinsi aceh sumut sumbar riau kepri jambi dan bengkulu</td>\n",
       "    </tr>\n",
       "    <tr>\n",
       "      <th>1650</th>\n",
       "      <td>china mengeklaim jumlah kematian harian akibat covid turun hampir  persen dibandingkan awal januari    kantor berita afp melaporkan penurunan ini mungkin pertanda lonjakan kasus covid china mulai mereda lt</td>\n",
       "      <td>china mengeklaim jumlah kematian harian akibat covid turun hampir  persen dibandingkan awal januari    kantor berita afp melaporkan penurunan ini mungkin pertanda lonjakan kasus covid china mulai mereda lt</td>\n",
       "    </tr>\n",
       "    <tr>\n",
       "      <th>1651</th>\n",
       "      <td>siapa yang lagi cari lokasi vaksin booster kedua di jabodetabek 😃⁣  pemerintah kini memperbolehkan masyarakat umum untuk mendapatkan vaksin covid booster kedua penyuntikan vaksin ini serentak dimulai dari tanggal  januari ⁣</td>\n",
       "      <td>siapa yang lagi cari lokasi vaksin booster kedua di jabodetabek ⁣  pemerintah kini memperbolehkan masyarakat umum untuk mendapatkan vaksin covid booster kedua penyuntikan vaksin ini serentak dimulai dari tanggal  januari ⁣</td>\n",
       "    </tr>\n",
       "    <tr>\n",
       "      <th>1652</th>\n",
       "      <td>ada  kematian yang disebabkan oleh covid di rumah sakit pada senin  turun  persen dari  januari  kata cdc china</td>\n",
       "      <td>ada  kematian yang disebabkan oleh covid di rumah sakit pada senin  turun  persen dari  januari  kata cdc china</td>\n",
       "    </tr>\n",
       "    <tr>\n",
       "      <th>1653</th>\n",
       "      <td>pandemi covid  munculkan ide usaha rumahan yang kini menghasilkan puluhan juta rupiah</td>\n",
       "      <td>pandemi covid  munculkan ide usaha rumahan yang kini menghasilkan puluhan juta rupiah</td>\n",
       "    </tr>\n",
       "  </tbody>\n",
       "</table>\n",
       "</div>"
      ],
      "text/plain": [
       "                                                                                                                                                                                                                                    re_dig  \\\n",
       "1649                                                                                                                        berikut ini jumlah kasus covid hingga hari ini untuk provinsi aceh sumut sumbar riau kepri jambi dan bengkulu    \n",
       "1650                      china mengeklaim jumlah kematian harian akibat covid turun hampir  persen dibandingkan awal januari    kantor berita afp melaporkan penurunan ini mungkin pertanda lonjakan kasus covid china mulai mereda lt      \n",
       "1651  siapa yang lagi cari lokasi vaksin booster kedua di jabodetabek 😃⁣  pemerintah kini memperbolehkan masyarakat umum untuk mendapatkan vaksin covid booster kedua penyuntikan vaksin ini serentak dimulai dari tanggal  januari ⁣        \n",
       "1652                                                                                                                      ada  kematian yang disebabkan oleh covid di rumah sakit pada senin  turun  persen dari  januari  kata cdc china    \n",
       "1653                                                                                                                                                pandemi covid  munculkan ide usaha rumahan yang kini menghasilkan puluhan juta rupiah    \n",
       "\n",
       "                                                                                                                                                                                                                                 re_emoji  \n",
       "1649                                                                                                                       berikut ini jumlah kasus covid hingga hari ini untuk provinsi aceh sumut sumbar riau kepri jambi dan bengkulu   \n",
       "1650                     china mengeklaim jumlah kematian harian akibat covid turun hampir  persen dibandingkan awal januari    kantor berita afp melaporkan penurunan ini mungkin pertanda lonjakan kasus covid china mulai mereda lt     \n",
       "1651  siapa yang lagi cari lokasi vaksin booster kedua di jabodetabek ⁣  pemerintah kini memperbolehkan masyarakat umum untuk mendapatkan vaksin covid booster kedua penyuntikan vaksin ini serentak dimulai dari tanggal  januari ⁣       \n",
       "1652                                                                                                                     ada  kematian yang disebabkan oleh covid di rumah sakit pada senin  turun  persen dari  januari  kata cdc china   \n",
       "1653                                                                                                                                               pandemi covid  munculkan ide usaha rumahan yang kini menghasilkan puluhan juta rupiah   "
      ]
     },
     "execution_count": 45,
     "metadata": {},
     "output_type": "execute_result"
    }
   ],
   "source": [
    "df_re_emoji.head(1653).tail(5)"
   ]
  },
  {
   "cell_type": "markdown",
   "id": "aadc9606-861a-4e52-8c2e-cb11e15a5366",
   "metadata": {},
   "source": [
    "# export dataset_preprocessing"
   ]
  },
  {
   "cell_type": "code",
   "execution_count": 46,
   "id": "7e33c6f8-072b-47ce-9620-67abbbcd68f9",
   "metadata": {},
   "outputs": [],
   "source": [
    "df_covid_preprocessing = df_re_emoji[['re_emoji']].copy()"
   ]
  },
  {
   "cell_type": "code",
   "execution_count": 47,
   "id": "d8a467f4-0d04-48fb-b228-4072c4cdff6e",
   "metadata": {},
   "outputs": [
    {
     "name": "stdout",
     "output_type": "stream",
     "text": [
      "<class 'pandas.core.frame.DataFrame'>\n",
      "Int64Index: 36618 entries, 0 to 36664\n",
      "Data columns (total 1 columns):\n",
      " #   Column    Non-Null Count  Dtype \n",
      "---  ------    --------------  ----- \n",
      " 0   re_emoji  36618 non-null  object\n",
      "dtypes: object(1)\n",
      "memory usage: 572.2+ KB\n"
     ]
    }
   ],
   "source": [
    "df_covid_preprocessing.info()"
   ]
  },
  {
   "cell_type": "code",
   "execution_count": 48,
   "id": "45dde23b-bdb0-4e95-baf3-43e5dd32827c",
   "metadata": {},
   "outputs": [],
   "source": [
    "df_covid_preprocessing = df_covid_preprocessing.rename(columns={'re_emoji': 'tweets'})"
   ]
  },
  {
   "cell_type": "code",
   "execution_count": 49,
   "id": "f6023ffb-0e37-4504-9260-f74ca9b38046",
   "metadata": {},
   "outputs": [
    {
     "data": {
      "text/html": [
       "<div>\n",
       "<style scoped>\n",
       "    .dataframe tbody tr th:only-of-type {\n",
       "        vertical-align: middle;\n",
       "    }\n",
       "\n",
       "    .dataframe tbody tr th {\n",
       "        vertical-align: top;\n",
       "    }\n",
       "\n",
       "    .dataframe thead th {\n",
       "        text-align: right;\n",
       "    }\n",
       "</style>\n",
       "<table border=\"1\" class=\"dataframe\">\n",
       "  <thead>\n",
       "    <tr style=\"text-align: right;\">\n",
       "      <th></th>\n",
       "      <th>tweets</th>\n",
       "    </tr>\n",
       "  </thead>\n",
       "  <tbody>\n",
       "    <tr>\n",
       "      <th>0</th>\n",
       "      <td>china hapus wajib karantina bagi pelancong asing di saat kasus covid melonjak</td>\n",
       "    </tr>\n",
       "    <tr>\n",
       "      <th>1</th>\n",
       "      <td>covid kembali merebak di china pencabutan ppkm perlu hatihati</td>\n",
       "    </tr>\n",
       "    <tr>\n",
       "      <th>2</th>\n",
       "      <td>sebaran  konfirmasi positif covid di indonesia  provinsi nihil kasus</td>\n",
       "    </tr>\n",
       "    <tr>\n",
       "      <th>3</th>\n",
       "      <td>update covid per senin  desember  positif  orang sembuh  dan meninggal</td>\n",
       "    </tr>\n",
       "    <tr>\n",
       "      <th>4</th>\n",
       "      <td>positif covid di ri tambah  pasien sembuh  orang</td>\n",
       "    </tr>\n",
       "  </tbody>\n",
       "</table>\n",
       "</div>"
      ],
      "text/plain": [
       "                                                                                tweets\n",
       "0  china hapus wajib karantina bagi pelancong asing di saat kasus covid melonjak      \n",
       "1                 covid kembali merebak di china pencabutan ppkm perlu hatihati       \n",
       "2          sebaran  konfirmasi positif covid di indonesia  provinsi nihil kasus       \n",
       "3       update covid per senin  desember  positif  orang sembuh  dan meninggal        \n",
       "4                                    positif covid di ri tambah  pasien sembuh  orang "
      ]
     },
     "execution_count": 49,
     "metadata": {},
     "output_type": "execute_result"
    }
   ],
   "source": [
    "df_covid_preprocessing.head()"
   ]
  },
  {
   "cell_type": "code",
   "execution_count": 50,
   "id": "4933e9da-db29-411b-845f-3bedf5917765",
   "metadata": {},
   "outputs": [
    {
     "name": "stdout",
     "output_type": "stream",
     "text": [
      "<class 'pandas.core.frame.DataFrame'>\n",
      "Int64Index: 36618 entries, 0 to 36664\n",
      "Data columns (total 1 columns):\n",
      " #   Column  Non-Null Count  Dtype \n",
      "---  ------  --------------  ----- \n",
      " 0   tweets  36618 non-null  object\n",
      "dtypes: object(1)\n",
      "memory usage: 572.2+ KB\n"
     ]
    }
   ],
   "source": [
    "df_covid_preprocessing.info()"
   ]
  },
  {
   "cell_type": "code",
   "execution_count": 51,
   "id": "e4d8c55c-b000-46dd-991f-0777f6382f0c",
   "metadata": {},
   "outputs": [],
   "source": [
    "#df_covid_preprocessing.to_csv(\"datasets/covid_preprocessing.csv\", encoding=\"utf-8\", index=False)"
   ]
  },
  {
   "cell_type": "markdown",
   "id": "3e9a640b-9078-4a91-bbec-1488a1fa33cd",
   "metadata": {},
   "source": [
    "# END"
   ]
  },
  {
   "cell_type": "code",
   "execution_count": 52,
   "id": "944e40dd-f1ff-4047-9fd1-a35a726bbb9a",
   "metadata": {},
   "outputs": [
    {
     "data": {
      "text/plain": [
       "4308"
      ]
     },
     "execution_count": 52,
     "metadata": {},
     "output_type": "execute_result"
    }
   ],
   "source": [
    "df_covid_preprocessing.tweets.duplicated().sum()"
   ]
  }
 ],
 "metadata": {
  "kernelspec": {
   "display_name": "Python 3 (ipykernel)",
   "language": "python",
   "name": "python3"
  },
  "language_info": {
   "codemirror_mode": {
    "name": "ipython",
    "version": 3
   },
   "file_extension": ".py",
   "mimetype": "text/x-python",
   "name": "python",
   "nbconvert_exporter": "python",
   "pygments_lexer": "ipython3",
   "version": "3.9.16"
  }
 },
 "nbformat": 4,
 "nbformat_minor": 5
}
