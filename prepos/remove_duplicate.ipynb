{
 "cells": [
  {
   "cell_type": "code",
   "execution_count": 1,
   "id": "b0cdae45-a018-403a-8ae8-789ad8394566",
   "metadata": {},
   "outputs": [],
   "source": [
    "import pandas as pd\n",
    "pd.set_option(\"display.max_colwidth\", None)"
   ]
  },
  {
   "cell_type": "code",
   "execution_count": 2,
   "id": "12b903c3-4ca5-4055-9b50-fda3063c8b99",
   "metadata": {},
   "outputs": [],
   "source": [
    "import re\n",
    "import string"
   ]
  },
  {
   "cell_type": "code",
   "execution_count": 3,
   "id": "cf87cd58-a673-43a8-b8d2-a48396a51c42",
   "metadata": {},
   "outputs": [],
   "source": [
    "df = pd.read_csv(\"datasets/covid_preprocessing.csv\")"
   ]
  },
  {
   "cell_type": "code",
   "execution_count": 4,
   "id": "ea5b1414-17c9-4dc2-98e2-6fef8dd40c8e",
   "metadata": {},
   "outputs": [
    {
     "name": "stdout",
     "output_type": "stream",
     "text": [
      "<class 'pandas.core.frame.DataFrame'>\n",
      "RangeIndex: 36615 entries, 0 to 36614\n",
      "Data columns (total 1 columns):\n",
      " #   Column  Non-Null Count  Dtype \n",
      "---  ------  --------------  ----- \n",
      " 0   tweets  36615 non-null  object\n",
      "dtypes: object(1)\n",
      "memory usage: 286.2+ KB\n"
     ]
    }
   ],
   "source": [
    "df.info()"
   ]
  },
  {
   "cell_type": "code",
   "execution_count": 5,
   "id": "44837f61-0d69-4ef5-910d-e5b058543b50",
   "metadata": {},
   "outputs": [
    {
     "data": {
      "text/plain": [
       "4307"
      ]
     },
     "execution_count": 5,
     "metadata": {},
     "output_type": "execute_result"
    }
   ],
   "source": [
    "# check if it has duplicated value\n",
    "df.tweets.duplicated().sum()"
   ]
  },
  {
   "cell_type": "code",
   "execution_count": 6,
   "id": "7abb8c4f-0e5d-4fb8-b2f4-c2f8862f8c38",
   "metadata": {},
   "outputs": [],
   "source": [
    "duplicates = df[df.duplicated()]"
   ]
  },
  {
   "cell_type": "code",
   "execution_count": 13,
   "id": "ffd713de-a268-4d3f-9aa2-5b0ba0118309",
   "metadata": {},
   "outputs": [
    {
     "data": {
      "text/html": [
       "<div>\n",
       "<style scoped>\n",
       "    .dataframe tbody tr th:only-of-type {\n",
       "        vertical-align: middle;\n",
       "    }\n",
       "\n",
       "    .dataframe tbody tr th {\n",
       "        vertical-align: top;\n",
       "    }\n",
       "\n",
       "    .dataframe thead th {\n",
       "        text-align: right;\n",
       "    }\n",
       "</style>\n",
       "<table border=\"1\" class=\"dataframe\">\n",
       "  <thead>\n",
       "    <tr style=\"text-align: right;\">\n",
       "      <th></th>\n",
       "      <th>tweets</th>\n",
       "    </tr>\n",
       "  </thead>\n",
       "  <tbody>\n",
       "    <tr>\n",
       "      <th>1123</th>\n",
       "      <td>penambahan itu berdasarkan pemeriksaan terhadap  spesimen</td>\n",
       "    </tr>\n",
       "    <tr>\n",
       "      <th>1134</th>\n",
       "      <td>foto satelit yang diambil di sejumlah kota di china menangkap momen kerumunan orang di krematorium dan rumah duka kala terjadi badai covid yang parah</td>\n",
       "    </tr>\n",
       "    <tr>\n",
       "      <th>1135</th>\n",
       "      <td>apa itu covid kraken pasalnya subvarian omicron ini belakangan jadi sorotan dunia lantaran sangat menular dan berpotensi memicu gelombang baru</td>\n",
       "    </tr>\n",
       "    <tr>\n",
       "      <th>1136</th>\n",
       "      <td>varian kraken belakangan muncul dan memicu kekhawatiran di masyarakat lantaran menjadi varian paling menular mengapa dijuluki kraken</td>\n",
       "    </tr>\n",
       "    <tr>\n",
       "      <th>1137</th>\n",
       "      <td>varian covid kraken atau varian xbb kembali membuat dunia khawatir melihat ini who kembali menganjurkan pemakaian masker dalam kondisi ini</td>\n",
       "    </tr>\n",
       "  </tbody>\n",
       "</table>\n",
       "</div>"
      ],
      "text/plain": [
       "                                                                                                                                                       tweets\n",
       "1123                                                                                              penambahan itu berdasarkan pemeriksaan terhadap  spesimen  \n",
       "1134  foto satelit yang diambil di sejumlah kota di china menangkap momen kerumunan orang di krematorium dan rumah duka kala terjadi badai covid yang parah  \n",
       "1135         apa itu covid kraken pasalnya subvarian omicron ini belakangan jadi sorotan dunia lantaran sangat menular dan berpotensi memicu gelombang baru  \n",
       "1136                   varian kraken belakangan muncul dan memicu kekhawatiran di masyarakat lantaran menjadi varian paling menular mengapa dijuluki kraken  \n",
       "1137             varian covid kraken atau varian xbb kembali membuat dunia khawatir melihat ini who kembali menganjurkan pemakaian masker dalam kondisi ini  "
      ]
     },
     "execution_count": 13,
     "metadata": {},
     "output_type": "execute_result"
    }
   ],
   "source": [
    "duplicates.head(100).tail(5)"
   ]
  },
  {
   "cell_type": "code",
   "execution_count": 8,
   "id": "7af0a4c8-4b64-4571-8aad-baf1274ef8fe",
   "metadata": {},
   "outputs": [],
   "source": [
    "df.drop_duplicates(subset='tweets', inplace=True)"
   ]
  },
  {
   "cell_type": "code",
   "execution_count": 9,
   "id": "eda7e214-3cf4-4ef3-a1c2-655b0abd3e0d",
   "metadata": {},
   "outputs": [
    {
     "data": {
      "text/plain": [
       "0"
      ]
     },
     "execution_count": 9,
     "metadata": {},
     "output_type": "execute_result"
    }
   ],
   "source": [
    "# check if it has duplicated value\n",
    "df.tweets.duplicated().sum()"
   ]
  },
  {
   "cell_type": "code",
   "execution_count": 10,
   "id": "9bd1c1ef-61cb-41b2-a8e5-29e767b4d5c2",
   "metadata": {},
   "outputs": [
    {
     "name": "stdout",
     "output_type": "stream",
     "text": [
      "<class 'pandas.core.frame.DataFrame'>\n",
      "Int64Index: 32308 entries, 0 to 36613\n",
      "Data columns (total 1 columns):\n",
      " #   Column  Non-Null Count  Dtype \n",
      "---  ------  --------------  ----- \n",
      " 0   tweets  32308 non-null  object\n",
      "dtypes: object(1)\n",
      "memory usage: 504.8+ KB\n"
     ]
    }
   ],
   "source": [
    "df.info()"
   ]
  },
  {
   "cell_type": "code",
   "execution_count": 11,
   "id": "3e6e554e-55e4-473b-9237-b4dac82d5b8d",
   "metadata": {},
   "outputs": [],
   "source": [
    "#df.to_csv(\"datasets/covid_cleaning.csv\", encoding=\"utf-8\", index=False)"
   ]
  }
 ],
 "metadata": {
  "kernelspec": {
   "display_name": "Python 3 (ipykernel)",
   "language": "python",
   "name": "python3"
  },
  "language_info": {
   "codemirror_mode": {
    "name": "ipython",
    "version": 3
   },
   "file_extension": ".py",
   "mimetype": "text/x-python",
   "name": "python",
   "nbconvert_exporter": "python",
   "pygments_lexer": "ipython3",
   "version": "3.9.7"
  }
 },
 "nbformat": 4,
 "nbformat_minor": 5
}
