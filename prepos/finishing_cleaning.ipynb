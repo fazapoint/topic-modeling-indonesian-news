{
 "cells": [
  {
   "cell_type": "code",
   "execution_count": 1,
   "id": "25076e2a-caaf-4fa6-92a9-dc29f3729126",
   "metadata": {},
   "outputs": [],
   "source": [
    "import pandas as pd\n",
    "pd.set_option(\"display.max_colwidth\", None)"
   ]
  },
  {
   "cell_type": "code",
   "execution_count": 2,
   "id": "dc3534f5-a431-4f7b-97a9-2a9a6ec80f80",
   "metadata": {},
   "outputs": [],
   "source": [
    "import re\n",
    "import string"
   ]
  },
  {
   "cell_type": "code",
   "execution_count": 3,
   "id": "56865b20-3490-42c0-8200-27dd07765142",
   "metadata": {},
   "outputs": [],
   "source": [
    "df = pd.read_csv(\"datasets/covid_cleaning.csv\")"
   ]
  },
  {
   "cell_type": "code",
   "execution_count": 4,
   "id": "40d8cc5b-bbdf-416a-bb15-edd8ca5e7137",
   "metadata": {},
   "outputs": [
    {
     "name": "stdout",
     "output_type": "stream",
     "text": [
      "<class 'pandas.core.frame.DataFrame'>\n",
      "RangeIndex: 32308 entries, 0 to 32307\n",
      "Data columns (total 1 columns):\n",
      " #   Column  Non-Null Count  Dtype \n",
      "---  ------  --------------  ----- \n",
      " 0   tweets  32308 non-null  object\n",
      "dtypes: object(1)\n",
      "memory usage: 252.5+ KB\n"
     ]
    }
   ],
   "source": [
    "df.info()"
   ]
  },
  {
   "cell_type": "code",
   "execution_count": 5,
   "id": "61df3e22-c649-47c0-8ccd-bd87f2fef0ce",
   "metadata": {},
   "outputs": [
    {
     "data": {
      "text/plain": [
       "0"
      ]
     },
     "execution_count": 5,
     "metadata": {},
     "output_type": "execute_result"
    }
   ],
   "source": [
    "# check if it has duplicated value\n",
    "df.tweets.duplicated().sum()"
   ]
  },
  {
   "cell_type": "markdown",
   "id": "8f66ffd3-9cfc-4399-9e3b-efd2ca2b3262",
   "metadata": {},
   "source": [
    "# Remove whitespace start and end"
   ]
  },
  {
   "cell_type": "code",
   "execution_count": 6,
   "id": "cccc8ece-29c3-4ba8-b57f-eefb56fdaa87",
   "metadata": {},
   "outputs": [],
   "source": [
    "df['tweets'] = df['tweets'].str.strip()"
   ]
  },
  {
   "cell_type": "markdown",
   "id": "8151f752-9b07-44cb-be6b-8e31b78c5643",
   "metadata": {},
   "source": [
    "# Remove whitespace that in the middle of the text"
   ]
  },
  {
   "cell_type": "code",
   "execution_count": 8,
   "id": "c24f3a1a-90e5-43ce-8c33-6b85e49b766b",
   "metadata": {},
   "outputs": [
    {
     "name": "stderr",
     "output_type": "stream",
     "text": [
      "C:\\Users\\asus\\AppData\\Local\\Temp\\ipykernel_648\\1933848702.py:1: FutureWarning: The default value of regex will change from True to False in a future version.\n",
      "  df['tweets'] = df['tweets'].str.replace(r'\\s+', ' ')\n"
     ]
    }
   ],
   "source": [
    "df['tweets'] = df['tweets'].str.replace(r'\\s+', ' ')"
   ]
  },
  {
   "cell_type": "code",
   "execution_count": 9,
   "id": "e6d86a75-0197-48f6-a9cb-ed2e625d4852",
   "metadata": {},
   "outputs": [
    {
     "data": {
      "text/html": [
       "<div>\n",
       "<style scoped>\n",
       "    .dataframe tbody tr th:only-of-type {\n",
       "        vertical-align: middle;\n",
       "    }\n",
       "\n",
       "    .dataframe tbody tr th {\n",
       "        vertical-align: top;\n",
       "    }\n",
       "\n",
       "    .dataframe thead th {\n",
       "        text-align: right;\n",
       "    }\n",
       "</style>\n",
       "<table border=\"1\" class=\"dataframe\">\n",
       "  <thead>\n",
       "    <tr style=\"text-align: right;\">\n",
       "      <th></th>\n",
       "      <th>tweets</th>\n",
       "    </tr>\n",
       "  </thead>\n",
       "  <tbody>\n",
       "    <tr>\n",
       "      <th>0</th>\n",
       "      <td>china hapus wajib karantina bagi pelancong asing di saat kasus covid melonjak</td>\n",
       "    </tr>\n",
       "    <tr>\n",
       "      <th>1</th>\n",
       "      <td>covid kembali merebak di china pencabutan ppkm perlu hatihati</td>\n",
       "    </tr>\n",
       "    <tr>\n",
       "      <th>2</th>\n",
       "      <td>sebaran konfirmasi positif covid di indonesia provinsi nihil kasus</td>\n",
       "    </tr>\n",
       "    <tr>\n",
       "      <th>3</th>\n",
       "      <td>update covid per senin desember positif orang sembuh dan meninggal</td>\n",
       "    </tr>\n",
       "    <tr>\n",
       "      <th>4</th>\n",
       "      <td>positif covid di ri tambah pasien sembuh orang</td>\n",
       "    </tr>\n",
       "  </tbody>\n",
       "</table>\n",
       "</div>"
      ],
      "text/plain": [
       "                                                                          tweets\n",
       "0  china hapus wajib karantina bagi pelancong asing di saat kasus covid melonjak\n",
       "1                  covid kembali merebak di china pencabutan ppkm perlu hatihati\n",
       "2             sebaran konfirmasi positif covid di indonesia provinsi nihil kasus\n",
       "3             update covid per senin desember positif orang sembuh dan meninggal\n",
       "4                                 positif covid di ri tambah pasien sembuh orang"
      ]
     },
     "execution_count": 9,
     "metadata": {},
     "output_type": "execute_result"
    }
   ],
   "source": [
    "df.head()"
   ]
  },
  {
   "cell_type": "code",
   "execution_count": 11,
   "id": "83e0f0c6-b024-4cac-a829-3d85bb4a60c6",
   "metadata": {},
   "outputs": [
    {
     "name": "stdout",
     "output_type": "stream",
     "text": [
      "<class 'pandas.core.frame.DataFrame'>\n",
      "RangeIndex: 32308 entries, 0 to 32307\n",
      "Data columns (total 1 columns):\n",
      " #   Column  Non-Null Count  Dtype \n",
      "---  ------  --------------  ----- \n",
      " 0   tweets  32308 non-null  object\n",
      "dtypes: object(1)\n",
      "memory usage: 252.5+ KB\n"
     ]
    }
   ],
   "source": [
    "df.info()"
   ]
  },
  {
   "cell_type": "code",
   "execution_count": 12,
   "id": "647065c5-4267-41d8-a02f-99c61e414124",
   "metadata": {},
   "outputs": [],
   "source": [
    "#df.to_csv(\"datasets/3covid_cleaning.csv\", encoding=\"utf-8\", index=False)"
   ]
  }
 ],
 "metadata": {
  "kernelspec": {
   "display_name": "Python 3 (ipykernel)",
   "language": "python",
   "name": "python3"
  },
  "language_info": {
   "codemirror_mode": {
    "name": "ipython",
    "version": 3
   },
   "file_extension": ".py",
   "mimetype": "text/x-python",
   "name": "python",
   "nbconvert_exporter": "python",
   "pygments_lexer": "ipython3",
   "version": "3.9.16"
  }
 },
 "nbformat": 4,
 "nbformat_minor": 5
}
