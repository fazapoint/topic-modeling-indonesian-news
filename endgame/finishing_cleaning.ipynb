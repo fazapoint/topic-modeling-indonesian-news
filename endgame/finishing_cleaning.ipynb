{
 "cells": [
  {
   "cell_type": "code",
   "execution_count": 1,
   "id": "8eb948c1-4345-48ae-b885-54d78462eb3f",
   "metadata": {},
   "outputs": [],
   "source": [
    "import pandas as pd\n",
    "pd.set_option(\"display.max_colwidth\", None)"
   ]
  },
  {
   "cell_type": "code",
   "execution_count": 2,
   "id": "f0d7c9f7-a5c9-4ff6-aa5b-7a5a8fb598b6",
   "metadata": {},
   "outputs": [],
   "source": [
    "import re\n",
    "import string"
   ]
  },
  {
   "cell_type": "code",
   "execution_count": 3,
   "id": "d12812ba-e200-4b4d-9fa5-e25b71d51a06",
   "metadata": {},
   "outputs": [],
   "source": [
    "df = pd.read_csv(\"../dataset/cleaned_covid.csv\")"
   ]
  },
  {
   "cell_type": "markdown",
   "id": "d5dbed3c-bdac-483c-bda6-4266c5e44d83",
   "metadata": {},
   "source": [
    "# Duplicated tweets but i think its important tweet are commented with \\#"
   ]
  },
  {
   "cell_type": "code",
   "execution_count": 5,
   "id": "ec69d985-bf85-46b3-a74e-8443c1a43b99",
   "metadata": {},
   "outputs": [
    {
     "data": {
      "text/plain": [
       "4329"
      ]
     },
     "execution_count": 5,
     "metadata": {},
     "output_type": "execute_result"
    }
   ],
   "source": [
    "# # check if it has duplicated value\n",
    "#df.tweets.duplicated().sum()"
   ]
  },
  {
   "cell_type": "code",
   "execution_count": 4,
   "id": "aada38a6-f957-4603-8320-116836c28b98",
   "metadata": {},
   "outputs": [
    {
     "name": "stdout",
     "output_type": "stream",
     "text": [
      "<class 'pandas.core.frame.DataFrame'>\n",
      "RangeIndex: 36711 entries, 0 to 36710\n",
      "Data columns (total 1 columns):\n",
      " #   Column  Non-Null Count  Dtype \n",
      "---  ------  --------------  ----- \n",
      " 0   tweets  36711 non-null  object\n",
      "dtypes: object(1)\n",
      "memory usage: 286.9+ KB\n"
     ]
    }
   ],
   "source": [
    "df.info()"
   ]
  },
  {
   "cell_type": "code",
   "execution_count": 7,
   "id": "a318466e-3d14-4023-9282-b5fcc944aaab",
   "metadata": {},
   "outputs": [
    {
     "data": {
      "text/html": [
       "<div>\n",
       "<style scoped>\n",
       "    .dataframe tbody tr th:only-of-type {\n",
       "        vertical-align: middle;\n",
       "    }\n",
       "\n",
       "    .dataframe tbody tr th {\n",
       "        vertical-align: top;\n",
       "    }\n",
       "\n",
       "    .dataframe thead th {\n",
       "        text-align: right;\n",
       "    }\n",
       "</style>\n",
       "<table border=\"1\" class=\"dataframe\">\n",
       "  <thead>\n",
       "    <tr style=\"text-align: right;\">\n",
       "      <th></th>\n",
       "      <th>tweets</th>\n",
       "    </tr>\n",
       "  </thead>\n",
       "  <tbody>\n",
       "    <tr>\n",
       "      <th>11</th>\n",
       "      <td>jadwal dan lokasi vaksin covid surabaya hari ini  mei</td>\n",
       "    </tr>\n",
       "    <tr>\n",
       "      <th>23</th>\n",
       "      <td>jadwal dan lokasi vaksin covid surabaya hari ini  mei</td>\n",
       "    </tr>\n",
       "    <tr>\n",
       "      <th>24</th>\n",
       "      <td>jadwal dan lokasi vaksin covid surabaya hari ini  mei</td>\n",
       "    </tr>\n",
       "    <tr>\n",
       "      <th>25</th>\n",
       "      <td>berikut ini jumlah kasus covid hingga hari ini untuk provinsi aceh sumut sumbar riau kepri jambi dan bengkulu</td>\n",
       "    </tr>\n",
       "    <tr>\n",
       "      <th>38</th>\n",
       "      <td>jadwal dan lokasi vaksin covid surabaya hari ini  mei</td>\n",
       "    </tr>\n",
       "    <tr>\n",
       "      <th>39</th>\n",
       "      <td>jadwal dan lokasi vaksin covid surabaya hari ini  mei</td>\n",
       "    </tr>\n",
       "    <tr>\n",
       "      <th>41</th>\n",
       "      <td>berikut ini jumlah kasus covid hingga hari ini untuk provinsi aceh sumut sumbar riau kepri jambi dan bengkulu</td>\n",
       "    </tr>\n",
       "    <tr>\n",
       "      <th>49</th>\n",
       "      <td>kasus positif covid di indonesia bertambah sebanyak  pada hari ini minggu</td>\n",
       "    </tr>\n",
       "    <tr>\n",
       "      <th>57</th>\n",
       "      <td>indonesia mencatat sebanyak  kasus baru covid minggu  dki jakarta menyumbang kasus terbanyak dengan jumlah</td>\n",
       "    </tr>\n",
       "    <tr>\n",
       "      <th>58</th>\n",
       "      <td>kasus covid di indonesia pada minggu  bertambah  kasus baru sementara kasus sembuh bertambah  dan kematian  jiwa</td>\n",
       "    </tr>\n",
       "  </tbody>\n",
       "</table>\n",
       "</div>"
      ],
      "text/plain": [
       "                                                                                                               tweets\n",
       "11                                                           jadwal dan lokasi vaksin covid surabaya hari ini  mei   \n",
       "23                                                         jadwal dan lokasi vaksin covid surabaya hari ini  mei     \n",
       "24                                                           jadwal dan lokasi vaksin covid surabaya hari ini  mei   \n",
       "25     berikut ini jumlah kasus covid hingga hari ini untuk provinsi aceh sumut sumbar riau kepri jambi dan bengkulu \n",
       "38                                                         jadwal dan lokasi vaksin covid surabaya hari ini  mei     \n",
       "39                                                           jadwal dan lokasi vaksin covid surabaya hari ini  mei   \n",
       "41     berikut ini jumlah kasus covid hingga hari ini untuk provinsi aceh sumut sumbar riau kepri jambi dan bengkulu \n",
       "49                               kasus positif covid di indonesia bertambah sebanyak  pada hari ini minggu           \n",
       "57       indonesia mencatat sebanyak  kasus baru covid minggu  dki jakarta menyumbang kasus terbanyak dengan jumlah  \n",
       "58  kasus covid di indonesia pada minggu  bertambah  kasus baru sementara kasus sembuh bertambah  dan kematian  jiwa "
      ]
     },
     "execution_count": 7,
     "metadata": {},
     "output_type": "execute_result"
    }
   ],
   "source": [
    "#duplicates = df[df.duplicated(subset='tweets')]\n",
    "#duplicates.head(10)"
   ]
  },
  {
   "cell_type": "code",
   "execution_count": 8,
   "id": "7f203bb0-fd64-46d1-8f6d-2083ea868b5b",
   "metadata": {},
   "outputs": [],
   "source": [
    "#df.drop_duplicates(subset='tweets', inplace=True)"
   ]
  },
  {
   "cell_type": "code",
   "execution_count": 9,
   "id": "57f3550a-6b59-4280-b7b9-0e5d87d880e8",
   "metadata": {},
   "outputs": [
    {
     "data": {
      "text/plain": [
       "0"
      ]
     },
     "execution_count": 9,
     "metadata": {},
     "output_type": "execute_result"
    }
   ],
   "source": [
    "#df.tweets.duplicated().sum()"
   ]
  },
  {
   "cell_type": "markdown",
   "id": "55c869f4-d2a1-4bd5-b056-ee38a2b78554",
   "metadata": {},
   "source": [
    "# Remove whitespace at start and end of the text"
   ]
  },
  {
   "cell_type": "code",
   "execution_count": 5,
   "id": "d81c9af7-c662-4e7b-ad9f-0a60eaf73f75",
   "metadata": {},
   "outputs": [],
   "source": [
    "df['tweets'] = df['tweets'].str.strip()"
   ]
  },
  {
   "cell_type": "markdown",
   "id": "5e885ecc-ba70-4ee2-93cc-6b182df6fed2",
   "metadata": {},
   "source": [
    "# Remove whitespace in the middle of the text"
   ]
  },
  {
   "cell_type": "code",
   "execution_count": 6,
   "id": "8c4029f7-03d8-4425-bd0d-fcc507656feb",
   "metadata": {},
   "outputs": [
    {
     "name": "stderr",
     "output_type": "stream",
     "text": [
      "C:\\Users\\asus\\AppData\\Local\\Temp\\ipykernel_11876\\1933848702.py:1: FutureWarning: The default value of regex will change from True to False in a future version.\n",
      "  df['tweets'] = df['tweets'].str.replace(r'\\s+', ' ')\n"
     ]
    }
   ],
   "source": [
    "df['tweets'] = df['tweets'].str.replace(r'\\s+', ' ')"
   ]
  },
  {
   "cell_type": "code",
   "execution_count": 7,
   "id": "d93b01f1-dc23-4ff8-bc82-9bc798855e41",
   "metadata": {},
   "outputs": [
    {
     "data": {
      "text/html": [
       "<div>\n",
       "<style scoped>\n",
       "    .dataframe tbody tr th:only-of-type {\n",
       "        vertical-align: middle;\n",
       "    }\n",
       "\n",
       "    .dataframe tbody tr th {\n",
       "        vertical-align: top;\n",
       "    }\n",
       "\n",
       "    .dataframe thead th {\n",
       "        text-align: right;\n",
       "    }\n",
       "</style>\n",
       "<table border=\"1\" class=\"dataframe\">\n",
       "  <thead>\n",
       "    <tr style=\"text-align: right;\">\n",
       "      <th></th>\n",
       "      <th>tweets</th>\n",
       "    </tr>\n",
       "  </thead>\n",
       "  <tbody>\n",
       "    <tr>\n",
       "      <th>0</th>\n",
       "      <td>belum ada bukti gambar yang diklaim pembekuan darah setelah vaksinasi covid</td>\n",
       "    </tr>\n",
       "    <tr>\n",
       "      <th>1</th>\n",
       "      <td>keliru klaim vaksin covid berbasis mrna dan adenoviral menurunkan sistem kekebalan tubuh</td>\n",
       "    </tr>\n",
       "    <tr>\n",
       "      <th>2</th>\n",
       "      <td>kemenkes minta penonton konser coldplay booster vaksin covid</td>\n",
       "    </tr>\n",
       "    <tr>\n",
       "      <th>3</th>\n",
       "      <td>jadwal dan lokasi vaksin covid surabaya hari ini mei</td>\n",
       "    </tr>\n",
       "    <tr>\n",
       "      <th>4</th>\n",
       "      <td>jadwal dan lokasi vaksin covid surabaya hari ini mei</td>\n",
       "    </tr>\n",
       "  </tbody>\n",
       "</table>\n",
       "</div>"
      ],
      "text/plain": [
       "                                                                                     tweets\n",
       "0               belum ada bukti gambar yang diklaim pembekuan darah setelah vaksinasi covid\n",
       "1  keliru klaim vaksin covid berbasis mrna dan adenoviral menurunkan sistem kekebalan tubuh\n",
       "2                              kemenkes minta penonton konser coldplay booster vaksin covid\n",
       "3                                      jadwal dan lokasi vaksin covid surabaya hari ini mei\n",
       "4                                      jadwal dan lokasi vaksin covid surabaya hari ini mei"
      ]
     },
     "execution_count": 7,
     "metadata": {},
     "output_type": "execute_result"
    }
   ],
   "source": [
    "df.head()"
   ]
  },
  {
   "cell_type": "code",
   "execution_count": 8,
   "id": "a7b2117a-8213-4e83-bd9d-83d2752802f0",
   "metadata": {},
   "outputs": [
    {
     "name": "stdout",
     "output_type": "stream",
     "text": [
      "<class 'pandas.core.frame.DataFrame'>\n",
      "RangeIndex: 36711 entries, 0 to 36710\n",
      "Data columns (total 1 columns):\n",
      " #   Column  Non-Null Count  Dtype \n",
      "---  ------  --------------  ----- \n",
      " 0   tweets  36711 non-null  object\n",
      "dtypes: object(1)\n",
      "memory usage: 286.9+ KB\n"
     ]
    }
   ],
   "source": [
    "df.info()"
   ]
  },
  {
   "cell_type": "code",
   "execution_count": 9,
   "id": "81c085bf-1f06-4a9a-8c00-8775b2851d70",
   "metadata": {},
   "outputs": [],
   "source": [
    "#df.to_csv(\"../dataset/dup_cleaned_covid.csv\", encoding=\"utf-8\", index=False)"
   ]
  }
 ],
 "metadata": {
  "kernelspec": {
   "display_name": "Python 3 (ipykernel)",
   "language": "python",
   "name": "python3"
  },
  "language_info": {
   "codemirror_mode": {
    "name": "ipython",
    "version": 3
   },
   "file_extension": ".py",
   "mimetype": "text/x-python",
   "name": "python",
   "nbconvert_exporter": "python",
   "pygments_lexer": "ipython3",
   "version": "3.9.16"
  }
 },
 "nbformat": 4,
 "nbformat_minor": 5
}
