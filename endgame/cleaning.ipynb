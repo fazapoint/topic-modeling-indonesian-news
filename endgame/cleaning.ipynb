{
 "cells": [
  {
   "cell_type": "code",
   "execution_count": 1,
   "id": "77f15844-60b6-4011-a2b8-8330de5013e7",
   "metadata": {},
   "outputs": [],
   "source": [
    "import pandas as pd\n",
    "pd.set_option(\"display.max_colwidth\", None)"
   ]
  },
  {
   "cell_type": "code",
   "execution_count": 2,
   "id": "4fc92c82-9751-4ecf-a171-30e1b8b2dd3e",
   "metadata": {},
   "outputs": [],
   "source": [
    "df = pd.read_csv(\"../dataset/endgame_media_covid.csv\")"
   ]
  },
  {
   "cell_type": "code",
   "execution_count": 3,
   "id": "00376322-322e-4b5c-976e-620c11de8f1e",
   "metadata": {},
   "outputs": [],
   "source": [
    "import re\n",
    "import string\n",
    "import emoji"
   ]
  },
  {
   "cell_type": "code",
   "execution_count": 4,
   "id": "e9f8d616-e4ff-4997-bd64-074bb9ddb90e",
   "metadata": {},
   "outputs": [
    {
     "data": {
      "text/html": [
       "<div>\n",
       "<style scoped>\n",
       "    .dataframe tbody tr th:only-of-type {\n",
       "        vertical-align: middle;\n",
       "    }\n",
       "\n",
       "    .dataframe tbody tr th {\n",
       "        vertical-align: top;\n",
       "    }\n",
       "\n",
       "    .dataframe thead th {\n",
       "        text-align: right;\n",
       "    }\n",
       "</style>\n",
       "<table border=\"1\" class=\"dataframe\">\n",
       "  <thead>\n",
       "    <tr style=\"text-align: right;\">\n",
       "      <th></th>\n",
       "      <th>id</th>\n",
       "      <th>date</th>\n",
       "      <th>username</th>\n",
       "      <th>tweets</th>\n",
       "    </tr>\n",
       "  </thead>\n",
       "  <tbody>\n",
       "    <tr>\n",
       "      <th>0</th>\n",
       "      <td>1658849620984844288</td>\n",
       "      <td>2023-05-17 14:59:04+00:00</td>\n",
       "      <td>tempo.co</td>\n",
       "      <td>Belum Ada Bukti, Gambar yang Diklaim Pembekuan Darah setelah Vaksinasi Covid-19 #TempoCekFakta #CekFakta https://t.co/GwiECxsIQT</td>\n",
       "    </tr>\n",
       "    <tr>\n",
       "      <th>1</th>\n",
       "      <td>1658814891065749504</td>\n",
       "      <td>2023-05-17 12:41:03+00:00</td>\n",
       "      <td>tempo.co</td>\n",
       "      <td>Keliru, Klaim Vaksin Covid-19 Berbasis mRNA dan Adenoviral Menurunkan Sistem Kekebalan Tubuh #TempoCekFakta #CekFakta https://t.co/bb7YyZPUej</td>\n",
       "    </tr>\n",
       "    <tr>\n",
       "      <th>2</th>\n",
       "      <td>1658745694520487936</td>\n",
       "      <td>2023-05-17 08:06:06+00:00</td>\n",
       "      <td>CNN Indonesia</td>\n",
       "      <td>Kemenkes Minta Penonton Konser Coldplay Booster Vaksin Covid https://t.co/3rw9504s2j</td>\n",
       "    </tr>\n",
       "    <tr>\n",
       "      <th>3</th>\n",
       "      <td>1658657353846378497</td>\n",
       "      <td>2023-05-17 02:15:04+00:00</td>\n",
       "      <td>JPNN.com</td>\n",
       "      <td>Jadwal dan Lokasi Vaksin Covid-19 Surabaya Hari Ini 17 Mei 2023 #jadwalvaksin https://t.co/MNeKGlEQf0</td>\n",
       "    </tr>\n",
       "    <tr>\n",
       "      <th>4</th>\n",
       "      <td>1658652945762906113</td>\n",
       "      <td>2023-05-17 01:57:33+00:00</td>\n",
       "      <td>JPNN.com</td>\n",
       "      <td>#BeritaJatim \\nJadwal dan Lokasi Vaksin Covid-19 Surabaya Hari Ini 17 Mei 2023\\n#infovaksinsurabaya\\n#vaksinbooster \\nhttps://t.co/MNeKGlEQf0</td>\n",
       "    </tr>\n",
       "  </tbody>\n",
       "</table>\n",
       "</div>"
      ],
      "text/plain": [
       "                    id                       date       username  \\\n",
       "0  1658849620984844288  2023-05-17 14:59:04+00:00       tempo.co   \n",
       "1  1658814891065749504  2023-05-17 12:41:03+00:00       tempo.co   \n",
       "2  1658745694520487936  2023-05-17 08:06:06+00:00  CNN Indonesia   \n",
       "3  1658657353846378497  2023-05-17 02:15:04+00:00       JPNN.com   \n",
       "4  1658652945762906113  2023-05-17 01:57:33+00:00       JPNN.com   \n",
       "\n",
       "                                                                                                                                          tweets  \n",
       "0               Belum Ada Bukti, Gambar yang Diklaim Pembekuan Darah setelah Vaksinasi Covid-19 #TempoCekFakta #CekFakta https://t.co/GwiECxsIQT  \n",
       "1  Keliru, Klaim Vaksin Covid-19 Berbasis mRNA dan Adenoviral Menurunkan Sistem Kekebalan Tubuh #TempoCekFakta #CekFakta https://t.co/bb7YyZPUej  \n",
       "2                                                           Kemenkes Minta Penonton Konser Coldplay Booster Vaksin Covid https://t.co/3rw9504s2j  \n",
       "3                                          Jadwal dan Lokasi Vaksin Covid-19 Surabaya Hari Ini 17 Mei 2023 #jadwalvaksin https://t.co/MNeKGlEQf0  \n",
       "4  #BeritaJatim \\nJadwal dan Lokasi Vaksin Covid-19 Surabaya Hari Ini 17 Mei 2023\\n#infovaksinsurabaya\\n#vaksinbooster \\nhttps://t.co/MNeKGlEQf0  "
      ]
     },
     "execution_count": 4,
     "metadata": {},
     "output_type": "execute_result"
    }
   ],
   "source": [
    "df.head()"
   ]
  },
  {
   "cell_type": "code",
   "execution_count": 5,
   "id": "77ee7b52-256b-4edd-a0ef-24a787b53eb8",
   "metadata": {},
   "outputs": [
    {
     "name": "stdout",
     "output_type": "stream",
     "text": [
      "<class 'pandas.core.frame.DataFrame'>\n",
      "RangeIndex: 36761 entries, 0 to 36760\n",
      "Data columns (total 4 columns):\n",
      " #   Column    Non-Null Count  Dtype \n",
      "---  ------    --------------  ----- \n",
      " 0   id        36761 non-null  int64 \n",
      " 1   date      36761 non-null  object\n",
      " 2   username  36761 non-null  object\n",
      " 3   tweets    36761 non-null  object\n",
      "dtypes: int64(1), object(3)\n",
      "memory usage: 1.1+ MB\n"
     ]
    }
   ],
   "source": [
    "df.info()"
   ]
  },
  {
   "cell_type": "code",
   "execution_count": 6,
   "id": "f2359d3c-4927-44ee-a53b-e3863db32218",
   "metadata": {},
   "outputs": [
    {
     "data": {
      "text/plain": [
       "47"
      ]
     },
     "execution_count": 6,
     "metadata": {},
     "output_type": "execute_result"
    }
   ],
   "source": [
    "# check if it has duplicated value\n",
    "df.tweets.duplicated().sum()"
   ]
  },
  {
   "cell_type": "code",
   "execution_count": 7,
   "id": "873fae8a-983e-43b0-810d-2b0f980ea783",
   "metadata": {},
   "outputs": [
    {
     "data": {
      "text/html": [
       "<div>\n",
       "<style scoped>\n",
       "    .dataframe tbody tr th:only-of-type {\n",
       "        vertical-align: middle;\n",
       "    }\n",
       "\n",
       "    .dataframe tbody tr th {\n",
       "        vertical-align: top;\n",
       "    }\n",
       "\n",
       "    .dataframe thead th {\n",
       "        text-align: right;\n",
       "    }\n",
       "</style>\n",
       "<table border=\"1\" class=\"dataframe\">\n",
       "  <thead>\n",
       "    <tr style=\"text-align: right;\">\n",
       "      <th></th>\n",
       "      <th>id</th>\n",
       "      <th>date</th>\n",
       "      <th>username</th>\n",
       "      <th>tweets</th>\n",
       "    </tr>\n",
       "  </thead>\n",
       "  <tbody>\n",
       "    <tr>\n",
       "      <th>1113</th>\n",
       "      <td>1612460564248399880</td>\n",
       "      <td>2023-01-09 14:45:31+00:00</td>\n",
       "      <td>Tribunnews.com</td>\n",
       "      <td>Infeksi Covid-19 China Kian Menggila, 90 Persen Warga di Provinsi Henan Dinyatakan Positif\\n \\nhttps://t.co/MMS3B02kMJ via @tribunnews</td>\n",
       "    </tr>\n",
       "    <tr>\n",
       "      <th>2571</th>\n",
       "      <td>1645598665950777345</td>\n",
       "      <td>2023-04-11 01:24:30+00:00</td>\n",
       "      <td>Harian Kompas</td>\n",
       "      <td>Pelabuhan Merak memegang kunci sebagai sarana penghubung antarpulau. Pada mudik Lebaran 2023, ada euforia menyambut mudik setelah tahun sebelumnya ada pembatasan karena pandemi Covid-19.\\n\\nhttps://t.co/zavnz6keCT\\n\\n #Metropolitan #AdadiKompas</td>\n",
       "    </tr>\n",
       "    <tr>\n",
       "      <th>4356</th>\n",
       "      <td>1497128313013542912</td>\n",
       "      <td>2022-02-25 08:36:19+00:00</td>\n",
       "      <td>TEMPO.CO</td>\n",
       "      <td>Supaya antibodi terbentuk dengan baik dan tidak timbul risiko tertentu, berikut adalah hal-hal yang tidak dianjurkan bagi seseorang setelah menerima vaksin booster Covid-19. #TempoGaya https://t.co/Gh4vaBuym3</td>\n",
       "    </tr>\n",
       "    <tr>\n",
       "      <th>5355</th>\n",
       "      <td>1500350464424136708</td>\n",
       "      <td>2022-03-06 06:00:00+00:00</td>\n",
       "      <td>CNN Indonesia</td>\n",
       "      <td>Long Covid adalah gejala Covid-19 yang berlangsung dalam waktu lama. Penyintas Omicron pun berisiko mengalami long Covid. Seperti apa gejalanya? #CNNIndonesia \\nhttps://t.co/rF8eWwOPmT</td>\n",
       "    </tr>\n",
       "    <tr>\n",
       "      <th>6216</th>\n",
       "      <td>1501456501113864195</td>\n",
       "      <td>2022-03-09 07:15:00+00:00</td>\n",
       "      <td>Harian Kompas</td>\n",
       "      <td>Dua tahun, Covid-19 melanda Indonesia. Penanganan kesehatan dan pemulihan ekonominya tak lepas dari strategi ”gas dan rem”. Dari buku ”Indonesia dan Covid-19: Kerja Keras di Tengah Pandemi”, terekam perjalanannya. #Kesehatan #AdadiKompas\\n\\nhttps://t.co/3FMEIs4Bff</td>\n",
       "    </tr>\n",
       "  </tbody>\n",
       "</table>\n",
       "</div>"
      ],
      "text/plain": [
       "                       id                       date        username  \\\n",
       "1113  1612460564248399880  2023-01-09 14:45:31+00:00  Tribunnews.com   \n",
       "2571  1645598665950777345  2023-04-11 01:24:30+00:00   Harian Kompas   \n",
       "4356  1497128313013542912  2022-02-25 08:36:19+00:00        TEMPO.CO   \n",
       "5355  1500350464424136708  2022-03-06 06:00:00+00:00   CNN Indonesia   \n",
       "6216  1501456501113864195  2022-03-09 07:15:00+00:00   Harian Kompas   \n",
       "\n",
       "                                                                                                                                                                                                                                                                        tweets  \n",
       "1113                                                                                                                                    Infeksi Covid-19 China Kian Menggila, 90 Persen Warga di Provinsi Henan Dinyatakan Positif\\n \\nhttps://t.co/MMS3B02kMJ via @tribunnews  \n",
       "2571                      Pelabuhan Merak memegang kunci sebagai sarana penghubung antarpulau. Pada mudik Lebaran 2023, ada euforia menyambut mudik setelah tahun sebelumnya ada pembatasan karena pandemi Covid-19.\\n\\nhttps://t.co/zavnz6keCT\\n\\n #Metropolitan #AdadiKompas  \n",
       "4356                                                          Supaya antibodi terbentuk dengan baik dan tidak timbul risiko tertentu, berikut adalah hal-hal yang tidak dianjurkan bagi seseorang setelah menerima vaksin booster Covid-19. #TempoGaya https://t.co/Gh4vaBuym3  \n",
       "5355                                                                                  Long Covid adalah gejala Covid-19 yang berlangsung dalam waktu lama. Penyintas Omicron pun berisiko mengalami long Covid. Seperti apa gejalanya? #CNNIndonesia \\nhttps://t.co/rF8eWwOPmT  \n",
       "6216  Dua tahun, Covid-19 melanda Indonesia. Penanganan kesehatan dan pemulihan ekonominya tak lepas dari strategi ”gas dan rem”. Dari buku ”Indonesia dan Covid-19: Kerja Keras di Tengah Pandemi”, terekam perjalanannya. #Kesehatan #AdadiKompas\\n\\nhttps://t.co/3FMEIs4Bff  "
      ]
     },
     "execution_count": 7,
     "metadata": {},
     "output_type": "execute_result"
    }
   ],
   "source": [
    "duplicates = df[df.duplicated(subset='tweets')]\n",
    "duplicates.head()"
   ]
  },
  {
   "cell_type": "code",
   "execution_count": 8,
   "id": "912f9fef-de37-428d-a2e8-e1e7ff008ac5",
   "metadata": {},
   "outputs": [],
   "source": [
    "df.drop_duplicates(subset='tweets', inplace=True)"
   ]
  },
  {
   "cell_type": "code",
   "execution_count": 9,
   "id": "7de0a657-c936-491a-83a5-964ecb17fb49",
   "metadata": {},
   "outputs": [
    {
     "name": "stdout",
     "output_type": "stream",
     "text": [
      "<class 'pandas.core.frame.DataFrame'>\n",
      "Int64Index: 36714 entries, 0 to 36760\n",
      "Data columns (total 4 columns):\n",
      " #   Column    Non-Null Count  Dtype \n",
      "---  ------    --------------  ----- \n",
      " 0   id        36714 non-null  int64 \n",
      " 1   date      36714 non-null  object\n",
      " 2   username  36714 non-null  object\n",
      " 3   tweets    36714 non-null  object\n",
      "dtypes: int64(1), object(3)\n",
      "memory usage: 1.4+ MB\n"
     ]
    }
   ],
   "source": [
    "df.info()"
   ]
  },
  {
   "cell_type": "markdown",
   "id": "b1301f44-1736-425d-af89-fa02fbc480b9",
   "metadata": {},
   "source": [
    "# Select tweets column only"
   ]
  },
  {
   "cell_type": "code",
   "execution_count": 10,
   "id": "898454f6-b9dc-481f-9c70-9d876153520a",
   "metadata": {},
   "outputs": [
    {
     "data": {
      "text/html": [
       "<div>\n",
       "<style scoped>\n",
       "    .dataframe tbody tr th:only-of-type {\n",
       "        vertical-align: middle;\n",
       "    }\n",
       "\n",
       "    .dataframe tbody tr th {\n",
       "        vertical-align: top;\n",
       "    }\n",
       "\n",
       "    .dataframe thead th {\n",
       "        text-align: right;\n",
       "    }\n",
       "</style>\n",
       "<table border=\"1\" class=\"dataframe\">\n",
       "  <thead>\n",
       "    <tr style=\"text-align: right;\">\n",
       "      <th></th>\n",
       "      <th>tweets</th>\n",
       "    </tr>\n",
       "  </thead>\n",
       "  <tbody>\n",
       "    <tr>\n",
       "      <th>0</th>\n",
       "      <td>Belum Ada Bukti, Gambar yang Diklaim Pembekuan Darah setelah Vaksinasi Covid-19 #TempoCekFakta #CekFakta https://t.co/GwiECxsIQT</td>\n",
       "    </tr>\n",
       "    <tr>\n",
       "      <th>1</th>\n",
       "      <td>Keliru, Klaim Vaksin Covid-19 Berbasis mRNA dan Adenoviral Menurunkan Sistem Kekebalan Tubuh #TempoCekFakta #CekFakta https://t.co/bb7YyZPUej</td>\n",
       "    </tr>\n",
       "    <tr>\n",
       "      <th>2</th>\n",
       "      <td>Kemenkes Minta Penonton Konser Coldplay Booster Vaksin Covid https://t.co/3rw9504s2j</td>\n",
       "    </tr>\n",
       "    <tr>\n",
       "      <th>3</th>\n",
       "      <td>Jadwal dan Lokasi Vaksin Covid-19 Surabaya Hari Ini 17 Mei 2023 #jadwalvaksin https://t.co/MNeKGlEQf0</td>\n",
       "    </tr>\n",
       "    <tr>\n",
       "      <th>4</th>\n",
       "      <td>#BeritaJatim \\nJadwal dan Lokasi Vaksin Covid-19 Surabaya Hari Ini 17 Mei 2023\\n#infovaksinsurabaya\\n#vaksinbooster \\nhttps://t.co/MNeKGlEQf0</td>\n",
       "    </tr>\n",
       "  </tbody>\n",
       "</table>\n",
       "</div>"
      ],
      "text/plain": [
       "                                                                                                                                          tweets\n",
       "0               Belum Ada Bukti, Gambar yang Diklaim Pembekuan Darah setelah Vaksinasi Covid-19 #TempoCekFakta #CekFakta https://t.co/GwiECxsIQT\n",
       "1  Keliru, Klaim Vaksin Covid-19 Berbasis mRNA dan Adenoviral Menurunkan Sistem Kekebalan Tubuh #TempoCekFakta #CekFakta https://t.co/bb7YyZPUej\n",
       "2                                                           Kemenkes Minta Penonton Konser Coldplay Booster Vaksin Covid https://t.co/3rw9504s2j\n",
       "3                                          Jadwal dan Lokasi Vaksin Covid-19 Surabaya Hari Ini 17 Mei 2023 #jadwalvaksin https://t.co/MNeKGlEQf0\n",
       "4  #BeritaJatim \\nJadwal dan Lokasi Vaksin Covid-19 Surabaya Hari Ini 17 Mei 2023\\n#infovaksinsurabaya\\n#vaksinbooster \\nhttps://t.co/MNeKGlEQf0"
      ]
     },
     "execution_count": 10,
     "metadata": {},
     "output_type": "execute_result"
    }
   ],
   "source": [
    "df_tweets = df[['tweets']].copy()\n",
    "df_tweets.head()"
   ]
  },
  {
   "cell_type": "code",
   "execution_count": 11,
   "id": "de06eec8-5818-43b8-a887-64afcded0c25",
   "metadata": {},
   "outputs": [
    {
     "name": "stdout",
     "output_type": "stream",
     "text": [
      "<class 'pandas.core.frame.DataFrame'>\n",
      "Int64Index: 36714 entries, 0 to 36760\n",
      "Data columns (total 1 columns):\n",
      " #   Column  Non-Null Count  Dtype \n",
      "---  ------  --------------  ----- \n",
      " 0   tweets  36714 non-null  object\n",
      "dtypes: object(1)\n",
      "memory usage: 573.7+ KB\n"
     ]
    }
   ],
   "source": [
    "df_tweets.info()"
   ]
  },
  {
   "cell_type": "markdown",
   "id": "ea48b7da-0db8-4c61-96d4-7dd3397e0762",
   "metadata": {},
   "source": [
    "# Cleaning Function"
   ]
  },
  {
   "cell_type": "code",
   "execution_count": 12,
   "id": "cbf11748-6ca9-4c34-b6a3-77c93bade081",
   "metadata": {},
   "outputs": [],
   "source": [
    "def lowercase(text):\n",
    "    clean_text = text.lower()\n",
    "    return clean_text\n",
    "\n",
    "def remove_newline(text):\n",
    "    clean_text = text.replace('\\n', ' ') \n",
    "    return clean_text\n",
    "\n",
    "def remove_hastag(text):\n",
    "    clean_text = re.sub(r'#\\S+', '', text)\n",
    "    return clean_text\n",
    "\n",
    "def remove_url(text):\n",
    "    url_pattern = r\"http[s]?://(?:[a-zA-Z]|[0-9]|[$-_@.&+]|[!*\\\\(\\\\),]|(?:%[0-9a-fA-F][0-9a-fA-F]))+\"\n",
    "    clean_text = re.sub(url_pattern, \"\", text)\n",
    "    return clean_text\n",
    "\n",
    "def remove_punctuation(text):\n",
    "    clean_text = text.translate(str.maketrans(\"\", \"\", string.punctuation))\n",
    "    return clean_text\n",
    "\n",
    "def remove_digits(text):\n",
    "    clean_text = re.sub(r'\\d', '', text)\n",
    "    return clean_text\n",
    "\n",
    "def remove_emoji(text):\n",
    "    clean_text = re.sub(r':[^:]+:', '', emoji.demojize(text))\n",
    "    return clean_text"
   ]
  },
  {
   "cell_type": "markdown",
   "id": "b33a0757-51dd-40fc-877b-860075442591",
   "metadata": {},
   "source": [
    " # 1. Lowercasing"
   ]
  },
  {
   "cell_type": "code",
   "execution_count": 13,
   "id": "9bb4478e-b46c-4522-9a70-16b34a8e862a",
   "metadata": {},
   "outputs": [],
   "source": [
    "df_lowercase = df_tweets.copy()"
   ]
  },
  {
   "cell_type": "code",
   "execution_count": 14,
   "id": "0af9b4d2-4d19-464f-8cd5-2a24e9632964",
   "metadata": {},
   "outputs": [],
   "source": [
    "df_lowercase['lowercase'] = df_lowercase['tweets'].apply(lowercase)"
   ]
  },
  {
   "cell_type": "code",
   "execution_count": 15,
   "id": "6eac30dc-e041-404c-9842-a7baa17c00dd",
   "metadata": {},
   "outputs": [
    {
     "data": {
      "text/html": [
       "<div>\n",
       "<style scoped>\n",
       "    .dataframe tbody tr th:only-of-type {\n",
       "        vertical-align: middle;\n",
       "    }\n",
       "\n",
       "    .dataframe tbody tr th {\n",
       "        vertical-align: top;\n",
       "    }\n",
       "\n",
       "    .dataframe thead th {\n",
       "        text-align: right;\n",
       "    }\n",
       "</style>\n",
       "<table border=\"1\" class=\"dataframe\">\n",
       "  <thead>\n",
       "    <tr style=\"text-align: right;\">\n",
       "      <th></th>\n",
       "      <th>tweets</th>\n",
       "      <th>lowercase</th>\n",
       "    </tr>\n",
       "  </thead>\n",
       "  <tbody>\n",
       "    <tr>\n",
       "      <th>90</th>\n",
       "      <td>#BeritaJatim \\nJadwal dan Lokasi Vaksin Covid-19 Surabaya Hari Ini 23 Mei 2023\\n#infovaksinsurabaya\\n#vaksinbooster \\nhttps://t.co/5ApqGrVTED</td>\n",
       "      <td>#beritajatim \\njadwal dan lokasi vaksin covid-19 surabaya hari ini 23 mei 2023\\n#infovaksinsurabaya\\n#vaksinbooster \\nhttps://t.co/5apqgrvted</td>\n",
       "    </tr>\n",
       "    <tr>\n",
       "      <th>91</th>\n",
       "      <td>Jadwal dan Lokasi Vaksin Covid-19 Surabaya Hari Ini 23 Mei 2023 #jadwalvaksin https://t.co/5ApqGrWrub</td>\n",
       "      <td>jadwal dan lokasi vaksin covid-19 surabaya hari ini 23 mei 2023 #jadwalvaksin https://t.co/5apqgrwrub</td>\n",
       "    </tr>\n",
       "    <tr>\n",
       "      <th>92</th>\n",
       "      <td>PM Singapura Positif Covid-19 Usai Pulang dari Afrika Selatan #TempoDunia https://t.co/JyF9ckNwfy</td>\n",
       "      <td>pm singapura positif covid-19 usai pulang dari afrika selatan #tempodunia https://t.co/jyf9cknwfy</td>\n",
       "    </tr>\n",
       "    <tr>\n",
       "      <th>93</th>\n",
       "      <td>Eeng Saptahadi meninggal dunia pasca terpapar COVID-19. Sebelum meninggal sang aktor sempat dipasangi ventilator. Apa itu ventilator? https://t.co/TOpHOIrGVu</td>\n",
       "      <td>eeng saptahadi meninggal dunia pasca terpapar covid-19. sebelum meninggal sang aktor sempat dipasangi ventilator. apa itu ventilator? https://t.co/tophoirgvu</td>\n",
       "    </tr>\n",
       "    <tr>\n",
       "      <th>94</th>\n",
       "      <td>Plt Menkominfo Mahfud MD memaparkan proyek pembangunan BTS 4G oleh Kementerian Komunikasi dan Informatika mulai bermasalah sejak 2020 atau masa awal pandemi Covid-19.\\n\\nPadahal menurut Mahfud, proyek pembangunan BTS 4G telah berlangsung sejak 2006 dan belum pernah bermasalah. &amp;lt;… https://t.co/poiOOcyQjl</td>\n",
       "      <td>plt menkominfo mahfud md memaparkan proyek pembangunan bts 4g oleh kementerian komunikasi dan informatika mulai bermasalah sejak 2020 atau masa awal pandemi covid-19.\\n\\npadahal menurut mahfud, proyek pembangunan bts 4g telah berlangsung sejak 2006 dan belum pernah bermasalah. &amp;lt;… https://t.co/poioocyqjl</td>\n",
       "    </tr>\n",
       "    <tr>\n",
       "      <th>95</th>\n",
       "      <td>Sejak pandemi covid-19, cakupan imunisasi rabies untuk anjing atau hewan penular rabies di Flores dan Lembata sangat rendah.  https://t.co/eS68pDdDZ9</td>\n",
       "      <td>sejak pandemi covid-19, cakupan imunisasi rabies untuk anjing atau hewan penular rabies di flores dan lembata sangat rendah.  https://t.co/es68pdddz9</td>\n",
       "    </tr>\n",
       "    <tr>\n",
       "      <th>96</th>\n",
       "      <td>China Hapus Wajib Karantina Bagi Pelancong Asing di Saat Kasus Covid-19 Melonjak #LengkapCepatBeritanya #BeritaTerkini #International #BeritaInternasional . https://t.co/bXROipUUIP</td>\n",
       "      <td>china hapus wajib karantina bagi pelancong asing di saat kasus covid-19 melonjak #lengkapcepatberitanya #beritaterkini #international #beritainternasional . https://t.co/bxroipuuip</td>\n",
       "    </tr>\n",
       "    <tr>\n",
       "      <th>97</th>\n",
       "      <td>Covid-19 Kembali Merebak di China, Pencabutan PPKM Perlu Hati-Hati #LengkapCepatBeritanya #BeritaTerkini #Berita #News #BeritaNasional . https://t.co/9VciJm3pkf</td>\n",
       "      <td>covid-19 kembali merebak di china, pencabutan ppkm perlu hati-hati #lengkapcepatberitanya #beritaterkini #berita #news #beritanasional . https://t.co/9vcijm3pkf</td>\n",
       "    </tr>\n",
       "    <tr>\n",
       "      <th>98</th>\n",
       "      <td>Sebaran 468 Konfirmasi Positif Covid-19 di Indonesia, 6 Provinsi Nihil Kasus #LengkapCepatBeritanya #BeritaTerkini #Berita #News #BeritaNasional . https://t.co/X09MDSUGAW</td>\n",
       "      <td>sebaran 468 konfirmasi positif covid-19 di indonesia, 6 provinsi nihil kasus #lengkapcepatberitanya #beritaterkini #berita #news #beritanasional . https://t.co/x09mdsugaw</td>\n",
       "    </tr>\n",
       "    <tr>\n",
       "      <th>99</th>\n",
       "      <td>'Update' Covid-19 Per Senin 26 Desember 2022: Positif 6.716.592 Orang, Sembuh 6.538.568 dan Meninggal 160.551 #LengkapCepatBeritanya #BeritaTerkini #Berita #News #BeritaNasional . https://t.co/xSXWXUOlhy</td>\n",
       "      <td>'update' covid-19 per senin 26 desember 2022: positif 6.716.592 orang, sembuh 6.538.568 dan meninggal 160.551 #lengkapcepatberitanya #beritaterkini #berita #news #beritanasional . https://t.co/xsxwxuolhy</td>\n",
       "    </tr>\n",
       "  </tbody>\n",
       "</table>\n",
       "</div>"
      ],
      "text/plain": [
       "                                                                                                                                                                                                                                                                                                                 tweets  \\\n",
       "90                                                                                                                                                                        #BeritaJatim \\nJadwal dan Lokasi Vaksin Covid-19 Surabaya Hari Ini 23 Mei 2023\\n#infovaksinsurabaya\\n#vaksinbooster \\nhttps://t.co/5ApqGrVTED   \n",
       "91                                                                                                                                                                                                                Jadwal dan Lokasi Vaksin Covid-19 Surabaya Hari Ini 23 Mei 2023 #jadwalvaksin https://t.co/5ApqGrWrub   \n",
       "92                                                                                                                                                                                                                    PM Singapura Positif Covid-19 Usai Pulang dari Afrika Selatan #TempoDunia https://t.co/JyF9ckNwfy   \n",
       "93                                                                                                                                                        Eeng Saptahadi meninggal dunia pasca terpapar COVID-19. Sebelum meninggal sang aktor sempat dipasangi ventilator. Apa itu ventilator? https://t.co/TOpHOIrGVu   \n",
       "94  Plt Menkominfo Mahfud MD memaparkan proyek pembangunan BTS 4G oleh Kementerian Komunikasi dan Informatika mulai bermasalah sejak 2020 atau masa awal pandemi Covid-19.\\n\\nPadahal menurut Mahfud, proyek pembangunan BTS 4G telah berlangsung sejak 2006 dan belum pernah bermasalah. &lt;… https://t.co/poiOOcyQjl   \n",
       "95                                                                                                                                                                Sejak pandemi covid-19, cakupan imunisasi rabies untuk anjing atau hewan penular rabies di Flores dan Lembata sangat rendah.  https://t.co/eS68pDdDZ9   \n",
       "96                                                                                                                                 China Hapus Wajib Karantina Bagi Pelancong Asing di Saat Kasus Covid-19 Melonjak #LengkapCepatBeritanya #BeritaTerkini #International #BeritaInternasional . https://t.co/bXROipUUIP   \n",
       "97                                                                                                                                                     Covid-19 Kembali Merebak di China, Pencabutan PPKM Perlu Hati-Hati #LengkapCepatBeritanya #BeritaTerkini #Berita #News #BeritaNasional . https://t.co/9VciJm3pkf   \n",
       "98                                                                                                                                           Sebaran 468 Konfirmasi Positif Covid-19 di Indonesia, 6 Provinsi Nihil Kasus #LengkapCepatBeritanya #BeritaTerkini #Berita #News #BeritaNasional . https://t.co/X09MDSUGAW   \n",
       "99                                                                                                          'Update' Covid-19 Per Senin 26 Desember 2022: Positif 6.716.592 Orang, Sembuh 6.538.568 dan Meninggal 160.551 #LengkapCepatBeritanya #BeritaTerkini #Berita #News #BeritaNasional . https://t.co/xSXWXUOlhy   \n",
       "\n",
       "                                                                                                                                                                                                                                                                                                              lowercase  \n",
       "90                                                                                                                                                                        #beritajatim \\njadwal dan lokasi vaksin covid-19 surabaya hari ini 23 mei 2023\\n#infovaksinsurabaya\\n#vaksinbooster \\nhttps://t.co/5apqgrvted  \n",
       "91                                                                                                                                                                                                                jadwal dan lokasi vaksin covid-19 surabaya hari ini 23 mei 2023 #jadwalvaksin https://t.co/5apqgrwrub  \n",
       "92                                                                                                                                                                                                                    pm singapura positif covid-19 usai pulang dari afrika selatan #tempodunia https://t.co/jyf9cknwfy  \n",
       "93                                                                                                                                                        eeng saptahadi meninggal dunia pasca terpapar covid-19. sebelum meninggal sang aktor sempat dipasangi ventilator. apa itu ventilator? https://t.co/tophoirgvu  \n",
       "94  plt menkominfo mahfud md memaparkan proyek pembangunan bts 4g oleh kementerian komunikasi dan informatika mulai bermasalah sejak 2020 atau masa awal pandemi covid-19.\\n\\npadahal menurut mahfud, proyek pembangunan bts 4g telah berlangsung sejak 2006 dan belum pernah bermasalah. &lt;… https://t.co/poioocyqjl  \n",
       "95                                                                                                                                                                sejak pandemi covid-19, cakupan imunisasi rabies untuk anjing atau hewan penular rabies di flores dan lembata sangat rendah.  https://t.co/es68pdddz9  \n",
       "96                                                                                                                                 china hapus wajib karantina bagi pelancong asing di saat kasus covid-19 melonjak #lengkapcepatberitanya #beritaterkini #international #beritainternasional . https://t.co/bxroipuuip  \n",
       "97                                                                                                                                                     covid-19 kembali merebak di china, pencabutan ppkm perlu hati-hati #lengkapcepatberitanya #beritaterkini #berita #news #beritanasional . https://t.co/9vcijm3pkf  \n",
       "98                                                                                                                                           sebaran 468 konfirmasi positif covid-19 di indonesia, 6 provinsi nihil kasus #lengkapcepatberitanya #beritaterkini #berita #news #beritanasional . https://t.co/x09mdsugaw  \n",
       "99                                                                                                          'update' covid-19 per senin 26 desember 2022: positif 6.716.592 orang, sembuh 6.538.568 dan meninggal 160.551 #lengkapcepatberitanya #beritaterkini #berita #news #beritanasional . https://t.co/xsxwxuolhy  "
      ]
     },
     "execution_count": 15,
     "metadata": {},
     "output_type": "execute_result"
    }
   ],
   "source": [
    "df_lowercase.head(100).tail(10)"
   ]
  },
  {
   "cell_type": "markdown",
   "id": "2be58bdc-4a52-411a-9b00-d3b3c4a2d3f5",
   "metadata": {},
   "source": [
    "# 2. Remove newline"
   ]
  },
  {
   "cell_type": "code",
   "execution_count": 16,
   "id": "5787092f-477f-40e5-b571-7600c0157ee6",
   "metadata": {},
   "outputs": [],
   "source": [
    "df_re_newline = df_lowercase[['lowercase']].copy()"
   ]
  },
  {
   "cell_type": "code",
   "execution_count": 17,
   "id": "79eec185-b75d-4249-84ee-294e93b6d528",
   "metadata": {},
   "outputs": [
    {
     "data": {
      "text/html": [
       "<div>\n",
       "<style scoped>\n",
       "    .dataframe tbody tr th:only-of-type {\n",
       "        vertical-align: middle;\n",
       "    }\n",
       "\n",
       "    .dataframe tbody tr th {\n",
       "        vertical-align: top;\n",
       "    }\n",
       "\n",
       "    .dataframe thead th {\n",
       "        text-align: right;\n",
       "    }\n",
       "</style>\n",
       "<table border=\"1\" class=\"dataframe\">\n",
       "  <thead>\n",
       "    <tr style=\"text-align: right;\">\n",
       "      <th></th>\n",
       "      <th>lowercase</th>\n",
       "    </tr>\n",
       "  </thead>\n",
       "  <tbody>\n",
       "    <tr>\n",
       "      <th>0</th>\n",
       "      <td>belum ada bukti, gambar yang diklaim pembekuan darah setelah vaksinasi covid-19 #tempocekfakta #cekfakta https://t.co/gwiecxsiqt</td>\n",
       "    </tr>\n",
       "    <tr>\n",
       "      <th>1</th>\n",
       "      <td>keliru, klaim vaksin covid-19 berbasis mrna dan adenoviral menurunkan sistem kekebalan tubuh #tempocekfakta #cekfakta https://t.co/bb7yyzpuej</td>\n",
       "    </tr>\n",
       "    <tr>\n",
       "      <th>2</th>\n",
       "      <td>kemenkes minta penonton konser coldplay booster vaksin covid https://t.co/3rw9504s2j</td>\n",
       "    </tr>\n",
       "    <tr>\n",
       "      <th>3</th>\n",
       "      <td>jadwal dan lokasi vaksin covid-19 surabaya hari ini 17 mei 2023 #jadwalvaksin https://t.co/mnekgleqf0</td>\n",
       "    </tr>\n",
       "    <tr>\n",
       "      <th>4</th>\n",
       "      <td>#beritajatim \\njadwal dan lokasi vaksin covid-19 surabaya hari ini 17 mei 2023\\n#infovaksinsurabaya\\n#vaksinbooster \\nhttps://t.co/mnekgleqf0</td>\n",
       "    </tr>\n",
       "  </tbody>\n",
       "</table>\n",
       "</div>"
      ],
      "text/plain": [
       "                                                                                                                                       lowercase\n",
       "0               belum ada bukti, gambar yang diklaim pembekuan darah setelah vaksinasi covid-19 #tempocekfakta #cekfakta https://t.co/gwiecxsiqt\n",
       "1  keliru, klaim vaksin covid-19 berbasis mrna dan adenoviral menurunkan sistem kekebalan tubuh #tempocekfakta #cekfakta https://t.co/bb7yyzpuej\n",
       "2                                                           kemenkes minta penonton konser coldplay booster vaksin covid https://t.co/3rw9504s2j\n",
       "3                                          jadwal dan lokasi vaksin covid-19 surabaya hari ini 17 mei 2023 #jadwalvaksin https://t.co/mnekgleqf0\n",
       "4  #beritajatim \\njadwal dan lokasi vaksin covid-19 surabaya hari ini 17 mei 2023\\n#infovaksinsurabaya\\n#vaksinbooster \\nhttps://t.co/mnekgleqf0"
      ]
     },
     "execution_count": 17,
     "metadata": {},
     "output_type": "execute_result"
    }
   ],
   "source": [
    "df_re_newline.head()"
   ]
  },
  {
   "cell_type": "code",
   "execution_count": 18,
   "id": "1f921889-be39-4631-abe7-162cfbd5bf05",
   "metadata": {},
   "outputs": [
    {
     "name": "stdout",
     "output_type": "stream",
     "text": [
      "                                                                                                                                                                                                                                                                                     lowercase\n",
      "4                                                                                                                                                #beritajatim \\njadwal dan lokasi vaksin covid-19 surabaya hari ini 17 mei 2023\\n#infovaksinsurabaya\\n#vaksinbooster \\nhttps://t.co/mnekgleqf0\n",
      "10                                                                                                                                                #beritajatim\\njadwal dan lokasi vaksin covid-19 surabaya hari ini 18 mei 2023\\n#infovaksinsurabaya\\n#vaksinbooster \\nhttps://t.co/mtki746yh9\n",
      "16                                                                                                                                                                        meski who telah mencabut status kedaruratan covid-19, kemenkes ri punya pendapat sendiri.\\n\\nhttps://t.co/vv5vp0jzu2\n",
      "17                   peran sentral adb menjadi makin kentara di era pemulihan ekonomi kawasan ini dari pandemi covid-19. namun masih banyak tantangan bagi adb membantu  negara-negara anggota mencapai pertumbuhan inklusif dan berkelanjutan. #opini #adadikompas\\n\\nhttps://t.co/9dmzriidpu\n",
      "19                                                                                                       dampak covid-19 berkepanjangan berpotensi merusak daerah otak yang memicu penurunan kemampuan pengenalan wajah atau prosopagnosia. #kesehatan #adadikompas\\n\\nhttps://t.co/jvwjtngjah\n",
      "...                                                                                                                                                                                                                                                                                        ...\n",
      "36752  sejumlah pemain di 3 liga nasional berbeda, yaitu ibl, liga 1, dan proliga, tertular virus korona. melonjaknya jumlah kasus positif covid-19 menuntut kehati-hatian pihak penyelenggara. #olahraga #adadikompas @kelvinhianusa\\n@fajriansyah1989 @iksanmahar\\n\\nhttps://t.co/bqqudefenn\n",
      "36753                                                                     \"kami terus menyampaikan keprihatinan kami kepada spotify untuk memastikan perubahan pada platformnya dilakukan demi membantu mengatasi krisis kesehatan masyarakat ini...\" juru bicara. \\n\\nhttps://t.co/zl0xzmjeuo\n",
      "36755                langkah pencegahan dan pengobatan sama-sama berperan penting di tengah lonjakan kasus covid-19. langkah ini sebagai upaya persiapan bagi indonesia menghadapi potensi gelombang pasang pandemi. #riset @ddy_afrianto @kompasdata\\n#adadikompas\\n\\nhttps://t.co/zhalbkcovg\n",
      "36756                                                       kabar dari kerabat, sahabat, yang terinfeksi covid-19 bermunculan lagi di media sosial. di sisi lain, kepatuhan terhadap protokol kesehatan di ruang publik kian melonggar. #opini #tajuk #adadikompas \\n\\nhttps://t.co/0apc3rmnwj\n",
      "36759     peningkatan kasus covid-19 dengan penyebaran cepat varian omicron di indonesia disebut epidemiolog sebagai \"kegagalan\" dalam strategi penahanan pandemi, sehingga sulit diharapkan segera berakhir. intervensi pemerintah pun dinilai \"tidak efektif\".  \\n\\nhttps://t.co/3hczsmmvho.\n",
      "\n",
      "[5075 rows x 1 columns]\n"
     ]
    }
   ],
   "source": [
    "pattern_newline = r'\\n'\n",
    "matching_rows_newline = df_re_newline[df_re_newline['lowercase'].str.contains(pattern_newline)]\n",
    "print(matching_rows_newline)"
   ]
  },
  {
   "cell_type": "code",
   "execution_count": 19,
   "id": "f48f85f3-6abd-4f23-8063-1a5489824929",
   "metadata": {},
   "outputs": [
    {
     "name": "stdout",
     "output_type": "stream",
     "text": [
      "<class 'pandas.core.frame.DataFrame'>\n",
      "Int64Index: 5075 entries, 4 to 36759\n",
      "Data columns (total 2 columns):\n",
      " #   Column      Non-Null Count  Dtype \n",
      "---  ------      --------------  ----- \n",
      " 0   lowercase   5075 non-null   object\n",
      " 1   re_newline  5075 non-null   object\n",
      "dtypes: object(2)\n",
      "memory usage: 118.9+ KB\n"
     ]
    },
    {
     "name": "stderr",
     "output_type": "stream",
     "text": [
      "C:\\Users\\asus\\AppData\\Local\\Temp\\ipykernel_8628\\2800929330.py:1: SettingWithCopyWarning: \n",
      "A value is trying to be set on a copy of a slice from a DataFrame.\n",
      "Try using .loc[row_indexer,col_indexer] = value instead\n",
      "\n",
      "See the caveats in the documentation: https://pandas.pydata.org/pandas-docs/stable/user_guide/indexing.html#returning-a-view-versus-a-copy\n",
      "  matching_rows_newline['re_newline'] = matching_rows_newline['lowercase'].apply(remove_newline)\n"
     ]
    }
   ],
   "source": [
    "matching_rows_newline['re_newline'] = matching_rows_newline['lowercase'].apply(remove_newline)\n",
    "matching_rows_newline.info()"
   ]
  },
  {
   "cell_type": "code",
   "execution_count": 20,
   "id": "30517ec0-7b1d-49ed-a0ac-8676aa6a12c3",
   "metadata": {},
   "outputs": [
    {
     "data": {
      "text/html": [
       "<div>\n",
       "<style scoped>\n",
       "    .dataframe tbody tr th:only-of-type {\n",
       "        vertical-align: middle;\n",
       "    }\n",
       "\n",
       "    .dataframe tbody tr th {\n",
       "        vertical-align: top;\n",
       "    }\n",
       "\n",
       "    .dataframe thead th {\n",
       "        text-align: right;\n",
       "    }\n",
       "</style>\n",
       "<table border=\"1\" class=\"dataframe\">\n",
       "  <thead>\n",
       "    <tr style=\"text-align: right;\">\n",
       "      <th></th>\n",
       "      <th>lowercase</th>\n",
       "      <th>re_newline</th>\n",
       "    </tr>\n",
       "  </thead>\n",
       "  <tbody>\n",
       "    <tr>\n",
       "      <th>4</th>\n",
       "      <td>#beritajatim \\njadwal dan lokasi vaksin covid-19 surabaya hari ini 17 mei 2023\\n#infovaksinsurabaya\\n#vaksinbooster \\nhttps://t.co/mnekgleqf0</td>\n",
       "      <td>#beritajatim  jadwal dan lokasi vaksin covid-19 surabaya hari ini 17 mei 2023 #infovaksinsurabaya #vaksinbooster  https://t.co/mnekgleqf0</td>\n",
       "    </tr>\n",
       "    <tr>\n",
       "      <th>10</th>\n",
       "      <td>#beritajatim\\njadwal dan lokasi vaksin covid-19 surabaya hari ini 18 mei 2023\\n#infovaksinsurabaya\\n#vaksinbooster \\nhttps://t.co/mtki746yh9</td>\n",
       "      <td>#beritajatim jadwal dan lokasi vaksin covid-19 surabaya hari ini 18 mei 2023 #infovaksinsurabaya #vaksinbooster  https://t.co/mtki746yh9</td>\n",
       "    </tr>\n",
       "    <tr>\n",
       "      <th>16</th>\n",
       "      <td>meski who telah mencabut status kedaruratan covid-19, kemenkes ri punya pendapat sendiri.\\n\\nhttps://t.co/vv5vp0jzu2</td>\n",
       "      <td>meski who telah mencabut status kedaruratan covid-19, kemenkes ri punya pendapat sendiri.  https://t.co/vv5vp0jzu2</td>\n",
       "    </tr>\n",
       "    <tr>\n",
       "      <th>17</th>\n",
       "      <td>peran sentral adb menjadi makin kentara di era pemulihan ekonomi kawasan ini dari pandemi covid-19. namun masih banyak tantangan bagi adb membantu  negara-negara anggota mencapai pertumbuhan inklusif dan berkelanjutan. #opini #adadikompas\\n\\nhttps://t.co/9dmzriidpu</td>\n",
       "      <td>peran sentral adb menjadi makin kentara di era pemulihan ekonomi kawasan ini dari pandemi covid-19. namun masih banyak tantangan bagi adb membantu  negara-negara anggota mencapai pertumbuhan inklusif dan berkelanjutan. #opini #adadikompas  https://t.co/9dmzriidpu</td>\n",
       "    </tr>\n",
       "    <tr>\n",
       "      <th>19</th>\n",
       "      <td>dampak covid-19 berkepanjangan berpotensi merusak daerah otak yang memicu penurunan kemampuan pengenalan wajah atau prosopagnosia. #kesehatan #adadikompas\\n\\nhttps://t.co/jvwjtngjah</td>\n",
       "      <td>dampak covid-19 berkepanjangan berpotensi merusak daerah otak yang memicu penurunan kemampuan pengenalan wajah atau prosopagnosia. #kesehatan #adadikompas  https://t.co/jvwjtngjah</td>\n",
       "    </tr>\n",
       "  </tbody>\n",
       "</table>\n",
       "</div>"
      ],
      "text/plain": [
       "                                                                                                                                                                                                                                                                    lowercase  \\\n",
       "4                                                                                                                               #beritajatim \\njadwal dan lokasi vaksin covid-19 surabaya hari ini 17 mei 2023\\n#infovaksinsurabaya\\n#vaksinbooster \\nhttps://t.co/mnekgleqf0   \n",
       "10                                                                                                                               #beritajatim\\njadwal dan lokasi vaksin covid-19 surabaya hari ini 18 mei 2023\\n#infovaksinsurabaya\\n#vaksinbooster \\nhttps://t.co/mtki746yh9   \n",
       "16                                                                                                                                                       meski who telah mencabut status kedaruratan covid-19, kemenkes ri punya pendapat sendiri.\\n\\nhttps://t.co/vv5vp0jzu2   \n",
       "17  peran sentral adb menjadi makin kentara di era pemulihan ekonomi kawasan ini dari pandemi covid-19. namun masih banyak tantangan bagi adb membantu  negara-negara anggota mencapai pertumbuhan inklusif dan berkelanjutan. #opini #adadikompas\\n\\nhttps://t.co/9dmzriidpu   \n",
       "19                                                                                      dampak covid-19 berkepanjangan berpotensi merusak daerah otak yang memicu penurunan kemampuan pengenalan wajah atau prosopagnosia. #kesehatan #adadikompas\\n\\nhttps://t.co/jvwjtngjah   \n",
       "\n",
       "                                                                                                                                                                                                                                                                 re_newline  \n",
       "4                                                                                                                                 #beritajatim  jadwal dan lokasi vaksin covid-19 surabaya hari ini 17 mei 2023 #infovaksinsurabaya #vaksinbooster  https://t.co/mnekgleqf0  \n",
       "10                                                                                                                                 #beritajatim jadwal dan lokasi vaksin covid-19 surabaya hari ini 18 mei 2023 #infovaksinsurabaya #vaksinbooster  https://t.co/mtki746yh9  \n",
       "16                                                                                                                                                       meski who telah mencabut status kedaruratan covid-19, kemenkes ri punya pendapat sendiri.  https://t.co/vv5vp0jzu2  \n",
       "17  peran sentral adb menjadi makin kentara di era pemulihan ekonomi kawasan ini dari pandemi covid-19. namun masih banyak tantangan bagi adb membantu  negara-negara anggota mencapai pertumbuhan inklusif dan berkelanjutan. #opini #adadikompas  https://t.co/9dmzriidpu  \n",
       "19                                                                                      dampak covid-19 berkepanjangan berpotensi merusak daerah otak yang memicu penurunan kemampuan pengenalan wajah atau prosopagnosia. #kesehatan #adadikompas  https://t.co/jvwjtngjah  "
      ]
     },
     "execution_count": 20,
     "metadata": {},
     "output_type": "execute_result"
    }
   ],
   "source": [
    "matching_rows_newline.head()"
   ]
  },
  {
   "cell_type": "code",
   "execution_count": 21,
   "id": "dcb52bec-802c-4a5c-b1f2-16b29591c0f4",
   "metadata": {},
   "outputs": [
    {
     "name": "stdout",
     "output_type": "stream",
     "text": [
      "<class 'pandas.core.frame.DataFrame'>\n",
      "Int64Index: 36714 entries, 0 to 36760\n",
      "Data columns (total 2 columns):\n",
      " #   Column      Non-Null Count  Dtype \n",
      "---  ------      --------------  ----- \n",
      " 0   lowercase   36714 non-null  object\n",
      " 1   re_newline  36714 non-null  object\n",
      "dtypes: object(2)\n",
      "memory usage: 860.5+ KB\n"
     ]
    }
   ],
   "source": [
    "df_re_newline['re_newline'] = df_re_newline['lowercase'].apply(remove_newline)\n",
    "df_re_newline.info()"
   ]
  },
  {
   "cell_type": "code",
   "execution_count": 22,
   "id": "7a2d35f5-2e72-415d-9bfa-08e3fc3a97e5",
   "metadata": {},
   "outputs": [
    {
     "data": {
      "text/html": [
       "<div>\n",
       "<style scoped>\n",
       "    .dataframe tbody tr th:only-of-type {\n",
       "        vertical-align: middle;\n",
       "    }\n",
       "\n",
       "    .dataframe tbody tr th {\n",
       "        vertical-align: top;\n",
       "    }\n",
       "\n",
       "    .dataframe thead th {\n",
       "        text-align: right;\n",
       "    }\n",
       "</style>\n",
       "<table border=\"1\" class=\"dataframe\">\n",
       "  <thead>\n",
       "    <tr style=\"text-align: right;\">\n",
       "      <th></th>\n",
       "      <th>lowercase</th>\n",
       "      <th>re_newline</th>\n",
       "    </tr>\n",
       "  </thead>\n",
       "  <tbody>\n",
       "    <tr>\n",
       "      <th>25</th>\n",
       "      <td>berikut ini, jumlah kasus covid-19 hingga hari ini untuk provinsi aceh, sumut, sumbar, riau, kepri, jambi, dan bengkulu: https://t.co/fxenzarekz</td>\n",
       "      <td>berikut ini, jumlah kasus covid-19 hingga hari ini untuk provinsi aceh, sumut, sumbar, riau, kepri, jambi, dan bengkulu: https://t.co/fxenzarekz</td>\n",
       "    </tr>\n",
       "    <tr>\n",
       "      <th>26</th>\n",
       "      <td>di tengah peralihan musim hujan ke kemarau, kemunculan berbagai jenis penyakit seperti demam berdarah dengue (dbd) perlu diwaspadai. https://t.co/tpdkqp2h1h</td>\n",
       "      <td>di tengah peralihan musim hujan ke kemarau, kemunculan berbagai jenis penyakit seperti demam berdarah dengue (dbd) perlu diwaspadai. https://t.co/tpdkqp2h1h</td>\n",
       "    </tr>\n",
       "    <tr>\n",
       "      <th>27</th>\n",
       "      <td>menurut sri mulyani, perkembangan dinamika global yang sedemikian cepat, pasca-pandemi telah menciptakan kompleksitas yang berat dalam tahun-tahun sekarang dan ke depan. (ld)\\n\\nhttps://t.co/xtdusuzdcf</td>\n",
       "      <td>menurut sri mulyani, perkembangan dinamika global yang sedemikian cepat, pasca-pandemi telah menciptakan kompleksitas yang berat dalam tahun-tahun sekarang dan ke depan. (ld)  https://t.co/xtdusuzdcf</td>\n",
       "    </tr>\n",
       "    <tr>\n",
       "      <th>28</th>\n",
       "      <td>banyak warga jepang lupa caranya tersenyum lantaran diharuskan menggunakan masker selama pandemi covid-19. mereka bahkan rela mengikuti kursus 'tersenyum'. https://t.co/2qmsyg8owh</td>\n",
       "      <td>banyak warga jepang lupa caranya tersenyum lantaran diharuskan menggunakan masker selama pandemi covid-19. mereka bahkan rela mengikuti kursus 'tersenyum'. https://t.co/2qmsyg8owh</td>\n",
       "    </tr>\n",
       "    <tr>\n",
       "      <th>29</th>\n",
       "      <td>industri pariwisata berupaya bangkit dari pandemi covid-19. namun,  pemulihan masih menghadapi sejumlah tantangan, seperti situasi geopolitik dan gejolak ekonomi. #ekonomi #adadikompas\\n\\nhttps://t.co/perqtel3sc</td>\n",
       "      <td>industri pariwisata berupaya bangkit dari pandemi covid-19. namun,  pemulihan masih menghadapi sejumlah tantangan, seperti situasi geopolitik dan gejolak ekonomi. #ekonomi #adadikompas  https://t.co/perqtel3sc</td>\n",
       "    </tr>\n",
       "    <tr>\n",
       "      <th>30</th>\n",
       "      <td>ghana tengah berjuang mencapai target vaksinasi covid-19. tercatat baru 42 persen masyarakat dari total populasi target divaksin yang mendapat dosis pertama. https://t.co/cao9h7jwtm</td>\n",
       "      <td>ghana tengah berjuang mencapai target vaksinasi covid-19. tercatat baru 42 persen masyarakat dari total populasi target divaksin yang mendapat dosis pertama. https://t.co/cao9h7jwtm</td>\n",
       "    </tr>\n",
       "    <tr>\n",
       "      <th>31</th>\n",
       "      <td>selama masa pandemi covid-19 kontraksi perekonomian indonesia turun sebesar 2,1 persen. meski begitu, menkeu sri mulyani mengatakan jika pertumbuhan ekonomi indonesia untuk bangkit dari pandemi lebih cepat dibanding negara lain.\\n\\nberita selengkapnya: https://t.co/p0oz1drs4y https://t.co/vqukpnfehb</td>\n",
       "      <td>selama masa pandemi covid-19 kontraksi perekonomian indonesia turun sebesar 2,1 persen. meski begitu, menkeu sri mulyani mengatakan jika pertumbuhan ekonomi indonesia untuk bangkit dari pandemi lebih cepat dibanding negara lain.  berita selengkapnya: https://t.co/p0oz1drs4y https://t.co/vqukpnfehb</td>\n",
       "    </tr>\n",
       "    <tr>\n",
       "      <th>32</th>\n",
       "      <td>who merekomendasikan bahwa vaksin penguat atau booster covid-19 bisa diperbarui. varian omicron xbb menjadi target utamanya. https://t.co/qz3ewjz6ls</td>\n",
       "      <td>who merekomendasikan bahwa vaksin penguat atau booster covid-19 bisa diperbarui. varian omicron xbb menjadi target utamanya. https://t.co/qz3ewjz6ls</td>\n",
       "    </tr>\n",
       "    <tr>\n",
       "      <th>33</th>\n",
       "      <td>sempat mengalami peningkatan kasus, puncak kematian gelombang covid-19 varian arcturus di dki jakarta disebut sudah terlewati minggu lalu. begini datanya. https://t.co/ltgxvheoes</td>\n",
       "      <td>sempat mengalami peningkatan kasus, puncak kematian gelombang covid-19 varian arcturus di dki jakarta disebut sudah terlewati minggu lalu. begini datanya. https://t.co/ltgxvheoes</td>\n",
       "    </tr>\n",
       "    <tr>\n",
       "      <th>34</th>\n",
       "      <td>di tengah peralihan musim hujan ke kemarau, kemunculan berbagai jenis penyakit seperti demam berdarah dengue (dbd) perlu diwaspadai.  https://t.co/4neujvvj1g</td>\n",
       "      <td>di tengah peralihan musim hujan ke kemarau, kemunculan berbagai jenis penyakit seperti demam berdarah dengue (dbd) perlu diwaspadai.  https://t.co/4neujvvj1g</td>\n",
       "    </tr>\n",
       "  </tbody>\n",
       "</table>\n",
       "</div>"
      ],
      "text/plain": [
       "                                                                                                                                                                                                                                                                                                       lowercase  \\\n",
       "25                                                                                                                                                              berikut ini, jumlah kasus covid-19 hingga hari ini untuk provinsi aceh, sumut, sumbar, riau, kepri, jambi, dan bengkulu: https://t.co/fxenzarekz   \n",
       "26                                                                                                                                                  di tengah peralihan musim hujan ke kemarau, kemunculan berbagai jenis penyakit seperti demam berdarah dengue (dbd) perlu diwaspadai. https://t.co/tpdkqp2h1h   \n",
       "27                                                                                                     menurut sri mulyani, perkembangan dinamika global yang sedemikian cepat, pasca-pandemi telah menciptakan kompleksitas yang berat dalam tahun-tahun sekarang dan ke depan. (ld)\\n\\nhttps://t.co/xtdusuzdcf   \n",
       "28                                                                                                                           banyak warga jepang lupa caranya tersenyum lantaran diharuskan menggunakan masker selama pandemi covid-19. mereka bahkan rela mengikuti kursus 'tersenyum'. https://t.co/2qmsyg8owh   \n",
       "29                                                                                           industri pariwisata berupaya bangkit dari pandemi covid-19. namun,  pemulihan masih menghadapi sejumlah tantangan, seperti situasi geopolitik dan gejolak ekonomi. #ekonomi #adadikompas\\n\\nhttps://t.co/perqtel3sc   \n",
       "30                                                                                                                         ghana tengah berjuang mencapai target vaksinasi covid-19. tercatat baru 42 persen masyarakat dari total populasi target divaksin yang mendapat dosis pertama. https://t.co/cao9h7jwtm   \n",
       "31  selama masa pandemi covid-19 kontraksi perekonomian indonesia turun sebesar 2,1 persen. meski begitu, menkeu sri mulyani mengatakan jika pertumbuhan ekonomi indonesia untuk bangkit dari pandemi lebih cepat dibanding negara lain.\\n\\nberita selengkapnya: https://t.co/p0oz1drs4y https://t.co/vqukpnfehb   \n",
       "32                                                                                                                                                          who merekomendasikan bahwa vaksin penguat atau booster covid-19 bisa diperbarui. varian omicron xbb menjadi target utamanya. https://t.co/qz3ewjz6ls   \n",
       "33                                                                                                                            sempat mengalami peningkatan kasus, puncak kematian gelombang covid-19 varian arcturus di dki jakarta disebut sudah terlewati minggu lalu. begini datanya. https://t.co/ltgxvheoes   \n",
       "34                                                                                                                                                 di tengah peralihan musim hujan ke kemarau, kemunculan berbagai jenis penyakit seperti demam berdarah dengue (dbd) perlu diwaspadai.  https://t.co/4neujvvj1g   \n",
       "\n",
       "                                                                                                                                                                                                                                                                                                    re_newline  \n",
       "25                                                                                                                                                            berikut ini, jumlah kasus covid-19 hingga hari ini untuk provinsi aceh, sumut, sumbar, riau, kepri, jambi, dan bengkulu: https://t.co/fxenzarekz  \n",
       "26                                                                                                                                                di tengah peralihan musim hujan ke kemarau, kemunculan berbagai jenis penyakit seperti demam berdarah dengue (dbd) perlu diwaspadai. https://t.co/tpdkqp2h1h  \n",
       "27                                                                                                     menurut sri mulyani, perkembangan dinamika global yang sedemikian cepat, pasca-pandemi telah menciptakan kompleksitas yang berat dalam tahun-tahun sekarang dan ke depan. (ld)  https://t.co/xtdusuzdcf  \n",
       "28                                                                                                                         banyak warga jepang lupa caranya tersenyum lantaran diharuskan menggunakan masker selama pandemi covid-19. mereka bahkan rela mengikuti kursus 'tersenyum'. https://t.co/2qmsyg8owh  \n",
       "29                                                                                           industri pariwisata berupaya bangkit dari pandemi covid-19. namun,  pemulihan masih menghadapi sejumlah tantangan, seperti situasi geopolitik dan gejolak ekonomi. #ekonomi #adadikompas  https://t.co/perqtel3sc  \n",
       "30                                                                                                                       ghana tengah berjuang mencapai target vaksinasi covid-19. tercatat baru 42 persen masyarakat dari total populasi target divaksin yang mendapat dosis pertama. https://t.co/cao9h7jwtm  \n",
       "31  selama masa pandemi covid-19 kontraksi perekonomian indonesia turun sebesar 2,1 persen. meski begitu, menkeu sri mulyani mengatakan jika pertumbuhan ekonomi indonesia untuk bangkit dari pandemi lebih cepat dibanding negara lain.  berita selengkapnya: https://t.co/p0oz1drs4y https://t.co/vqukpnfehb  \n",
       "32                                                                                                                                                        who merekomendasikan bahwa vaksin penguat atau booster covid-19 bisa diperbarui. varian omicron xbb menjadi target utamanya. https://t.co/qz3ewjz6ls  \n",
       "33                                                                                                                          sempat mengalami peningkatan kasus, puncak kematian gelombang covid-19 varian arcturus di dki jakarta disebut sudah terlewati minggu lalu. begini datanya. https://t.co/ltgxvheoes  \n",
       "34                                                                                                                                               di tengah peralihan musim hujan ke kemarau, kemunculan berbagai jenis penyakit seperti demam berdarah dengue (dbd) perlu diwaspadai.  https://t.co/4neujvvj1g  "
      ]
     },
     "execution_count": 22,
     "metadata": {},
     "output_type": "execute_result"
    }
   ],
   "source": [
    "df_re_newline.head(35).tail(10)"
   ]
  },
  {
   "cell_type": "markdown",
   "id": "b4008cf9-2d30-4ac7-b631-916fcf24dc18",
   "metadata": {},
   "source": [
    "# 3. Remove Hastag"
   ]
  },
  {
   "cell_type": "code",
   "execution_count": 23,
   "id": "057ac609-d603-4d55-a6f3-6f59ec9fe76e",
   "metadata": {},
   "outputs": [],
   "source": [
    "df_re_hastag = df_re_newline[['re_newline']].copy()"
   ]
  },
  {
   "cell_type": "code",
   "execution_count": 24,
   "id": "672daf36-3a64-43e5-b7c6-7a2ef3eb795a",
   "metadata": {},
   "outputs": [
    {
     "data": {
      "text/html": [
       "<div>\n",
       "<style scoped>\n",
       "    .dataframe tbody tr th:only-of-type {\n",
       "        vertical-align: middle;\n",
       "    }\n",
       "\n",
       "    .dataframe tbody tr th {\n",
       "        vertical-align: top;\n",
       "    }\n",
       "\n",
       "    .dataframe thead th {\n",
       "        text-align: right;\n",
       "    }\n",
       "</style>\n",
       "<table border=\"1\" class=\"dataframe\">\n",
       "  <thead>\n",
       "    <tr style=\"text-align: right;\">\n",
       "      <th></th>\n",
       "      <th>re_newline</th>\n",
       "    </tr>\n",
       "  </thead>\n",
       "  <tbody>\n",
       "    <tr>\n",
       "      <th>0</th>\n",
       "      <td>belum ada bukti, gambar yang diklaim pembekuan darah setelah vaksinasi covid-19 #tempocekfakta #cekfakta https://t.co/gwiecxsiqt</td>\n",
       "    </tr>\n",
       "    <tr>\n",
       "      <th>1</th>\n",
       "      <td>keliru, klaim vaksin covid-19 berbasis mrna dan adenoviral menurunkan sistem kekebalan tubuh #tempocekfakta #cekfakta https://t.co/bb7yyzpuej</td>\n",
       "    </tr>\n",
       "    <tr>\n",
       "      <th>2</th>\n",
       "      <td>kemenkes minta penonton konser coldplay booster vaksin covid https://t.co/3rw9504s2j</td>\n",
       "    </tr>\n",
       "    <tr>\n",
       "      <th>3</th>\n",
       "      <td>jadwal dan lokasi vaksin covid-19 surabaya hari ini 17 mei 2023 #jadwalvaksin https://t.co/mnekgleqf0</td>\n",
       "    </tr>\n",
       "    <tr>\n",
       "      <th>4</th>\n",
       "      <td>#beritajatim  jadwal dan lokasi vaksin covid-19 surabaya hari ini 17 mei 2023 #infovaksinsurabaya #vaksinbooster  https://t.co/mnekgleqf0</td>\n",
       "    </tr>\n",
       "  </tbody>\n",
       "</table>\n",
       "</div>"
      ],
      "text/plain": [
       "                                                                                                                                      re_newline\n",
       "0               belum ada bukti, gambar yang diklaim pembekuan darah setelah vaksinasi covid-19 #tempocekfakta #cekfakta https://t.co/gwiecxsiqt\n",
       "1  keliru, klaim vaksin covid-19 berbasis mrna dan adenoviral menurunkan sistem kekebalan tubuh #tempocekfakta #cekfakta https://t.co/bb7yyzpuej\n",
       "2                                                           kemenkes minta penonton konser coldplay booster vaksin covid https://t.co/3rw9504s2j\n",
       "3                                          jadwal dan lokasi vaksin covid-19 surabaya hari ini 17 mei 2023 #jadwalvaksin https://t.co/mnekgleqf0\n",
       "4      #beritajatim  jadwal dan lokasi vaksin covid-19 surabaya hari ini 17 mei 2023 #infovaksinsurabaya #vaksinbooster  https://t.co/mnekgleqf0"
      ]
     },
     "execution_count": 24,
     "metadata": {},
     "output_type": "execute_result"
    }
   ],
   "source": [
    "df_re_hastag.head()"
   ]
  },
  {
   "cell_type": "code",
   "execution_count": 25,
   "id": "cf14cc51-8047-4c6d-93d1-1190c62e9ec5",
   "metadata": {},
   "outputs": [
    {
     "name": "stdout",
     "output_type": "stream",
     "text": [
      "<class 'pandas.core.frame.DataFrame'>\n",
      "Int64Index: 36714 entries, 0 to 36760\n",
      "Data columns (total 2 columns):\n",
      " #   Column      Non-Null Count  Dtype \n",
      "---  ------      --------------  ----- \n",
      " 0   re_newline  36714 non-null  object\n",
      " 1   re_hastag   36714 non-null  object\n",
      "dtypes: object(2)\n",
      "memory usage: 860.5+ KB\n"
     ]
    }
   ],
   "source": [
    "df_re_hastag['re_hastag'] = df_re_hastag['re_newline'].apply(remove_hastag)\n",
    "df_re_hastag.info()"
   ]
  },
  {
   "cell_type": "code",
   "execution_count": 26,
   "id": "48141eca-dd1a-4e96-9bc6-a09330754ae6",
   "metadata": {},
   "outputs": [
    {
     "data": {
      "text/html": [
       "<div>\n",
       "<style scoped>\n",
       "    .dataframe tbody tr th:only-of-type {\n",
       "        vertical-align: middle;\n",
       "    }\n",
       "\n",
       "    .dataframe tbody tr th {\n",
       "        vertical-align: top;\n",
       "    }\n",
       "\n",
       "    .dataframe thead th {\n",
       "        text-align: right;\n",
       "    }\n",
       "</style>\n",
       "<table border=\"1\" class=\"dataframe\">\n",
       "  <thead>\n",
       "    <tr style=\"text-align: right;\">\n",
       "      <th></th>\n",
       "      <th>re_newline</th>\n",
       "      <th>re_hastag</th>\n",
       "    </tr>\n",
       "  </thead>\n",
       "  <tbody>\n",
       "    <tr>\n",
       "      <th>0</th>\n",
       "      <td>belum ada bukti, gambar yang diklaim pembekuan darah setelah vaksinasi covid-19 #tempocekfakta #cekfakta https://t.co/gwiecxsiqt</td>\n",
       "      <td>belum ada bukti, gambar yang diklaim pembekuan darah setelah vaksinasi covid-19   https://t.co/gwiecxsiqt</td>\n",
       "    </tr>\n",
       "    <tr>\n",
       "      <th>1</th>\n",
       "      <td>keliru, klaim vaksin covid-19 berbasis mrna dan adenoviral menurunkan sistem kekebalan tubuh #tempocekfakta #cekfakta https://t.co/bb7yyzpuej</td>\n",
       "      <td>keliru, klaim vaksin covid-19 berbasis mrna dan adenoviral menurunkan sistem kekebalan tubuh   https://t.co/bb7yyzpuej</td>\n",
       "    </tr>\n",
       "    <tr>\n",
       "      <th>2</th>\n",
       "      <td>kemenkes minta penonton konser coldplay booster vaksin covid https://t.co/3rw9504s2j</td>\n",
       "      <td>kemenkes minta penonton konser coldplay booster vaksin covid https://t.co/3rw9504s2j</td>\n",
       "    </tr>\n",
       "    <tr>\n",
       "      <th>3</th>\n",
       "      <td>jadwal dan lokasi vaksin covid-19 surabaya hari ini 17 mei 2023 #jadwalvaksin https://t.co/mnekgleqf0</td>\n",
       "      <td>jadwal dan lokasi vaksin covid-19 surabaya hari ini 17 mei 2023  https://t.co/mnekgleqf0</td>\n",
       "    </tr>\n",
       "    <tr>\n",
       "      <th>4</th>\n",
       "      <td>#beritajatim  jadwal dan lokasi vaksin covid-19 surabaya hari ini 17 mei 2023 #infovaksinsurabaya #vaksinbooster  https://t.co/mnekgleqf0</td>\n",
       "      <td>jadwal dan lokasi vaksin covid-19 surabaya hari ini 17 mei 2023    https://t.co/mnekgleqf0</td>\n",
       "    </tr>\n",
       "  </tbody>\n",
       "</table>\n",
       "</div>"
      ],
      "text/plain": [
       "                                                                                                                                      re_newline  \\\n",
       "0               belum ada bukti, gambar yang diklaim pembekuan darah setelah vaksinasi covid-19 #tempocekfakta #cekfakta https://t.co/gwiecxsiqt   \n",
       "1  keliru, klaim vaksin covid-19 berbasis mrna dan adenoviral menurunkan sistem kekebalan tubuh #tempocekfakta #cekfakta https://t.co/bb7yyzpuej   \n",
       "2                                                           kemenkes minta penonton konser coldplay booster vaksin covid https://t.co/3rw9504s2j   \n",
       "3                                          jadwal dan lokasi vaksin covid-19 surabaya hari ini 17 mei 2023 #jadwalvaksin https://t.co/mnekgleqf0   \n",
       "4      #beritajatim  jadwal dan lokasi vaksin covid-19 surabaya hari ini 17 mei 2023 #infovaksinsurabaya #vaksinbooster  https://t.co/mnekgleqf0   \n",
       "\n",
       "                                                                                                                re_hastag  \n",
       "0               belum ada bukti, gambar yang diklaim pembekuan darah setelah vaksinasi covid-19   https://t.co/gwiecxsiqt  \n",
       "1  keliru, klaim vaksin covid-19 berbasis mrna dan adenoviral menurunkan sistem kekebalan tubuh   https://t.co/bb7yyzpuej  \n",
       "2                                    kemenkes minta penonton konser coldplay booster vaksin covid https://t.co/3rw9504s2j  \n",
       "3                                jadwal dan lokasi vaksin covid-19 surabaya hari ini 17 mei 2023  https://t.co/mnekgleqf0  \n",
       "4                              jadwal dan lokasi vaksin covid-19 surabaya hari ini 17 mei 2023    https://t.co/mnekgleqf0  "
      ]
     },
     "execution_count": 26,
     "metadata": {},
     "output_type": "execute_result"
    }
   ],
   "source": [
    "df_re_hastag.head()"
   ]
  },
  {
   "cell_type": "markdown",
   "id": "9dad6007-883a-461f-a020-2dcea2d2cc67",
   "metadata": {},
   "source": [
    "# 4. Remove URL"
   ]
  },
  {
   "cell_type": "code",
   "execution_count": 27,
   "id": "0d81688f-9b40-4b10-b9d4-86b4d3d9ed6f",
   "metadata": {},
   "outputs": [],
   "source": [
    "df_re_url = df_re_hastag[['re_hastag']].copy()"
   ]
  },
  {
   "cell_type": "code",
   "execution_count": 28,
   "id": "c4821576-2b15-48bb-9f3e-f179f574609a",
   "metadata": {},
   "outputs": [
    {
     "data": {
      "text/html": [
       "<div>\n",
       "<style scoped>\n",
       "    .dataframe tbody tr th:only-of-type {\n",
       "        vertical-align: middle;\n",
       "    }\n",
       "\n",
       "    .dataframe tbody tr th {\n",
       "        vertical-align: top;\n",
       "    }\n",
       "\n",
       "    .dataframe thead th {\n",
       "        text-align: right;\n",
       "    }\n",
       "</style>\n",
       "<table border=\"1\" class=\"dataframe\">\n",
       "  <thead>\n",
       "    <tr style=\"text-align: right;\">\n",
       "      <th></th>\n",
       "      <th>re_hastag</th>\n",
       "    </tr>\n",
       "  </thead>\n",
       "  <tbody>\n",
       "    <tr>\n",
       "      <th>0</th>\n",
       "      <td>belum ada bukti, gambar yang diklaim pembekuan darah setelah vaksinasi covid-19   https://t.co/gwiecxsiqt</td>\n",
       "    </tr>\n",
       "    <tr>\n",
       "      <th>1</th>\n",
       "      <td>keliru, klaim vaksin covid-19 berbasis mrna dan adenoviral menurunkan sistem kekebalan tubuh   https://t.co/bb7yyzpuej</td>\n",
       "    </tr>\n",
       "    <tr>\n",
       "      <th>2</th>\n",
       "      <td>kemenkes minta penonton konser coldplay booster vaksin covid https://t.co/3rw9504s2j</td>\n",
       "    </tr>\n",
       "    <tr>\n",
       "      <th>3</th>\n",
       "      <td>jadwal dan lokasi vaksin covid-19 surabaya hari ini 17 mei 2023  https://t.co/mnekgleqf0</td>\n",
       "    </tr>\n",
       "    <tr>\n",
       "      <th>4</th>\n",
       "      <td>jadwal dan lokasi vaksin covid-19 surabaya hari ini 17 mei 2023    https://t.co/mnekgleqf0</td>\n",
       "    </tr>\n",
       "  </tbody>\n",
       "</table>\n",
       "</div>"
      ],
      "text/plain": [
       "                                                                                                                re_hastag\n",
       "0               belum ada bukti, gambar yang diklaim pembekuan darah setelah vaksinasi covid-19   https://t.co/gwiecxsiqt\n",
       "1  keliru, klaim vaksin covid-19 berbasis mrna dan adenoviral menurunkan sistem kekebalan tubuh   https://t.co/bb7yyzpuej\n",
       "2                                    kemenkes minta penonton konser coldplay booster vaksin covid https://t.co/3rw9504s2j\n",
       "3                                jadwal dan lokasi vaksin covid-19 surabaya hari ini 17 mei 2023  https://t.co/mnekgleqf0\n",
       "4                              jadwal dan lokasi vaksin covid-19 surabaya hari ini 17 mei 2023    https://t.co/mnekgleqf0"
      ]
     },
     "execution_count": 28,
     "metadata": {},
     "output_type": "execute_result"
    }
   ],
   "source": [
    "df_re_url.head()"
   ]
  },
  {
   "cell_type": "code",
   "execution_count": 29,
   "id": "1a4e7caa-96f9-4496-8d93-579176b5e083",
   "metadata": {},
   "outputs": [
    {
     "name": "stdout",
     "output_type": "stream",
     "text": [
      "<class 'pandas.core.frame.DataFrame'>\n",
      "Int64Index: 36714 entries, 0 to 36760\n",
      "Data columns (total 2 columns):\n",
      " #   Column     Non-Null Count  Dtype \n",
      "---  ------     --------------  ----- \n",
      " 0   re_hastag  36714 non-null  object\n",
      " 1   re_url     36714 non-null  object\n",
      "dtypes: object(2)\n",
      "memory usage: 860.5+ KB\n"
     ]
    }
   ],
   "source": [
    "df_re_url['re_url'] = df_re_url['re_hastag'].apply(remove_url)\n",
    "df_re_url.info()"
   ]
  },
  {
   "cell_type": "code",
   "execution_count": 30,
   "id": "32ca1616-5dbf-4964-80b2-fef56872864d",
   "metadata": {},
   "outputs": [
    {
     "data": {
      "text/html": [
       "<div>\n",
       "<style scoped>\n",
       "    .dataframe tbody tr th:only-of-type {\n",
       "        vertical-align: middle;\n",
       "    }\n",
       "\n",
       "    .dataframe tbody tr th {\n",
       "        vertical-align: top;\n",
       "    }\n",
       "\n",
       "    .dataframe thead th {\n",
       "        text-align: right;\n",
       "    }\n",
       "</style>\n",
       "<table border=\"1\" class=\"dataframe\">\n",
       "  <thead>\n",
       "    <tr style=\"text-align: right;\">\n",
       "      <th></th>\n",
       "      <th>re_hastag</th>\n",
       "      <th>re_url</th>\n",
       "    </tr>\n",
       "  </thead>\n",
       "  <tbody>\n",
       "    <tr>\n",
       "      <th>0</th>\n",
       "      <td>belum ada bukti, gambar yang diklaim pembekuan darah setelah vaksinasi covid-19   https://t.co/gwiecxsiqt</td>\n",
       "      <td>belum ada bukti, gambar yang diklaim pembekuan darah setelah vaksinasi covid-19</td>\n",
       "    </tr>\n",
       "    <tr>\n",
       "      <th>1</th>\n",
       "      <td>keliru, klaim vaksin covid-19 berbasis mrna dan adenoviral menurunkan sistem kekebalan tubuh   https://t.co/bb7yyzpuej</td>\n",
       "      <td>keliru, klaim vaksin covid-19 berbasis mrna dan adenoviral menurunkan sistem kekebalan tubuh</td>\n",
       "    </tr>\n",
       "    <tr>\n",
       "      <th>2</th>\n",
       "      <td>kemenkes minta penonton konser coldplay booster vaksin covid https://t.co/3rw9504s2j</td>\n",
       "      <td>kemenkes minta penonton konser coldplay booster vaksin covid</td>\n",
       "    </tr>\n",
       "    <tr>\n",
       "      <th>3</th>\n",
       "      <td>jadwal dan lokasi vaksin covid-19 surabaya hari ini 17 mei 2023  https://t.co/mnekgleqf0</td>\n",
       "      <td>jadwal dan lokasi vaksin covid-19 surabaya hari ini 17 mei 2023</td>\n",
       "    </tr>\n",
       "    <tr>\n",
       "      <th>4</th>\n",
       "      <td>jadwal dan lokasi vaksin covid-19 surabaya hari ini 17 mei 2023    https://t.co/mnekgleqf0</td>\n",
       "      <td>jadwal dan lokasi vaksin covid-19 surabaya hari ini 17 mei 2023</td>\n",
       "    </tr>\n",
       "  </tbody>\n",
       "</table>\n",
       "</div>"
      ],
      "text/plain": [
       "                                                                                                                re_hastag  \\\n",
       "0               belum ada bukti, gambar yang diklaim pembekuan darah setelah vaksinasi covid-19   https://t.co/gwiecxsiqt   \n",
       "1  keliru, klaim vaksin covid-19 berbasis mrna dan adenoviral menurunkan sistem kekebalan tubuh   https://t.co/bb7yyzpuej   \n",
       "2                                    kemenkes minta penonton konser coldplay booster vaksin covid https://t.co/3rw9504s2j   \n",
       "3                                jadwal dan lokasi vaksin covid-19 surabaya hari ini 17 mei 2023  https://t.co/mnekgleqf0   \n",
       "4                              jadwal dan lokasi vaksin covid-19 surabaya hari ini 17 mei 2023    https://t.co/mnekgleqf0   \n",
       "\n",
       "                                                                                            re_url  \n",
       "0               belum ada bukti, gambar yang diklaim pembekuan darah setelah vaksinasi covid-19     \n",
       "1  keliru, klaim vaksin covid-19 berbasis mrna dan adenoviral menurunkan sistem kekebalan tubuh     \n",
       "2                                    kemenkes minta penonton konser coldplay booster vaksin covid   \n",
       "3                                jadwal dan lokasi vaksin covid-19 surabaya hari ini 17 mei 2023    \n",
       "4                              jadwal dan lokasi vaksin covid-19 surabaya hari ini 17 mei 2023      "
      ]
     },
     "execution_count": 30,
     "metadata": {},
     "output_type": "execute_result"
    }
   ],
   "source": [
    "df_re_url.head()"
   ]
  },
  {
   "cell_type": "markdown",
   "id": "11041d78-5cfb-400d-bde3-391a6a8f4599",
   "metadata": {},
   "source": [
    "# 5. Remove Punctuation"
   ]
  },
  {
   "cell_type": "code",
   "execution_count": 31,
   "id": "cc165294-5004-4b7e-8ec3-bbb614d82c18",
   "metadata": {},
   "outputs": [],
   "source": [
    "df_re_punct = df_re_url[['re_url']].copy()"
   ]
  },
  {
   "cell_type": "code",
   "execution_count": 32,
   "id": "db8b59dc-f722-40b6-bb81-e7a96b4849df",
   "metadata": {},
   "outputs": [
    {
     "data": {
      "text/html": [
       "<div>\n",
       "<style scoped>\n",
       "    .dataframe tbody tr th:only-of-type {\n",
       "        vertical-align: middle;\n",
       "    }\n",
       "\n",
       "    .dataframe tbody tr th {\n",
       "        vertical-align: top;\n",
       "    }\n",
       "\n",
       "    .dataframe thead th {\n",
       "        text-align: right;\n",
       "    }\n",
       "</style>\n",
       "<table border=\"1\" class=\"dataframe\">\n",
       "  <thead>\n",
       "    <tr style=\"text-align: right;\">\n",
       "      <th></th>\n",
       "      <th>re_url</th>\n",
       "    </tr>\n",
       "  </thead>\n",
       "  <tbody>\n",
       "    <tr>\n",
       "      <th>0</th>\n",
       "      <td>belum ada bukti, gambar yang diklaim pembekuan darah setelah vaksinasi covid-19</td>\n",
       "    </tr>\n",
       "    <tr>\n",
       "      <th>1</th>\n",
       "      <td>keliru, klaim vaksin covid-19 berbasis mrna dan adenoviral menurunkan sistem kekebalan tubuh</td>\n",
       "    </tr>\n",
       "    <tr>\n",
       "      <th>2</th>\n",
       "      <td>kemenkes minta penonton konser coldplay booster vaksin covid</td>\n",
       "    </tr>\n",
       "    <tr>\n",
       "      <th>3</th>\n",
       "      <td>jadwal dan lokasi vaksin covid-19 surabaya hari ini 17 mei 2023</td>\n",
       "    </tr>\n",
       "    <tr>\n",
       "      <th>4</th>\n",
       "      <td>jadwal dan lokasi vaksin covid-19 surabaya hari ini 17 mei 2023</td>\n",
       "    </tr>\n",
       "  </tbody>\n",
       "</table>\n",
       "</div>"
      ],
      "text/plain": [
       "                                                                                            re_url\n",
       "0               belum ada bukti, gambar yang diklaim pembekuan darah setelah vaksinasi covid-19   \n",
       "1  keliru, klaim vaksin covid-19 berbasis mrna dan adenoviral menurunkan sistem kekebalan tubuh   \n",
       "2                                    kemenkes minta penonton konser coldplay booster vaksin covid \n",
       "3                                jadwal dan lokasi vaksin covid-19 surabaya hari ini 17 mei 2023  \n",
       "4                              jadwal dan lokasi vaksin covid-19 surabaya hari ini 17 mei 2023    "
      ]
     },
     "execution_count": 32,
     "metadata": {},
     "output_type": "execute_result"
    }
   ],
   "source": [
    "df_re_punct.head()"
   ]
  },
  {
   "cell_type": "code",
   "execution_count": 33,
   "id": "2650a8b6-1669-4b07-b261-4dcbd48849b8",
   "metadata": {},
   "outputs": [
    {
     "name": "stdout",
     "output_type": "stream",
     "text": [
      "<class 'pandas.core.frame.DataFrame'>\n",
      "Int64Index: 36714 entries, 0 to 36760\n",
      "Data columns (total 2 columns):\n",
      " #   Column    Non-Null Count  Dtype \n",
      "---  ------    --------------  ----- \n",
      " 0   re_url    36714 non-null  object\n",
      " 1   re_punct  36714 non-null  object\n",
      "dtypes: object(2)\n",
      "memory usage: 860.5+ KB\n"
     ]
    }
   ],
   "source": [
    "df_re_punct['re_punct'] = df_re_punct['re_url'].apply(remove_punctuation)\n",
    "df_re_punct.info()"
   ]
  },
  {
   "cell_type": "code",
   "execution_count": 61,
   "id": "409965f0-ab5b-4338-9122-bcc966149a0c",
   "metadata": {},
   "outputs": [
    {
     "data": {
      "text/html": [
       "<div>\n",
       "<style scoped>\n",
       "    .dataframe tbody tr th:only-of-type {\n",
       "        vertical-align: middle;\n",
       "    }\n",
       "\n",
       "    .dataframe tbody tr th {\n",
       "        vertical-align: top;\n",
       "    }\n",
       "\n",
       "    .dataframe thead th {\n",
       "        text-align: right;\n",
       "    }\n",
       "</style>\n",
       "<table border=\"1\" class=\"dataframe\">\n",
       "  <thead>\n",
       "    <tr style=\"text-align: right;\">\n",
       "      <th></th>\n",
       "      <th>re_url</th>\n",
       "      <th>re_punct</th>\n",
       "    </tr>\n",
       "  </thead>\n",
       "  <tbody>\n",
       "    <tr>\n",
       "      <th>8995</th>\n",
       "      <td>kasus covid-19 naik, new delhi kembali wajibkan pemakaian masker</td>\n",
       "      <td>kasus covid19 naik new delhi kembali wajibkan pemakaian masker</td>\n",
       "    </tr>\n",
       "    <tr>\n",
       "      <th>8996</th>\n",
       "      <td>indonesia, amerika serikat, jerman, senegal dan belize mengumumkan akan menjadi tuan rumah bersama konferensi tingkat tinggi (ktt) global covid-19 kedua. perhelatan ini akan diadakan secara virtual pada 12 mei 2022.</td>\n",
       "      <td>indonesia amerika serikat jerman senegal dan belize mengumumkan akan menjadi tuan rumah bersama konferensi tingkat tinggi ktt global covid19 kedua perhelatan ini akan diadakan secara virtual pada 12 mei 2022</td>\n",
       "    </tr>\n",
       "    <tr>\n",
       "      <th>8997</th>\n",
       "      <td>warga usia 12-18 tahun disebut paling banyak punya antibodi covid-19</td>\n",
       "      <td>warga usia 1218 tahun disebut paling banyak punya antibodi covid19</td>\n",
       "    </tr>\n",
       "    <tr>\n",
       "      <th>8998</th>\n",
       "      <td>covid di shanghai naik, pekerja tesla 'ditekan' makan tidur di pabrik</td>\n",
       "      <td>covid di shanghai naik pekerja tesla ditekan makan tidur di pabrik</td>\n",
       "    </tr>\n",
       "    <tr>\n",
       "      <th>8999</th>\n",
       "      <td>teater bergerak menjadi salah satu hiburan lokal populer di india yang sempat terhenti akibat pandemi covid-19. mereka tak membatasi diri dengan tema tertentu, mulai dari mitologi hingga subjek bersejarah.</td>\n",
       "      <td>teater bergerak menjadi salah satu hiburan lokal populer di india yang sempat terhenti akibat pandemi covid19 mereka tak membatasi diri dengan tema tertentu mulai dari mitologi hingga subjek bersejarah</td>\n",
       "    </tr>\n",
       "    <tr>\n",
       "      <th>9000</th>\n",
       "      <td>cerita kelaparan dan kemarahan bayangi shanghai akibat 'lockdown' covid-19     .</td>\n",
       "      <td>cerita kelaparan dan kemarahan bayangi shanghai akibat lockdown covid19</td>\n",
       "    </tr>\n",
       "    <tr>\n",
       "      <th>9001</th>\n",
       "      <td>hasil survei di 7 provinsi jawa-bali 99,2 persen warga miliki antibodi covid-19</td>\n",
       "      <td>hasil survei di 7 provinsi jawabali 992 persen warga miliki antibodi covid19</td>\n",
       "    </tr>\n",
       "    <tr>\n",
       "      <th>9002</th>\n",
       "      <td>pemerintah tak belanja vaksin covid-19 pada kuartal i 2022</td>\n",
       "      <td>pemerintah tak belanja vaksin covid19 pada kuartal i 2022</td>\n",
       "    </tr>\n",
       "    <tr>\n",
       "      <th>9003</th>\n",
       "      <td>rangkuman covid: ahli minta ppkm setop, pintu orang asing ke ri tambah</td>\n",
       "      <td>rangkuman covid ahli minta ppkm setop pintu orang asing ke ri tambah</td>\n",
       "    </tr>\n",
       "    <tr>\n",
       "      <th>9004</th>\n",
       "      <td>biang kerok covid shanghai naik: omicron hingga vaksin lansia rendah</td>\n",
       "      <td>biang kerok covid shanghai naik omicron hingga vaksin lansia rendah</td>\n",
       "    </tr>\n",
       "  </tbody>\n",
       "</table>\n",
       "</div>"
      ],
      "text/plain": [
       "                                                                                                                                                                                                                         re_url  \\\n",
       "8995                                                                                                                                                         kasus covid-19 naik, new delhi kembali wajibkan pemakaian masker     \n",
       "8996  indonesia, amerika serikat, jerman, senegal dan belize mengumumkan akan menjadi tuan rumah bersama konferensi tingkat tinggi (ktt) global covid-19 kedua. perhelatan ini akan diadakan secara virtual pada 12 mei 2022.     \n",
       "8997                                                                                                                                                      warga usia 12-18 tahun disebut paling banyak punya antibodi covid-19    \n",
       "8998                                                                                                                                                     covid di shanghai naik, pekerja tesla 'ditekan' makan tidur di pabrik    \n",
       "8999           teater bergerak menjadi salah satu hiburan lokal populer di india yang sempat terhenti akibat pandemi covid-19. mereka tak membatasi diri dengan tema tertentu, mulai dari mitologi hingga subjek bersejarah.      \n",
       "9000                                                                                                                                          cerita kelaparan dan kemarahan bayangi shanghai akibat 'lockdown' covid-19     .    \n",
       "9001                                                                                                                                          hasil survei di 7 provinsi jawa-bali 99,2 persen warga miliki antibodi covid-19     \n",
       "9002                                                                                                                                                                pemerintah tak belanja vaksin covid-19 pada kuartal i 2022    \n",
       "9003                                                                                                                                                    rangkuman covid: ahli minta ppkm setop, pintu orang asing ke ri tambah    \n",
       "9004                                                                                                                                                      biang kerok covid shanghai naik: omicron hingga vaksin lansia rendah    \n",
       "\n",
       "                                                                                                                                                                                                               re_punct  \n",
       "8995                                                                                                                                                   kasus covid19 naik new delhi kembali wajibkan pemakaian masker    \n",
       "8996  indonesia amerika serikat jerman senegal dan belize mengumumkan akan menjadi tuan rumah bersama konferensi tingkat tinggi ktt global covid19 kedua perhelatan ini akan diadakan secara virtual pada 12 mei 2022    \n",
       "8997                                                                                                                                                warga usia 1218 tahun disebut paling banyak punya antibodi covid19   \n",
       "8998                                                                                                                                                covid di shanghai naik pekerja tesla ditekan makan tidur di pabrik   \n",
       "8999       teater bergerak menjadi salah satu hiburan lokal populer di india yang sempat terhenti akibat pandemi covid19 mereka tak membatasi diri dengan tema tertentu mulai dari mitologi hingga subjek bersejarah     \n",
       "9000                                                                                                                                      cerita kelaparan dan kemarahan bayangi shanghai akibat lockdown covid19        \n",
       "9001                                                                                                                                     hasil survei di 7 provinsi jawabali 992 persen warga miliki antibodi covid19    \n",
       "9002                                                                                                                                                         pemerintah tak belanja vaksin covid19 pada kuartal i 2022   \n",
       "9003                                                                                                                                              rangkuman covid ahli minta ppkm setop pintu orang asing ke ri tambah   \n",
       "9004                                                                                                                                               biang kerok covid shanghai naik omicron hingga vaksin lansia rendah   "
      ]
     },
     "execution_count": 61,
     "metadata": {},
     "output_type": "execute_result"
    }
   ],
   "source": [
    "df_re_punct.head(9000).tail(10)"
   ]
  },
  {
   "cell_type": "markdown",
   "id": "349bbb86-00c7-4fb8-a179-01e114aafbd7",
   "metadata": {},
   "source": [
    "# 6. Remove Digits"
   ]
  },
  {
   "cell_type": "code",
   "execution_count": 35,
   "id": "f3906ddb-06c6-4b19-a563-482965c5da7e",
   "metadata": {},
   "outputs": [],
   "source": [
    "df_re_dig = df_re_punct[['re_punct']].copy()"
   ]
  },
  {
   "cell_type": "code",
   "execution_count": 36,
   "id": "589390df-9b47-4384-8f53-b13535bc09ed",
   "metadata": {},
   "outputs": [
    {
     "data": {
      "text/html": [
       "<div>\n",
       "<style scoped>\n",
       "    .dataframe tbody tr th:only-of-type {\n",
       "        vertical-align: middle;\n",
       "    }\n",
       "\n",
       "    .dataframe tbody tr th {\n",
       "        vertical-align: top;\n",
       "    }\n",
       "\n",
       "    .dataframe thead th {\n",
       "        text-align: right;\n",
       "    }\n",
       "</style>\n",
       "<table border=\"1\" class=\"dataframe\">\n",
       "  <thead>\n",
       "    <tr style=\"text-align: right;\">\n",
       "      <th></th>\n",
       "      <th>re_punct</th>\n",
       "    </tr>\n",
       "  </thead>\n",
       "  <tbody>\n",
       "    <tr>\n",
       "      <th>0</th>\n",
       "      <td>belum ada bukti gambar yang diklaim pembekuan darah setelah vaksinasi covid19</td>\n",
       "    </tr>\n",
       "    <tr>\n",
       "      <th>1</th>\n",
       "      <td>keliru klaim vaksin covid19 berbasis mrna dan adenoviral menurunkan sistem kekebalan tubuh</td>\n",
       "    </tr>\n",
       "    <tr>\n",
       "      <th>2</th>\n",
       "      <td>kemenkes minta penonton konser coldplay booster vaksin covid</td>\n",
       "    </tr>\n",
       "    <tr>\n",
       "      <th>3</th>\n",
       "      <td>jadwal dan lokasi vaksin covid19 surabaya hari ini 17 mei 2023</td>\n",
       "    </tr>\n",
       "    <tr>\n",
       "      <th>4</th>\n",
       "      <td>jadwal dan lokasi vaksin covid19 surabaya hari ini 17 mei 2023</td>\n",
       "    </tr>\n",
       "  </tbody>\n",
       "</table>\n",
       "</div>"
      ],
      "text/plain": [
       "                                                                                        re_punct\n",
       "0               belum ada bukti gambar yang diklaim pembekuan darah setelah vaksinasi covid19   \n",
       "1  keliru klaim vaksin covid19 berbasis mrna dan adenoviral menurunkan sistem kekebalan tubuh   \n",
       "2                                  kemenkes minta penonton konser coldplay booster vaksin covid \n",
       "3                               jadwal dan lokasi vaksin covid19 surabaya hari ini 17 mei 2023  \n",
       "4                             jadwal dan lokasi vaksin covid19 surabaya hari ini 17 mei 2023    "
      ]
     },
     "execution_count": 36,
     "metadata": {},
     "output_type": "execute_result"
    }
   ],
   "source": [
    "df_re_dig.head()"
   ]
  },
  {
   "cell_type": "code",
   "execution_count": 37,
   "id": "a9f787e0-95fd-4022-b326-d0f08747e4b5",
   "metadata": {},
   "outputs": [
    {
     "name": "stdout",
     "output_type": "stream",
     "text": [
      "<class 'pandas.core.frame.DataFrame'>\n",
      "Int64Index: 36714 entries, 0 to 36760\n",
      "Data columns (total 2 columns):\n",
      " #   Column    Non-Null Count  Dtype \n",
      "---  ------    --------------  ----- \n",
      " 0   re_punct  36714 non-null  object\n",
      " 1   re_dig    36714 non-null  object\n",
      "dtypes: object(2)\n",
      "memory usage: 860.5+ KB\n"
     ]
    }
   ],
   "source": [
    "df_re_dig['re_dig'] = df_re_dig['re_punct'].apply(remove_digits)\n",
    "df_re_dig.info()"
   ]
  },
  {
   "cell_type": "code",
   "execution_count": 70,
   "id": "49fdf62c-fd99-48c3-9a50-54ce9f8b45af",
   "metadata": {},
   "outputs": [
    {
     "data": {
      "text/html": [
       "<div>\n",
       "<style scoped>\n",
       "    .dataframe tbody tr th:only-of-type {\n",
       "        vertical-align: middle;\n",
       "    }\n",
       "\n",
       "    .dataframe tbody tr th {\n",
       "        vertical-align: top;\n",
       "    }\n",
       "\n",
       "    .dataframe thead th {\n",
       "        text-align: right;\n",
       "    }\n",
       "</style>\n",
       "<table border=\"1\" class=\"dataframe\">\n",
       "  <thead>\n",
       "    <tr style=\"text-align: right;\">\n",
       "      <th></th>\n",
       "      <th>re_punct</th>\n",
       "      <th>re_dig</th>\n",
       "    </tr>\n",
       "  </thead>\n",
       "  <tbody>\n",
       "    <tr>\n",
       "      <th>1551</th>\n",
       "      <td>korban meninggal saat ramainya pandemi covid19 jadi masih utuh kami belum buka di sini tapi nanti di rumah sakit polri kata panjiyoga</td>\n",
       "      <td>korban meninggal saat ramainya pandemi covid jadi masih utuh kami belum buka di sini tapi nanti di rumah sakit polri kata panjiyoga</td>\n",
       "    </tr>\n",
       "    <tr>\n",
       "      <th>1552</th>\n",
       "      <td>semenjak pandemi covid19 masker merupakan hal yang tidak terpisahkan dari kehidupan masyarakat</td>\n",
       "      <td>semenjak pandemi covid masker merupakan hal yang tidak terpisahkan dari kehidupan masyarakat</td>\n",
       "    </tr>\n",
       "    <tr>\n",
       "      <th>1553</th>\n",
       "      <td>masyarakat umum kini sudah bisa mendapatkan vaksin covid19 booster kedua kenali efek samping yang mungkin muncul dan cara mengatasinya</td>\n",
       "      <td>masyarakat umum kini sudah bisa mendapatkan vaksin covid booster kedua kenali efek samping yang mungkin muncul dan cara mengatasinya</td>\n",
       "    </tr>\n",
       "    <tr>\n",
       "      <th>1554</th>\n",
       "      <td>covid19 varian kraken masuk ke indonesia varian ini dibawa oleh wn polandia yang sempat menginap di jakarta apa kasus covid19 di ri akan melonjak</td>\n",
       "      <td>covid varian kraken masuk ke indonesia varian ini dibawa oleh wn polandia yang sempat menginap di jakarta apa kasus covid di ri akan melonjak</td>\n",
       "    </tr>\n",
       "    <tr>\n",
       "      <th>1555</th>\n",
       "      <td>kementerian kesehatan ri mengumumkan indonesia sudah kemasukan varian covid19 kraken atau xbb15 terdeteksi pada warga negara polandia yang tiba di kalimantan timur 7 januari 2023 dan dinyatakan positif covid pada 11 januari 2023 wna itu disebut</td>\n",
       "      <td>kementerian kesehatan ri mengumumkan indonesia sudah kemasukan varian covid kraken atau xbb terdeteksi pada warga negara polandia yang tiba di kalimantan timur  januari  dan dinyatakan positif covid pada  januari  wna itu disebut</td>\n",
       "    </tr>\n",
       "    <tr>\n",
       "      <th>1556</th>\n",
       "      <td>cakupan vaksinasi covid19 dosis penguat bagi warga lansia masih belum mencapai target terobosan baru perlu diupayakan pemerintah daerah untuk meningkatkan cakupan vaksinasinya</td>\n",
       "      <td>cakupan vaksinasi covid dosis penguat bagi warga lansia masih belum mencapai target terobosan baru perlu diupayakan pemerintah daerah untuk meningkatkan cakupan vaksinasinya</td>\n",
       "    </tr>\n",
       "    <tr>\n",
       "      <th>1557</th>\n",
       "      <td>indonesia mencatat 274 kasus baru covid19 hari ini rabu 2512023 seiring itu kasus aktif covid19 di indonesia kini ada sebanyak 4821</td>\n",
       "      <td>indonesia mencatat  kasus baru covid hari ini rabu  seiring itu kasus aktif covid di indonesia kini ada sebanyak</td>\n",
       "    </tr>\n",
       "    <tr>\n",
       "      <th>1558</th>\n",
       "      <td>ribuan kontainer tempat isolasi pasien covid ini kosong usai menkes hong kong mencabut perintah isolasi untuk pasien covid begini penampakannya  foto dok peter parksafpgetty images</td>\n",
       "      <td>ribuan kontainer tempat isolasi pasien covid ini kosong usai menkes hong kong mencabut perintah isolasi untuk pasien covid begini penampakannya  foto dok peter parksafpgetty images</td>\n",
       "    </tr>\n",
       "    <tr>\n",
       "      <th>1559</th>\n",
       "      <td>beberapa alasan masyarakat meminta agar bpih tidak naik karena kondisi ekonomi masyarakat hingga saat ini belum pulih sebagaimana kondisi awal sebelum pandemi covid19</td>\n",
       "      <td>beberapa alasan masyarakat meminta agar bpih tidak naik karena kondisi ekonomi masyarakat hingga saat ini belum pulih sebagaimana kondisi awal sebelum pandemi covid</td>\n",
       "    </tr>\n",
       "    <tr>\n",
       "      <th>1560</th>\n",
       "      <td>kemenkes ri mengungkap kronologi atau awal mula varian covid19 kraken masuk ke indonesia pasien sempat bermalam di dki</td>\n",
       "      <td>kemenkes ri mengungkap kronologi atau awal mula varian covid kraken masuk ke indonesia pasien sempat bermalam di dki</td>\n",
       "    </tr>\n",
       "  </tbody>\n",
       "</table>\n",
       "</div>"
      ],
      "text/plain": [
       "                                                                                                                                                                                                                                                    re_punct  \\\n",
       "1551                                                                                                                  korban meninggal saat ramainya pandemi covid19 jadi masih utuh kami belum buka di sini tapi nanti di rumah sakit polri kata panjiyoga    \n",
       "1552                                                                                                                                                         semenjak pandemi covid19 masker merupakan hal yang tidak terpisahkan dari kehidupan masyarakat    \n",
       "1553                                                                                                                 masyarakat umum kini sudah bisa mendapatkan vaksin covid19 booster kedua kenali efek samping yang mungkin muncul dan cara mengatasinya    \n",
       "1554                                                                                                      covid19 varian kraken masuk ke indonesia varian ini dibawa oleh wn polandia yang sempat menginap di jakarta apa kasus covid19 di ri akan melonjak    \n",
       "1555  kementerian kesehatan ri mengumumkan indonesia sudah kemasukan varian covid19 kraken atau xbb15 terdeteksi pada warga negara polandia yang tiba di kalimantan timur 7 januari 2023 dan dinyatakan positif covid pada 11 januari 2023 wna itu disebut     \n",
       "1556                                                                   cakupan vaksinasi covid19 dosis penguat bagi warga lansia masih belum mencapai target terobosan baru perlu diupayakan pemerintah daerah untuk meningkatkan cakupan vaksinasinya         \n",
       "1557                                                                                                                    indonesia mencatat 274 kasus baru covid19 hari ini rabu 2512023 seiring itu kasus aktif covid19 di indonesia kini ada sebanyak 4821    \n",
       "1558                                                                   ribuan kontainer tempat isolasi pasien covid ini kosong usai menkes hong kong mencabut perintah isolasi untuk pasien covid begini penampakannya  foto dok peter parksafpgetty images    \n",
       "1559                                                                                beberapa alasan masyarakat meminta agar bpih tidak naik karena kondisi ekonomi masyarakat hingga saat ini belum pulih sebagaimana kondisi awal sebelum pandemi covid19     \n",
       "1560                                                                                                                                kemenkes ri mengungkap kronologi atau awal mula varian covid19 kraken masuk ke indonesia pasien sempat bermalam di dki     \n",
       "\n",
       "                                                                                                                                                                                                                                       re_dig  \n",
       "1551                                                                                                     korban meninggal saat ramainya pandemi covid jadi masih utuh kami belum buka di sini tapi nanti di rumah sakit polri kata panjiyoga   \n",
       "1552                                                                                                                                            semenjak pandemi covid masker merupakan hal yang tidak terpisahkan dari kehidupan masyarakat   \n",
       "1553                                                                                                    masyarakat umum kini sudah bisa mendapatkan vaksin covid booster kedua kenali efek samping yang mungkin muncul dan cara mengatasinya   \n",
       "1554                                                                                           covid varian kraken masuk ke indonesia varian ini dibawa oleh wn polandia yang sempat menginap di jakarta apa kasus covid di ri akan melonjak   \n",
       "1555  kementerian kesehatan ri mengumumkan indonesia sudah kemasukan varian covid kraken atau xbb terdeteksi pada warga negara polandia yang tiba di kalimantan timur  januari  dan dinyatakan positif covid pada  januari  wna itu disebut    \n",
       "1556                                                      cakupan vaksinasi covid dosis penguat bagi warga lansia masih belum mencapai target terobosan baru perlu diupayakan pemerintah daerah untuk meningkatkan cakupan vaksinasinya        \n",
       "1557                                                                                                                       indonesia mencatat  kasus baru covid hari ini rabu  seiring itu kasus aktif covid di indonesia kini ada sebanyak    \n",
       "1558                                                    ribuan kontainer tempat isolasi pasien covid ini kosong usai menkes hong kong mencabut perintah isolasi untuk pasien covid begini penampakannya  foto dok peter parksafpgetty images   \n",
       "1559                                                                   beberapa alasan masyarakat meminta agar bpih tidak naik karena kondisi ekonomi masyarakat hingga saat ini belum pulih sebagaimana kondisi awal sebelum pandemi covid    \n",
       "1560                                                                                                                   kemenkes ri mengungkap kronologi atau awal mula varian covid kraken masuk ke indonesia pasien sempat bermalam di dki    "
      ]
     },
     "execution_count": 70,
     "metadata": {},
     "output_type": "execute_result"
    }
   ],
   "source": [
    "df_re_dig.head(1560).tail(10)"
   ]
  },
  {
   "cell_type": "markdown",
   "id": "f08f0286-8404-440e-9e84-6b1e4f58241a",
   "metadata": {},
   "source": [
    "# 7. Remove Emoji"
   ]
  },
  {
   "cell_type": "code",
   "execution_count": 39,
   "id": "e20ada15-d3f5-4770-a56a-fa349490c285",
   "metadata": {},
   "outputs": [
    {
     "name": "stdout",
     "output_type": "stream",
     "text": [
      "<class 'pandas.core.frame.DataFrame'>\n",
      "Int64Index: 36714 entries, 0 to 36760\n",
      "Data columns (total 1 columns):\n",
      " #   Column  Non-Null Count  Dtype \n",
      "---  ------  --------------  ----- \n",
      " 0   re_dig  36714 non-null  object\n",
      "dtypes: object(1)\n",
      "memory usage: 573.7+ KB\n"
     ]
    }
   ],
   "source": [
    "df_re_emoji = df_re_dig[['re_dig']].copy()\n",
    "df_re_emoji.info()"
   ]
  },
  {
   "cell_type": "code",
   "execution_count": 40,
   "id": "ccf88cc9-0596-4827-960e-06467ba8bf27",
   "metadata": {},
   "outputs": [],
   "source": [
    "def has_emoji(text):\n",
    "    \"\"\"Check if a string contains emojis.\"\"\"\n",
    "    return emoji.emoji_count(text) > 0\n",
    "\n",
    "# Apply the function to the 'text' column\n",
    "emoji_rows = df_re_emoji[df_re_emoji['re_dig'].apply(has_emoji)]"
   ]
  },
  {
   "cell_type": "code",
   "execution_count": 41,
   "id": "85f4ab76-4271-40e8-aefa-5783ec365101",
   "metadata": {},
   "outputs": [
    {
     "name": "stdout",
     "output_type": "stream",
     "text": [
      "                                                                                                                                                                                                                                                            re_dig\n",
      "555                                                                                                                      presiden jokowi resmi mencabut ppkm seiring kondisi covid yang makin terkendali apa saja yang berubah cari tahu dalam  berikut yuk👇      \n",
      "1550                                 detikers kini vaksin covid booster kedua atau dosis keempat sudah bisa didapatkan oleh masyarakat umum selain lansia dan tenaga kesehatan  nah bagaimana ya cara mendapatkan vaksin gratis cari tahu infonya dalam  berikut👇 \n",
      "1747                          siapa yang lagi cari lokasi vaksin booster kedua di jabodetabek 😃⁣  pemerintah kini memperbolehkan masyarakat umum untuk mendapatkan vaksin covid booster kedua penyuntikan vaksin ini serentak dimulai dari tanggal  januari ⁣     \n",
      "1763                          siapa yang lagi cari lokasi vaksin booster kedua di jabodetabek 😃⁣  pemerintah kini memperbolehkan masyarakat umum untuk mendapatkan vaksin covid booster kedua penyuntikan vaksin ini serentak dimulai dari tanggal  januari ⁣     \n",
      "2219   wah ternyata indonesia menjadi salah satu negara yang berhasil menangani covid✨  keberhasilan indonesia ini menuai pujian serta apresiasi dari who hingga johns hopkins university lho detikers  yuk intip ungkapan presiden jokowi terkait hal tersebut   \n",
      "...                                                                                                                                                                                                                                                            ...\n",
      "31966                                                                                                                                                              berikut ringkasan berita perkembangan pandemi covid di berbagai belahan dunia pada hari ini 🌏  \n",
      "33173                                                                                                                                                                                  berikut kabar terbaru terkait pandemi covid dari berbagai belahan dunia 🌏  \n",
      "33656                                                                                                                                     indonesia kembali masuk ke dalam fase di mana angka kejadian covid harian mulai meningkat yuk waspadai dari sekarang 😷  \n",
      "35448                                                       selamat pagi sahabat liputandotcom 🙂⁣ jangan lupa untuk bergabung di liputan update jumat  januari  pukul  wib dengan tema desakan penghentian ptm  persen akibat kenaikan kasus covid solusinya      \n",
      "36722                                                                                                                                                                           berikut ringkasan berita perkembangan covid di berbagai belahan dunia hari ini 🌏  \n",
      "\n",
      "[68 rows x 1 columns]\n"
     ]
    }
   ],
   "source": [
    "print(emoji_rows)"
   ]
  },
  {
   "cell_type": "code",
   "execution_count": 42,
   "id": "fe70f020-005a-4dbf-a9bc-40e7a82df769",
   "metadata": {},
   "outputs": [
    {
     "name": "stdout",
     "output_type": "stream",
     "text": [
      "<class 'pandas.core.frame.DataFrame'>\n",
      "Int64Index: 68 entries, 555 to 36722\n",
      "Data columns (total 2 columns):\n",
      " #   Column    Non-Null Count  Dtype \n",
      "---  ------    --------------  ----- \n",
      " 0   re_dig    68 non-null     object\n",
      " 1   re_emoji  68 non-null     object\n",
      "dtypes: object(2)\n",
      "memory usage: 1.6+ KB\n"
     ]
    },
    {
     "name": "stderr",
     "output_type": "stream",
     "text": [
      "C:\\Users\\asus\\AppData\\Local\\Temp\\ipykernel_8628\\175959332.py:1: SettingWithCopyWarning: \n",
      "A value is trying to be set on a copy of a slice from a DataFrame.\n",
      "Try using .loc[row_indexer,col_indexer] = value instead\n",
      "\n",
      "See the caveats in the documentation: https://pandas.pydata.org/pandas-docs/stable/user_guide/indexing.html#returning-a-view-versus-a-copy\n",
      "  emoji_rows['re_emoji'] = emoji_rows['re_dig'].apply(remove_emoji)\n"
     ]
    }
   ],
   "source": [
    "emoji_rows['re_emoji'] = emoji_rows['re_dig'].apply(remove_emoji)\n",
    "emoji_rows.info()"
   ]
  },
  {
   "cell_type": "code",
   "execution_count": 43,
   "id": "78f55547-6a00-4d06-955f-282706a76e69",
   "metadata": {},
   "outputs": [
    {
     "data": {
      "text/html": [
       "<div>\n",
       "<style scoped>\n",
       "    .dataframe tbody tr th:only-of-type {\n",
       "        vertical-align: middle;\n",
       "    }\n",
       "\n",
       "    .dataframe tbody tr th {\n",
       "        vertical-align: top;\n",
       "    }\n",
       "\n",
       "    .dataframe thead th {\n",
       "        text-align: right;\n",
       "    }\n",
       "</style>\n",
       "<table border=\"1\" class=\"dataframe\">\n",
       "  <thead>\n",
       "    <tr style=\"text-align: right;\">\n",
       "      <th></th>\n",
       "      <th>re_dig</th>\n",
       "      <th>re_emoji</th>\n",
       "    </tr>\n",
       "  </thead>\n",
       "  <tbody>\n",
       "    <tr>\n",
       "      <th>555</th>\n",
       "      <td>presiden jokowi resmi mencabut ppkm seiring kondisi covid yang makin terkendali apa saja yang berubah cari tahu dalam  berikut yuk👇</td>\n",
       "      <td>presiden jokowi resmi mencabut ppkm seiring kondisi covid yang makin terkendali apa saja yang berubah cari tahu dalam  berikut yuk</td>\n",
       "    </tr>\n",
       "    <tr>\n",
       "      <th>1550</th>\n",
       "      <td>detikers kini vaksin covid booster kedua atau dosis keempat sudah bisa didapatkan oleh masyarakat umum selain lansia dan tenaga kesehatan  nah bagaimana ya cara mendapatkan vaksin gratis cari tahu infonya dalam  berikut👇</td>\n",
       "      <td>detikers kini vaksin covid booster kedua atau dosis keempat sudah bisa didapatkan oleh masyarakat umum selain lansia dan tenaga kesehatan  nah bagaimana ya cara mendapatkan vaksin gratis cari tahu infonya dalam  berikut</td>\n",
       "    </tr>\n",
       "    <tr>\n",
       "      <th>1747</th>\n",
       "      <td>siapa yang lagi cari lokasi vaksin booster kedua di jabodetabek 😃⁣  pemerintah kini memperbolehkan masyarakat umum untuk mendapatkan vaksin covid booster kedua penyuntikan vaksin ini serentak dimulai dari tanggal  januari ⁣</td>\n",
       "      <td>siapa yang lagi cari lokasi vaksin booster kedua di jabodetabek ⁣  pemerintah kini memperbolehkan masyarakat umum untuk mendapatkan vaksin covid booster kedua penyuntikan vaksin ini serentak dimulai dari tanggal  januari ⁣</td>\n",
       "    </tr>\n",
       "    <tr>\n",
       "      <th>1763</th>\n",
       "      <td>siapa yang lagi cari lokasi vaksin booster kedua di jabodetabek 😃⁣  pemerintah kini memperbolehkan masyarakat umum untuk mendapatkan vaksin covid booster kedua penyuntikan vaksin ini serentak dimulai dari tanggal  januari ⁣</td>\n",
       "      <td>siapa yang lagi cari lokasi vaksin booster kedua di jabodetabek ⁣  pemerintah kini memperbolehkan masyarakat umum untuk mendapatkan vaksin covid booster kedua penyuntikan vaksin ini serentak dimulai dari tanggal  januari ⁣</td>\n",
       "    </tr>\n",
       "    <tr>\n",
       "      <th>2219</th>\n",
       "      <td>wah ternyata indonesia menjadi salah satu negara yang berhasil menangani covid✨  keberhasilan indonesia ini menuai pujian serta apresiasi dari who hingga johns hopkins university lho detikers  yuk intip ungkapan presiden jokowi terkait hal tersebut</td>\n",
       "      <td>wah ternyata indonesia menjadi salah satu negara yang berhasil menangani covid  keberhasilan indonesia ini menuai pujian serta apresiasi dari who hingga johns hopkins university lho detikers  yuk intip ungkapan presiden jokowi terkait hal tersebut</td>\n",
       "    </tr>\n",
       "  </tbody>\n",
       "</table>\n",
       "</div>"
      ],
      "text/plain": [
       "                                                                                                                                                                                                                                                           re_dig  \\\n",
       "555                                                                                                                     presiden jokowi resmi mencabut ppkm seiring kondisi covid yang makin terkendali apa saja yang berubah cari tahu dalam  berikut yuk👇         \n",
       "1550                                detikers kini vaksin covid booster kedua atau dosis keempat sudah bisa didapatkan oleh masyarakat umum selain lansia dan tenaga kesehatan  nah bagaimana ya cara mendapatkan vaksin gratis cari tahu infonya dalam  berikut👇    \n",
       "1747                         siapa yang lagi cari lokasi vaksin booster kedua di jabodetabek 😃⁣  pemerintah kini memperbolehkan masyarakat umum untuk mendapatkan vaksin covid booster kedua penyuntikan vaksin ini serentak dimulai dari tanggal  januari ⁣        \n",
       "1763                         siapa yang lagi cari lokasi vaksin booster kedua di jabodetabek 😃⁣  pemerintah kini memperbolehkan masyarakat umum untuk mendapatkan vaksin covid booster kedua penyuntikan vaksin ini serentak dimulai dari tanggal  januari ⁣        \n",
       "2219  wah ternyata indonesia menjadi salah satu negara yang berhasil menangani covid✨  keberhasilan indonesia ini menuai pujian serta apresiasi dari who hingga johns hopkins university lho detikers  yuk intip ungkapan presiden jokowi terkait hal tersebut      \n",
       "\n",
       "                                                                                                                                                                                                                                                        re_emoji  \n",
       "555                                                                                                                     presiden jokowi resmi mencabut ppkm seiring kondisi covid yang makin terkendali apa saja yang berubah cari tahu dalam  berikut yuk        \n",
       "1550                                detikers kini vaksin covid booster kedua atau dosis keempat sudah bisa didapatkan oleh masyarakat umum selain lansia dan tenaga kesehatan  nah bagaimana ya cara mendapatkan vaksin gratis cari tahu infonya dalam  berikut   \n",
       "1747                         siapa yang lagi cari lokasi vaksin booster kedua di jabodetabek ⁣  pemerintah kini memperbolehkan masyarakat umum untuk mendapatkan vaksin covid booster kedua penyuntikan vaksin ini serentak dimulai dari tanggal  januari ⁣       \n",
       "1763                         siapa yang lagi cari lokasi vaksin booster kedua di jabodetabek ⁣  pemerintah kini memperbolehkan masyarakat umum untuk mendapatkan vaksin covid booster kedua penyuntikan vaksin ini serentak dimulai dari tanggal  januari ⁣       \n",
       "2219  wah ternyata indonesia menjadi salah satu negara yang berhasil menangani covid  keberhasilan indonesia ini menuai pujian serta apresiasi dari who hingga johns hopkins university lho detikers  yuk intip ungkapan presiden jokowi terkait hal tersebut     "
      ]
     },
     "execution_count": 43,
     "metadata": {},
     "output_type": "execute_result"
    }
   ],
   "source": [
    "emoji_rows.head()"
   ]
  },
  {
   "cell_type": "code",
   "execution_count": 44,
   "id": "3295949a-74b5-497b-8d9b-9bcdb2a58e07",
   "metadata": {},
   "outputs": [
    {
     "name": "stdout",
     "output_type": "stream",
     "text": [
      "<class 'pandas.core.frame.DataFrame'>\n",
      "Int64Index: 36714 entries, 0 to 36760\n",
      "Data columns (total 2 columns):\n",
      " #   Column    Non-Null Count  Dtype \n",
      "---  ------    --------------  ----- \n",
      " 0   re_dig    36714 non-null  object\n",
      " 1   re_emoji  36714 non-null  object\n",
      "dtypes: object(2)\n",
      "memory usage: 860.5+ KB\n"
     ]
    }
   ],
   "source": [
    "df_re_emoji['re_emoji'] = df_re_emoji['re_dig'].apply(remove_emoji)\n",
    "df_re_emoji.info()"
   ]
  },
  {
   "cell_type": "code",
   "execution_count": 45,
   "id": "06c637a9-c7b4-4ac8-9f7f-a32cc88221fa",
   "metadata": {},
   "outputs": [
    {
     "data": {
      "text/html": [
       "<div>\n",
       "<style scoped>\n",
       "    .dataframe tbody tr th:only-of-type {\n",
       "        vertical-align: middle;\n",
       "    }\n",
       "\n",
       "    .dataframe tbody tr th {\n",
       "        vertical-align: top;\n",
       "    }\n",
       "\n",
       "    .dataframe thead th {\n",
       "        text-align: right;\n",
       "    }\n",
       "</style>\n",
       "<table border=\"1\" class=\"dataframe\">\n",
       "  <thead>\n",
       "    <tr style=\"text-align: right;\">\n",
       "      <th></th>\n",
       "      <th>re_dig</th>\n",
       "      <th>re_emoji</th>\n",
       "    </tr>\n",
       "  </thead>\n",
       "  <tbody>\n",
       "    <tr>\n",
       "      <th>1546</th>\n",
       "      <td>kemenkes ri mengungkap kronologi atau awal mula varian covid kraken masuk ke indonesia pasien sempat bermalam di dki</td>\n",
       "      <td>kemenkes ri mengungkap kronologi atau awal mula varian covid kraken masuk ke indonesia pasien sempat bermalam di dki</td>\n",
       "    </tr>\n",
       "    <tr>\n",
       "      <th>1547</th>\n",
       "      <td>pemberitahuan tidak menyebutkan penyakit sebagai covid tetapi penduduk pyongyang diminta tinggal di rumah sampai akhir minggu</td>\n",
       "      <td>pemberitahuan tidak menyebutkan penyakit sebagai covid tetapi penduduk pyongyang diminta tinggal di rumah sampai akhir minggu</td>\n",
       "    </tr>\n",
       "    <tr>\n",
       "      <th>1548</th>\n",
       "      <td>ia menjelaskan dalam kondisi tertentu seperti pada pasien kanker dibutuhkan vaksin saja mungkin tak cukup melindungi dari covid</td>\n",
       "      <td>ia menjelaskan dalam kondisi tertentu seperti pada pasien kanker dibutuhkan vaksin saja mungkin tak cukup melindungi dari covid</td>\n",
       "    </tr>\n",
       "    <tr>\n",
       "      <th>1549</th>\n",
       "      <td>kendati demikian tidak dirinci apa yang menyebabkan melonjaknya kasus penyakit pernapasan selain itu pengumuman tidak menyinggung covid</td>\n",
       "      <td>kendati demikian tidak dirinci apa yang menyebabkan melonjaknya kasus penyakit pernapasan selain itu pengumuman tidak menyinggung covid</td>\n",
       "    </tr>\n",
       "    <tr>\n",
       "      <th>1550</th>\n",
       "      <td>detikers kini vaksin covid booster kedua atau dosis keempat sudah bisa didapatkan oleh masyarakat umum selain lansia dan tenaga kesehatan  nah bagaimana ya cara mendapatkan vaksin gratis cari tahu infonya dalam  berikut👇</td>\n",
       "      <td>detikers kini vaksin covid booster kedua atau dosis keempat sudah bisa didapatkan oleh masyarakat umum selain lansia dan tenaga kesehatan  nah bagaimana ya cara mendapatkan vaksin gratis cari tahu infonya dalam  berikut</td>\n",
       "    </tr>\n",
       "  </tbody>\n",
       "</table>\n",
       "</div>"
      ],
      "text/plain": [
       "                                                                                                                                                                                                                             re_dig  \\\n",
       "1546                                                                                                         kemenkes ri mengungkap kronologi atau awal mula varian covid kraken masuk ke indonesia pasien sempat bermalam di dki     \n",
       "1547                                                                                                 pemberitahuan tidak menyebutkan penyakit sebagai covid tetapi penduduk pyongyang diminta tinggal di rumah sampai akhir minggu    \n",
       "1548                                                                                              ia menjelaskan dalam kondisi tertentu seperti pada pasien kanker dibutuhkan vaksin saja mungkin tak cukup melindungi dari covid     \n",
       "1549                                                                                       kendati demikian tidak dirinci apa yang menyebabkan melonjaknya kasus penyakit pernapasan selain itu pengumuman tidak menyinggung covid    \n",
       "1550  detikers kini vaksin covid booster kedua atau dosis keempat sudah bisa didapatkan oleh masyarakat umum selain lansia dan tenaga kesehatan  nah bagaimana ya cara mendapatkan vaksin gratis cari tahu infonya dalam  berikut👇    \n",
       "\n",
       "                                                                                                                                                                                                                          re_emoji  \n",
       "1546                                                                                                        kemenkes ri mengungkap kronologi atau awal mula varian covid kraken masuk ke indonesia pasien sempat bermalam di dki    \n",
       "1547                                                                                                pemberitahuan tidak menyebutkan penyakit sebagai covid tetapi penduduk pyongyang diminta tinggal di rumah sampai akhir minggu   \n",
       "1548                                                                                             ia menjelaskan dalam kondisi tertentu seperti pada pasien kanker dibutuhkan vaksin saja mungkin tak cukup melindungi dari covid    \n",
       "1549                                                                                      kendati demikian tidak dirinci apa yang menyebabkan melonjaknya kasus penyakit pernapasan selain itu pengumuman tidak menyinggung covid   \n",
       "1550  detikers kini vaksin covid booster kedua atau dosis keempat sudah bisa didapatkan oleh masyarakat umum selain lansia dan tenaga kesehatan  nah bagaimana ya cara mendapatkan vaksin gratis cari tahu infonya dalam  berikut   "
      ]
     },
     "execution_count": 45,
     "metadata": {},
     "output_type": "execute_result"
    }
   ],
   "source": [
    "df_re_emoji.head(1550).tail(5)"
   ]
  },
  {
   "cell_type": "markdown",
   "id": "d41917a1-7362-4610-bb52-25a3b32930d0",
   "metadata": {},
   "source": [
    "# Export data csv data cleaning"
   ]
  },
  {
   "cell_type": "code",
   "execution_count": 46,
   "id": "8825a757-4e07-4bf1-b933-df347c9f337c",
   "metadata": {},
   "outputs": [],
   "source": [
    "df_covid_preprocessing = df_re_emoji[['re_emoji']].copy()"
   ]
  },
  {
   "cell_type": "code",
   "execution_count": 47,
   "id": "4c01b968-8e32-48ef-b106-87146137fe38",
   "metadata": {},
   "outputs": [
    {
     "name": "stdout",
     "output_type": "stream",
     "text": [
      "<class 'pandas.core.frame.DataFrame'>\n",
      "Int64Index: 36714 entries, 0 to 36760\n",
      "Data columns (total 1 columns):\n",
      " #   Column    Non-Null Count  Dtype \n",
      "---  ------    --------------  ----- \n",
      " 0   re_emoji  36714 non-null  object\n",
      "dtypes: object(1)\n",
      "memory usage: 573.7+ KB\n"
     ]
    }
   ],
   "source": [
    "df_covid_preprocessing.info()"
   ]
  },
  {
   "cell_type": "code",
   "execution_count": 48,
   "id": "b15dc56a-f885-4f1b-9c2d-c6818f4c0473",
   "metadata": {},
   "outputs": [],
   "source": [
    "df_covid_preprocessing = df_covid_preprocessing.rename(columns={'re_emoji': 'tweets'})"
   ]
  },
  {
   "cell_type": "code",
   "execution_count": 49,
   "id": "d945f1c2-c298-403c-94bf-0b1dc2a7383e",
   "metadata": {},
   "outputs": [
    {
     "data": {
      "text/html": [
       "<div>\n",
       "<style scoped>\n",
       "    .dataframe tbody tr th:only-of-type {\n",
       "        vertical-align: middle;\n",
       "    }\n",
       "\n",
       "    .dataframe tbody tr th {\n",
       "        vertical-align: top;\n",
       "    }\n",
       "\n",
       "    .dataframe thead th {\n",
       "        text-align: right;\n",
       "    }\n",
       "</style>\n",
       "<table border=\"1\" class=\"dataframe\">\n",
       "  <thead>\n",
       "    <tr style=\"text-align: right;\">\n",
       "      <th></th>\n",
       "      <th>tweets</th>\n",
       "    </tr>\n",
       "  </thead>\n",
       "  <tbody>\n",
       "    <tr>\n",
       "      <th>0</th>\n",
       "      <td>belum ada bukti gambar yang diklaim pembekuan darah setelah vaksinasi covid</td>\n",
       "    </tr>\n",
       "    <tr>\n",
       "      <th>1</th>\n",
       "      <td>keliru klaim vaksin covid berbasis mrna dan adenoviral menurunkan sistem kekebalan tubuh</td>\n",
       "    </tr>\n",
       "    <tr>\n",
       "      <th>2</th>\n",
       "      <td>kemenkes minta penonton konser coldplay booster vaksin covid</td>\n",
       "    </tr>\n",
       "    <tr>\n",
       "      <th>3</th>\n",
       "      <td>jadwal dan lokasi vaksin covid surabaya hari ini  mei</td>\n",
       "    </tr>\n",
       "    <tr>\n",
       "      <th>4</th>\n",
       "      <td>jadwal dan lokasi vaksin covid surabaya hari ini  mei</td>\n",
       "    </tr>\n",
       "  </tbody>\n",
       "</table>\n",
       "</div>"
      ],
      "text/plain": [
       "                                                                                        tweets\n",
       "0               belum ada bukti gambar yang diklaim pembekuan darah setelah vaksinasi covid   \n",
       "1  keliru klaim vaksin covid berbasis mrna dan adenoviral menurunkan sistem kekebalan tubuh   \n",
       "2                                kemenkes minta penonton konser coldplay booster vaksin covid \n",
       "3                                     jadwal dan lokasi vaksin covid surabaya hari ini  mei   \n",
       "4                                   jadwal dan lokasi vaksin covid surabaya hari ini  mei     "
      ]
     },
     "execution_count": 49,
     "metadata": {},
     "output_type": "execute_result"
    }
   ],
   "source": [
    "df_covid_preprocessing.head()"
   ]
  },
  {
   "cell_type": "code",
   "execution_count": 50,
   "id": "ad4f2231-c844-4657-a261-c0ded5078ec0",
   "metadata": {},
   "outputs": [
    {
     "name": "stdout",
     "output_type": "stream",
     "text": [
      "<class 'pandas.core.frame.DataFrame'>\n",
      "Int64Index: 36714 entries, 0 to 36760\n",
      "Data columns (total 1 columns):\n",
      " #   Column  Non-Null Count  Dtype \n",
      "---  ------  --------------  ----- \n",
      " 0   tweets  36714 non-null  object\n",
      "dtypes: object(1)\n",
      "memory usage: 573.7+ KB\n"
     ]
    }
   ],
   "source": [
    "df_covid_preprocessing.info()"
   ]
  },
  {
   "cell_type": "code",
   "execution_count": 51,
   "id": "660cd416-fc2a-4a5d-bc22-42e8daa9df54",
   "metadata": {},
   "outputs": [],
   "source": [
    "#df_covid_preprocessing.to_csv(\"../dataset/cleaned_covid.csv\", encoding=\"utf-8\", index=False)"
   ]
  }
 ],
 "metadata": {
  "kernelspec": {
   "display_name": "Python 3 (ipykernel)",
   "language": "python",
   "name": "python3"
  },
  "language_info": {
   "codemirror_mode": {
    "name": "ipython",
    "version": 3
   },
   "file_extension": ".py",
   "mimetype": "text/x-python",
   "name": "python",
   "nbconvert_exporter": "python",
   "pygments_lexer": "ipython3",
   "version": "3.9.16"
  }
 },
 "nbformat": 4,
 "nbformat_minor": 5
}
