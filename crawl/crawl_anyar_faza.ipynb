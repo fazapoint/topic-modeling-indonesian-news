{
 "cells": [
  {
   "cell_type": "code",
   "execution_count": 1,
   "id": "56e73135-da48-45f8-9032-ec2f8c06cda8",
   "metadata": {
    "tags": []
   },
   "outputs": [],
   "source": [
    "import tweepy\n",
    "import numpy as np\n",
    "import pandas as pd\n",
    "from auth import *"
   ]
  },
  {
   "cell_type": "code",
   "execution_count": 2,
   "id": "e9045a11-3c62-4f1b-8a2b-1dba18f44323",
   "metadata": {},
   "outputs": [],
   "source": [
    "consumer_key = ck\n",
    "consumer_secret = cs  \n",
    "access_token = at\n",
    "access_token_secret = ats "
   ]
  },
  {
   "cell_type": "code",
   "execution_count": 3,
   "id": "a528186f-81f9-4565-b917-9712314e6526",
   "metadata": {},
   "outputs": [],
   "source": [
    "class TwitterAuthenticator():\n",
    "    def auth_twitter_app(self):\n",
    "        auth = tweepy.OAuthHandler(consumer_key, consumer_secret)\n",
    "        auth.set_access_token(access_token, access_token_secret)\n",
    "        return auth"
   ]
  },
  {
   "cell_type": "code",
   "execution_count": 4,
   "id": "9414b949-a26f-4c3b-86a9-f16337227935",
   "metadata": {},
   "outputs": [],
   "source": [
    "class TwitterClient():\n",
    "    def __init__(self):\n",
    "        self.auth = TwitterAuthenticator().auth_twitter_app()\n",
    "        self.api = tweepy.API(self.auth, wait_on_rate_limit=True)\n",
    "        \n",
    "    def get_twitter_client_api(self):\n",
    "        return self.api\n",
    "    \n",
    "    def get_user_timeline_tweets(self, num_tweets, username):\n",
    "        user_timeline_tweets = []\n",
    "        for tweet in tweepy.Cursor(self.api.user_timeline, screen_name=username, tweet_mode='extended', exclude_replies=True, include_rts=False).items(num_tweets):\n",
    "            user_timeline_tweets.append(tweet)\n",
    "        return user_timeline_tweets\n",
    "        # for tweet in tweepy.Cursor(api.search, q=search_key, count=1000, lang=\"id\", since=\"2021-02-01\", until=\"2021-03-01\").items(5):\n",
    "    \n",
    "    def get_search_tweets(self, num_tweets, keyword, until_date):\n",
    "        search_tweets = []\n",
    "        for tweet in tweepy.Cursor(self.api.search_tweets, q=keyword, until=until_date, tweet_mode='extended').items(num_tweets):\n",
    "            search_tweets.append(tweet)\n",
    "        return search_tweets"
   ]
  },
  {
   "cell_type": "code",
   "execution_count": 5,
   "id": "1a1e5127-2129-469e-b128-158177342620",
   "metadata": {},
   "outputs": [],
   "source": [
    "class TweetExport():\n",
    "    def tweets_to_dataframe(self, tweets):\n",
    "        df = pd.DataFrame()\n",
    "        df['id'] = np.array([tweet.id_str for tweet in tweets])\n",
    "        df['date'] = np.array([tweet.created_at for tweet in tweets])\n",
    "        df['username'] = np.array([tweet.user.name for tweet in tweets]) \n",
    "        df['tweets'] = np.array([tweet.full_text for tweet in tweets])       \n",
    "        return df\n",
    "    \n",
    "    def dataframe_to_csv(self, data_frame, file_name):\n",
    "        df = data_frame.to_csv(\"data_csv/mentah/timeline/{0}.csv\".format(file_name), encoding=\"utf-8\", index=False)\n",
    "        return df\n",
    "    \n",
    "    def dataframe_to_csv2(self, data_frame, file_name):\n",
    "        df = data_frame.to_csv(\"data_csv/mentah/covid/{0}.csv\".format(file_name), encoding=\"utf-8\", index=False)\n",
    "        "
   ]
  },
  {
   "cell_type": "code",
   "execution_count": 6,
   "id": "bda23498-cc1e-4e19-94a5-105485bbe392",
   "metadata": {},
   "outputs": [],
   "source": [
    "# Creating object\n",
    "twitter_client = TwitterClient()\n",
    "tweet_export = TweetExport()\n",
    "api = twitter_client.get_twitter_client_api()"
   ]
  },
  {
   "cell_type": "code",
   "execution_count": 13,
   "id": "7b04bbc2-41a9-4c2e-bc0e-c53a70f7212d",
   "metadata": {},
   "outputs": [
    {
     "name": "stdout",
     "output_type": "stream",
     "text": [
      "                    id                      date        username  \\\n",
      "0  1655901063873200130 2023-05-09 11:42:33+00:00  Pikiran Rakyat   \n",
      "1  1655897163682172929 2023-05-09 11:27:03+00:00  Pikiran Rakyat   \n",
      "2  1655893263973486592 2023-05-09 11:11:33+00:00  Pikiran Rakyat   \n",
      "3  1655889490429485056 2023-05-09 10:56:34+00:00  Pikiran Rakyat   \n",
      "4  1655885583972200451 2023-05-09 10:41:02+00:00  Pikiran Rakyat   \n",
      "5  1655881685668605952 2023-05-09 10:25:33+00:00  Pikiran Rakyat   \n",
      "6  1655877916411191298 2023-05-09 10:10:34+00:00  Pikiran Rakyat   \n",
      "7  1655875260691124235 2023-05-09 10:00:01+00:00  Pikiran Rakyat   \n",
      "8  1655874012164280323 2023-05-09 09:55:03+00:00  Pikiran Rakyat   \n",
      "9  1655870252419538944 2023-05-09 09:40:07+00:00  Pikiran Rakyat   \n",
      "\n",
      "                                              tweets  \n",
      "0  Jonathan Latumahina Cegah Mario Dandy cs Manfa...  \n",
      "1  RUU PPRT Jangan Sampai Terlupakan karena Pemil...  \n",
      "2  Motif Penculikan Siswi SMA di Bandung Terungka...  \n",
      "3  1.956 Knalpot Brong Diarak Keliling Bandung, P...  \n",
      "4  Mendukung Rekan Seprofesi Menolak RUU Kesehata...  \n",
      "5  Viral Mahasiswa Ngamuk 'Aniaya' Motor di Kudus...  \n",
      "6  Kiky Saputri Komentari Video Pengakuan Selingk...  \n",
      "7  Bagi Sobat PR yang memiliki foto kegiatan sosi...  \n",
      "8  Selalu Respon Cepat, Forkopimda Apresiasi Kine...  \n",
      "9  Warga Sekitar Sekolah Darussurur Cimahi Minta ...  \n"
     ]
    }
   ],
   "source": [
    "# Main program for user timeline endpoint\n",
    "tweets_orang = twitter_client.get_user_timeline_tweets(5000, 'pikiran_rakyat') #GANTI USERNAME\n",
    "df = tweet_export.tweets_to_dataframe(tweets_orang)\n",
    "tweet_export.dataframe_to_csv(df, 'pikiran_rakyat_9mei') #GANTI NAMA CSV\n",
    "print (df.head(10))"
   ]
  },
  {
   "cell_type": "code",
   "execution_count": 8,
   "id": "e70aeb5d-3bc8-43f8-9ddc-921342f36902",
   "metadata": {
    "tags": []
   },
   "outputs": [],
   "source": [
    "# Main program for search endpoint\n",
    "# query = covid (from:tvonenews OR from:kompascom OR from:detikcom OR from:tribunnews) -filter:retweets -filter:replies since:2021-10-07\n",
    "# query = covid (from:tempodotco OR from:okezonenews OR from:jpnncom OR from:cnnindonesia) -filter:retweets -filter:replies since:2021-10-07\n",
    "# kompastv dan liputan6dotcom tidak mau\n",
    "\n",
    "start_date = '2023-05-23'\n",
    "end_date = '2023-05-24'\n",
    "\n",
    "no_file = 274\n",
    "tgl_file = '23mei'\n",
    "\n",
    "tweets_topic = twitter_client.get_search_tweets(500, 'covid (from:tempodotco OR from:okezonenews OR from:jpnncom OR from:cnnindonesia OR from:liputan6dotcom) -filter:retweets -filter:replies since:{}'.format(start_date), '{}'.format(end_date)) #GANTI TANGGAL SINCE UNTUK MENGAMBIL DATA PADA TANGGAL TSB\n",
    "tweets_topic2 = twitter_client.get_search_tweets(500, 'covid (from:tvonenews OR from:kompascom OR from:detikcom OR from:tribunnews OR from:kompastv) -filter:retweets -filter:replies since:{}'.format(start_date), '{}'.format(end_date)) #GANTI TANGGAL SINCE UNTUK MENGAMBIL DATA PADA TANGGAL TSB\n",
    "tweets_topic3 = twitter_client.get_search_tweets(500, 'covid (from:antaranews OR from:bbcindonesia OR from:hariankompas OR from:mediaindonesia OR from:temponewsroom OR from:detikhealth) -filter:retweets -filter:replies since:{}'.format(start_date), '{}'.format(end_date)) #GANTI TANGGAL SINCE UNTUK MENGAMBIL DATA PADA TANGGAL TSB\n",
    "\n",
    "df2 = tweet_export.tweets_to_dataframe(tweets_topic)\n",
    "df3 = tweet_export.tweets_to_dataframe(tweets_topic2)\n",
    "df4 = tweet_export.tweets_to_dataframe(tweets_topic3)\n",
    "tweet_export.dataframe_to_csv2(df2, '{}_covid_{}'.format(no_file, tgl_file)) #GANTI NAMA FILE\n",
    "tweet_export.dataframe_to_csv2(df3, '{}_covid_{}'.format(no_file+1, tgl_file)) #GANTI NAMA FILE\n",
    "tweet_export.dataframe_to_csv2(df4, '{}_covid_{}'.format(no_file+2, tgl_file)) #GANTI NAMA FILE"
   ]
  },
  {
   "cell_type": "code",
   "execution_count": null,
   "id": "adaacaa5-9edd-465f-83a5-bf2207c5df03",
   "metadata": {},
   "outputs": [
    {
     "name": "stderr",
     "output_type": "stream",
     "text": [
      "Rate limit reached. Sleeping for: 243\n"
     ]
    }
   ],
   "source": [
    "# FORMULA E\n",
    "# Main program for search endpoint\n",
    "# query = covid (from:tvonenews OR from:kompascom OR from:detikcom OR from:tribunnews) -filter:retweets -filter:replies since:2021-10-07\n",
    "# query = covid (from:tempodotco OR from:okezonenews OR from:jpnncom OR from:cnnindonesia) -filter:retweets -filter:replies since:2021-10-07\n",
    "# kompastv dan liputan6dotcom tidak mau\n",
    "start_date = '2023-04-29'\n",
    "end_date = '2023-04-30'\n",
    "\n",
    "no_file = 999\n",
    "tgl_file = '5mei'\n",
    "\n",
    "tweets_topic = twitter_client.get_search_tweets(500, 'csgo -filter:retweets -filter:replies since:{}'.format(start_date), '{}'.format(end_date)) #GANTI TANGGAL SINCE UNTUK MENGAMBIL DATA PADA TANGGAL TSB\n",
    "#tweets_topic2 = twitter_client.get_search_tweets(1000, 'formula e (from:tvonenews OR from:kompascom OR from:detikcom OR from:tribunnews OR from:kompastv) -filter:retweets -filter:replies since:{}'.format(start_date), '{}'.format(end_date)) #GANTI TANGGAL SINCE UNTUK MENGAMBIL DATA PADA TANGGAL TSB\n",
    "#tweets_topic3 = twitter_client.get_search_tweets(1000, 'formula e (from:antaranews OR from:bbcindonesia OR from:hariankompas OR from:mediaindonesia OR from:temponewsroom OR from:detikhealth) -filter:retweets -filter:replies since:{}'.format(start_date), '{}'.format(end_date)) #GANTI TANGGAL SINCE UNTUK MENGAMBIL DATA PADA TANGGAL TSB\n",
    "\n",
    "df2 = tweet_export.tweets_to_dataframe(tweets_topic)\n",
    "#df3 = tweet_export.tweets_to_dataframe(tweets_topic2)\n",
    "#df4 = tweet_export.tweets_to_dataframe(tweets_topic3)\n",
    "tweet_export.dataframe_to_csv2(df2, 'CSGO_{}_CSGO_{}'.format(no_file, tgl_file)) #GANTI NAMA FILE\n",
    "#tweet_export.dataframe_to_csv2(df3, 'FE_{}_FORMULAE_{}'.format(no_file+1, tgl_file)) #GANTI NAMA FILE\n",
    "#tweet_export.dataframe_to_csv2(df4, 'FE_{}_FORMULAE_{}'.format(no_file+2, tgl_file)) #GANTI NAMA FILE"
   ]
  },
  {
   "cell_type": "code",
   "execution_count": 10,
   "id": "1d3ab4ad-9f4d-42fb-9af5-bfb625c81b51",
   "metadata": {},
   "outputs": [],
   "source": [
    "#INDIVIDUALS SEARCH ENDPOINT\n",
    "tweets_topic4 = twitter_client.get_search_tweets(200, 'covid (from:tempodotco OR from:okezonenews OR from:jpnncom OR from:cnnindonesia OR from:liputan6dotcom) -filter:retweets -filter:replies since:{}'.format(start_date), '{}'.format(end_date)) #GANTI TANGGAL SINCE UNTUK MENGAMBIL DATA PADA TANGGAL TSB\n",
    "df5 = tweet_export.tweets_to_dataframe(tweets_topic4)\n",
    "tweet_export.dataframe_to_csv2(df5, '200_covid_18des') #GANTI NAMA FILE\n"
   ]
  },
  {
   "cell_type": "code",
   "execution_count": 7,
   "id": "2a9d4fd5-8208-4649-a3a2-9fa88982c8ea",
   "metadata": {},
   "outputs": [
    {
     "ename": "TwitterServerError",
     "evalue": "500 Internal Server Error\n131 - Internal error",
     "output_type": "error",
     "traceback": [
      "\u001b[1;31m---------------------------------------------------------------------------\u001b[0m",
      "\u001b[1;31mTwitterServerError\u001b[0m                        Traceback (most recent call last)",
      "\u001b[1;32m~\\AppData\\Local\\Temp/ipykernel_6180/51936676.py\u001b[0m in \u001b[0;36m<module>\u001b[1;34m\u001b[0m\n\u001b[0;32m      6\u001b[0m \u001b[0mtgl_file\u001b[0m \u001b[1;33m=\u001b[0m \u001b[1;34m'5mei'\u001b[0m\u001b[1;33m\u001b[0m\u001b[1;33m\u001b[0m\u001b[0m\n\u001b[0;32m      7\u001b[0m \u001b[1;33m\u001b[0m\u001b[0m\n\u001b[1;32m----> 8\u001b[1;33m \u001b[0mtweets_topic\u001b[0m \u001b[1;33m=\u001b[0m \u001b[0mtwitter_client\u001b[0m\u001b[1;33m.\u001b[0m\u001b[0mget_search_tweets\u001b[0m\u001b[1;33m(\u001b[0m\u001b[1;36m10000\u001b[0m\u001b[1;33m,\u001b[0m \u001b[1;34m'csgo lang:id -filter:retweets -filter:replies since:{}'\u001b[0m\u001b[1;33m.\u001b[0m\u001b[0mformat\u001b[0m\u001b[1;33m(\u001b[0m\u001b[0mstart_date\u001b[0m\u001b[1;33m)\u001b[0m\u001b[1;33m,\u001b[0m \u001b[1;34m'{}'\u001b[0m\u001b[1;33m.\u001b[0m\u001b[0mformat\u001b[0m\u001b[1;33m(\u001b[0m\u001b[0mend_date\u001b[0m\u001b[1;33m)\u001b[0m\u001b[1;33m)\u001b[0m \u001b[1;31m#GANTI TANGGAL SINCE UNTUK MENGAMBIL DATA PADA TANGGAL TSB\u001b[0m\u001b[1;33m\u001b[0m\u001b[1;33m\u001b[0m\u001b[0m\n\u001b[0m\u001b[0;32m      9\u001b[0m \u001b[1;33m\u001b[0m\u001b[0m\n\u001b[0;32m     10\u001b[0m \u001b[0mdf2\u001b[0m \u001b[1;33m=\u001b[0m \u001b[0mtweet_export\u001b[0m\u001b[1;33m.\u001b[0m\u001b[0mtweets_to_dataframe\u001b[0m\u001b[1;33m(\u001b[0m\u001b[0mtweets_topic\u001b[0m\u001b[1;33m)\u001b[0m\u001b[1;33m\u001b[0m\u001b[1;33m\u001b[0m\u001b[0m\n",
      "\u001b[1;32m~\\AppData\\Local\\Temp/ipykernel_6180/3170832383.py\u001b[0m in \u001b[0;36mget_search_tweets\u001b[1;34m(self, num_tweets, keyword, until_date)\u001b[0m\n\u001b[0;32m     16\u001b[0m     \u001b[1;32mdef\u001b[0m \u001b[0mget_search_tweets\u001b[0m\u001b[1;33m(\u001b[0m\u001b[0mself\u001b[0m\u001b[1;33m,\u001b[0m \u001b[0mnum_tweets\u001b[0m\u001b[1;33m,\u001b[0m \u001b[0mkeyword\u001b[0m\u001b[1;33m,\u001b[0m \u001b[0muntil_date\u001b[0m\u001b[1;33m)\u001b[0m\u001b[1;33m:\u001b[0m\u001b[1;33m\u001b[0m\u001b[1;33m\u001b[0m\u001b[0m\n\u001b[0;32m     17\u001b[0m         \u001b[0msearch_tweets\u001b[0m \u001b[1;33m=\u001b[0m \u001b[1;33m[\u001b[0m\u001b[1;33m]\u001b[0m\u001b[1;33m\u001b[0m\u001b[1;33m\u001b[0m\u001b[0m\n\u001b[1;32m---> 18\u001b[1;33m         \u001b[1;32mfor\u001b[0m \u001b[0mtweet\u001b[0m \u001b[1;32min\u001b[0m \u001b[0mtweepy\u001b[0m\u001b[1;33m.\u001b[0m\u001b[0mCursor\u001b[0m\u001b[1;33m(\u001b[0m\u001b[0mself\u001b[0m\u001b[1;33m.\u001b[0m\u001b[0mapi\u001b[0m\u001b[1;33m.\u001b[0m\u001b[0msearch_tweets\u001b[0m\u001b[1;33m,\u001b[0m \u001b[0mq\u001b[0m\u001b[1;33m=\u001b[0m\u001b[0mkeyword\u001b[0m\u001b[1;33m,\u001b[0m \u001b[0muntil\u001b[0m\u001b[1;33m=\u001b[0m\u001b[0muntil_date\u001b[0m\u001b[1;33m,\u001b[0m \u001b[0mtweet_mode\u001b[0m\u001b[1;33m=\u001b[0m\u001b[1;34m'extended'\u001b[0m\u001b[1;33m)\u001b[0m\u001b[1;33m.\u001b[0m\u001b[0mitems\u001b[0m\u001b[1;33m(\u001b[0m\u001b[0mnum_tweets\u001b[0m\u001b[1;33m)\u001b[0m\u001b[1;33m:\u001b[0m\u001b[1;33m\u001b[0m\u001b[1;33m\u001b[0m\u001b[0m\n\u001b[0m\u001b[0;32m     19\u001b[0m             \u001b[0msearch_tweets\u001b[0m\u001b[1;33m.\u001b[0m\u001b[0mappend\u001b[0m\u001b[1;33m(\u001b[0m\u001b[0mtweet\u001b[0m\u001b[1;33m)\u001b[0m\u001b[1;33m\u001b[0m\u001b[1;33m\u001b[0m\u001b[0m\n\u001b[0;32m     20\u001b[0m         \u001b[1;32mreturn\u001b[0m \u001b[0msearch_tweets\u001b[0m\u001b[1;33m\u001b[0m\u001b[1;33m\u001b[0m\u001b[0m\n",
      "\u001b[1;32m~\\anaconda3\\envs\\tweet_crawl\\lib\\site-packages\\tweepy\\cursor.py\u001b[0m in \u001b[0;36m__next__\u001b[1;34m(self)\u001b[0m\n\u001b[0;32m     84\u001b[0m \u001b[1;33m\u001b[0m\u001b[0m\n\u001b[0;32m     85\u001b[0m     \u001b[1;32mdef\u001b[0m \u001b[0m__next__\u001b[0m\u001b[1;33m(\u001b[0m\u001b[0mself\u001b[0m\u001b[1;33m)\u001b[0m\u001b[1;33m:\u001b[0m\u001b[1;33m\u001b[0m\u001b[1;33m\u001b[0m\u001b[0m\n\u001b[1;32m---> 86\u001b[1;33m         \u001b[1;32mreturn\u001b[0m \u001b[0mself\u001b[0m\u001b[1;33m.\u001b[0m\u001b[0mnext\u001b[0m\u001b[1;33m(\u001b[0m\u001b[1;33m)\u001b[0m\u001b[1;33m\u001b[0m\u001b[1;33m\u001b[0m\u001b[0m\n\u001b[0m\u001b[0;32m     87\u001b[0m \u001b[1;33m\u001b[0m\u001b[0m\n\u001b[0;32m     88\u001b[0m     \u001b[1;32mdef\u001b[0m \u001b[0mnext\u001b[0m\u001b[1;33m(\u001b[0m\u001b[0mself\u001b[0m\u001b[1;33m)\u001b[0m\u001b[1;33m:\u001b[0m\u001b[1;33m\u001b[0m\u001b[1;33m\u001b[0m\u001b[0m\n",
      "\u001b[1;32m~\\anaconda3\\envs\\tweet_crawl\\lib\\site-packages\\tweepy\\cursor.py\u001b[0m in \u001b[0;36mnext\u001b[1;34m(self)\u001b[0m\n\u001b[0;32m    284\u001b[0m         \u001b[1;32mif\u001b[0m \u001b[0mself\u001b[0m\u001b[1;33m.\u001b[0m\u001b[0mcurrent_page\u001b[0m \u001b[1;32mis\u001b[0m \u001b[1;32mNone\u001b[0m \u001b[1;32mor\u001b[0m \u001b[0mself\u001b[0m\u001b[1;33m.\u001b[0m\u001b[0mpage_index\u001b[0m \u001b[1;33m==\u001b[0m \u001b[0mlen\u001b[0m\u001b[1;33m(\u001b[0m\u001b[0mself\u001b[0m\u001b[1;33m.\u001b[0m\u001b[0mcurrent_page\u001b[0m\u001b[1;33m)\u001b[0m \u001b[1;33m-\u001b[0m \u001b[1;36m1\u001b[0m\u001b[1;33m:\u001b[0m\u001b[1;33m\u001b[0m\u001b[1;33m\u001b[0m\u001b[0m\n\u001b[0;32m    285\u001b[0m             \u001b[1;31m# Reached end of current page, get the next page...\u001b[0m\u001b[1;33m\u001b[0m\u001b[1;33m\u001b[0m\u001b[0m\n\u001b[1;32m--> 286\u001b[1;33m             \u001b[0mself\u001b[0m\u001b[1;33m.\u001b[0m\u001b[0mcurrent_page\u001b[0m \u001b[1;33m=\u001b[0m \u001b[0mnext\u001b[0m\u001b[1;33m(\u001b[0m\u001b[0mself\u001b[0m\u001b[1;33m.\u001b[0m\u001b[0mpage_iterator\u001b[0m\u001b[1;33m)\u001b[0m\u001b[1;33m\u001b[0m\u001b[1;33m\u001b[0m\u001b[0m\n\u001b[0m\u001b[0;32m    287\u001b[0m             \u001b[1;32mwhile\u001b[0m \u001b[0mlen\u001b[0m\u001b[1;33m(\u001b[0m\u001b[0mself\u001b[0m\u001b[1;33m.\u001b[0m\u001b[0mcurrent_page\u001b[0m\u001b[1;33m)\u001b[0m \u001b[1;33m==\u001b[0m \u001b[1;36m0\u001b[0m\u001b[1;33m:\u001b[0m\u001b[1;33m\u001b[0m\u001b[1;33m\u001b[0m\u001b[0m\n\u001b[0;32m    288\u001b[0m                 \u001b[0mself\u001b[0m\u001b[1;33m.\u001b[0m\u001b[0mcurrent_page\u001b[0m \u001b[1;33m=\u001b[0m \u001b[0mnext\u001b[0m\u001b[1;33m(\u001b[0m\u001b[0mself\u001b[0m\u001b[1;33m.\u001b[0m\u001b[0mpage_iterator\u001b[0m\u001b[1;33m)\u001b[0m\u001b[1;33m\u001b[0m\u001b[1;33m\u001b[0m\u001b[0m\n",
      "\u001b[1;32m~\\anaconda3\\envs\\tweet_crawl\\lib\\site-packages\\tweepy\\cursor.py\u001b[0m in \u001b[0;36m__next__\u001b[1;34m(self)\u001b[0m\n\u001b[0;32m     84\u001b[0m \u001b[1;33m\u001b[0m\u001b[0m\n\u001b[0;32m     85\u001b[0m     \u001b[1;32mdef\u001b[0m \u001b[0m__next__\u001b[0m\u001b[1;33m(\u001b[0m\u001b[0mself\u001b[0m\u001b[1;33m)\u001b[0m\u001b[1;33m:\u001b[0m\u001b[1;33m\u001b[0m\u001b[1;33m\u001b[0m\u001b[0m\n\u001b[1;32m---> 86\u001b[1;33m         \u001b[1;32mreturn\u001b[0m \u001b[0mself\u001b[0m\u001b[1;33m.\u001b[0m\u001b[0mnext\u001b[0m\u001b[1;33m(\u001b[0m\u001b[1;33m)\u001b[0m\u001b[1;33m\u001b[0m\u001b[1;33m\u001b[0m\u001b[0m\n\u001b[0m\u001b[0;32m     87\u001b[0m \u001b[1;33m\u001b[0m\u001b[0m\n\u001b[0;32m     88\u001b[0m     \u001b[1;32mdef\u001b[0m \u001b[0mnext\u001b[0m\u001b[1;33m(\u001b[0m\u001b[0mself\u001b[0m\u001b[1;33m)\u001b[0m\u001b[1;33m:\u001b[0m\u001b[1;33m\u001b[0m\u001b[1;33m\u001b[0m\u001b[0m\n",
      "\u001b[1;32m~\\anaconda3\\envs\\tweet_crawl\\lib\\site-packages\\tweepy\\cursor.py\u001b[0m in \u001b[0;36mnext\u001b[1;34m(self)\u001b[0m\n\u001b[0;32m    165\u001b[0m \u001b[1;33m\u001b[0m\u001b[0m\n\u001b[0;32m    166\u001b[0m         \u001b[1;32mif\u001b[0m \u001b[0mself\u001b[0m\u001b[1;33m.\u001b[0m\u001b[0mindex\u001b[0m \u001b[1;33m>=\u001b[0m \u001b[0mlen\u001b[0m\u001b[1;33m(\u001b[0m\u001b[0mself\u001b[0m\u001b[1;33m.\u001b[0m\u001b[0mresults\u001b[0m\u001b[1;33m)\u001b[0m \u001b[1;33m-\u001b[0m \u001b[1;36m1\u001b[0m\u001b[1;33m:\u001b[0m\u001b[1;33m\u001b[0m\u001b[1;33m\u001b[0m\u001b[0m\n\u001b[1;32m--> 167\u001b[1;33m             \u001b[0mdata\u001b[0m \u001b[1;33m=\u001b[0m \u001b[0mself\u001b[0m\u001b[1;33m.\u001b[0m\u001b[0mmethod\u001b[0m\u001b[1;33m(\u001b[0m\u001b[0mmax_id\u001b[0m\u001b[1;33m=\u001b[0m\u001b[0mself\u001b[0m\u001b[1;33m.\u001b[0m\u001b[0mmax_id\u001b[0m\u001b[1;33m,\u001b[0m \u001b[0mparser\u001b[0m\u001b[1;33m=\u001b[0m\u001b[0mRawParser\u001b[0m\u001b[1;33m(\u001b[0m\u001b[1;33m)\u001b[0m\u001b[1;33m,\u001b[0m \u001b[1;33m*\u001b[0m\u001b[0mself\u001b[0m\u001b[1;33m.\u001b[0m\u001b[0margs\u001b[0m\u001b[1;33m,\u001b[0m \u001b[1;33m**\u001b[0m\u001b[0mself\u001b[0m\u001b[1;33m.\u001b[0m\u001b[0mkwargs\u001b[0m\u001b[1;33m)\u001b[0m\u001b[1;33m\u001b[0m\u001b[1;33m\u001b[0m\u001b[0m\n\u001b[0m\u001b[0;32m    168\u001b[0m \u001b[1;33m\u001b[0m\u001b[0m\n\u001b[0;32m    169\u001b[0m             \u001b[1;31m# This is a special invocation that returns the underlying\u001b[0m\u001b[1;33m\u001b[0m\u001b[1;33m\u001b[0m\u001b[0m\n",
      "\u001b[1;32m~\\anaconda3\\envs\\tweet_crawl\\lib\\site-packages\\tweepy\\api.py\u001b[0m in \u001b[0;36mwrapper\u001b[1;34m(*args, **kwargs)\u001b[0m\n\u001b[0;32m     31\u001b[0m         \u001b[1;33m@\u001b[0m\u001b[0mfunctools\u001b[0m\u001b[1;33m.\u001b[0m\u001b[0mwraps\u001b[0m\u001b[1;33m(\u001b[0m\u001b[0mmethod\u001b[0m\u001b[1;33m)\u001b[0m\u001b[1;33m\u001b[0m\u001b[1;33m\u001b[0m\u001b[0m\n\u001b[0;32m     32\u001b[0m         \u001b[1;32mdef\u001b[0m \u001b[0mwrapper\u001b[0m\u001b[1;33m(\u001b[0m\u001b[1;33m*\u001b[0m\u001b[0margs\u001b[0m\u001b[1;33m,\u001b[0m \u001b[1;33m**\u001b[0m\u001b[0mkwargs\u001b[0m\u001b[1;33m)\u001b[0m\u001b[1;33m:\u001b[0m\u001b[1;33m\u001b[0m\u001b[1;33m\u001b[0m\u001b[0m\n\u001b[1;32m---> 33\u001b[1;33m             \u001b[1;32mreturn\u001b[0m \u001b[0mmethod\u001b[0m\u001b[1;33m(\u001b[0m\u001b[1;33m*\u001b[0m\u001b[0margs\u001b[0m\u001b[1;33m,\u001b[0m \u001b[1;33m**\u001b[0m\u001b[0mkwargs\u001b[0m\u001b[1;33m)\u001b[0m\u001b[1;33m\u001b[0m\u001b[1;33m\u001b[0m\u001b[0m\n\u001b[0m\u001b[0;32m     34\u001b[0m         \u001b[0mwrapper\u001b[0m\u001b[1;33m.\u001b[0m\u001b[0mpagination_mode\u001b[0m \u001b[1;33m=\u001b[0m \u001b[0mmode\u001b[0m\u001b[1;33m\u001b[0m\u001b[1;33m\u001b[0m\u001b[0m\n\u001b[0;32m     35\u001b[0m         \u001b[1;32mreturn\u001b[0m \u001b[0mwrapper\u001b[0m\u001b[1;33m\u001b[0m\u001b[1;33m\u001b[0m\u001b[0m\n",
      "\u001b[1;32m~\\anaconda3\\envs\\tweet_crawl\\lib\\site-packages\\tweepy\\api.py\u001b[0m in \u001b[0;36mwrapper\u001b[1;34m(*args, **kwargs)\u001b[0m\n\u001b[0;32m     44\u001b[0m             \u001b[0mkwargs\u001b[0m\u001b[1;33m[\u001b[0m\u001b[1;34m'payload_list'\u001b[0m\u001b[1;33m]\u001b[0m \u001b[1;33m=\u001b[0m \u001b[0mpayload_list\u001b[0m\u001b[1;33m\u001b[0m\u001b[1;33m\u001b[0m\u001b[0m\n\u001b[0;32m     45\u001b[0m             \u001b[0mkwargs\u001b[0m\u001b[1;33m[\u001b[0m\u001b[1;34m'payload_type'\u001b[0m\u001b[1;33m]\u001b[0m \u001b[1;33m=\u001b[0m \u001b[0mpayload_type\u001b[0m\u001b[1;33m\u001b[0m\u001b[1;33m\u001b[0m\u001b[0m\n\u001b[1;32m---> 46\u001b[1;33m             \u001b[1;32mreturn\u001b[0m \u001b[0mmethod\u001b[0m\u001b[1;33m(\u001b[0m\u001b[1;33m*\u001b[0m\u001b[0margs\u001b[0m\u001b[1;33m,\u001b[0m \u001b[1;33m**\u001b[0m\u001b[0mkwargs\u001b[0m\u001b[1;33m)\u001b[0m\u001b[1;33m\u001b[0m\u001b[1;33m\u001b[0m\u001b[0m\n\u001b[0m\u001b[0;32m     47\u001b[0m         \u001b[0mwrapper\u001b[0m\u001b[1;33m.\u001b[0m\u001b[0mpayload_list\u001b[0m \u001b[1;33m=\u001b[0m \u001b[0mpayload_list\u001b[0m\u001b[1;33m\u001b[0m\u001b[1;33m\u001b[0m\u001b[0m\n\u001b[0;32m     48\u001b[0m         \u001b[0mwrapper\u001b[0m\u001b[1;33m.\u001b[0m\u001b[0mpayload_type\u001b[0m \u001b[1;33m=\u001b[0m \u001b[0mpayload_type\u001b[0m\u001b[1;33m\u001b[0m\u001b[1;33m\u001b[0m\u001b[0m\n",
      "\u001b[1;32m~\\anaconda3\\envs\\tweet_crawl\\lib\\site-packages\\tweepy\\api.py\u001b[0m in \u001b[0;36msearch_tweets\u001b[1;34m(self, q, **kwargs)\u001b[0m\n\u001b[0;32m   1263\u001b[0m         \u001b[0mhttps\u001b[0m\u001b[1;33m:\u001b[0m\u001b[1;33m//\u001b[0m\u001b[0mdeveloper\u001b[0m\u001b[1;33m.\u001b[0m\u001b[0mtwitter\u001b[0m\u001b[1;33m.\u001b[0m\u001b[0mcom\u001b[0m\u001b[1;33m/\u001b[0m\u001b[0men\u001b[0m\u001b[1;33m/\u001b[0m\u001b[0mdocs\u001b[0m\u001b[1;33m/\u001b[0m\u001b[0mtwitter\u001b[0m\u001b[1;33m-\u001b[0m\u001b[0mapi\u001b[0m\u001b[1;33m/\u001b[0m\u001b[0mv1\u001b[0m\u001b[1;33m/\u001b[0m\u001b[0mtweets\u001b[0m\u001b[1;33m/\u001b[0m\u001b[0msearch\u001b[0m\u001b[1;33m/\u001b[0m\u001b[0mapi\u001b[0m\u001b[1;33m-\u001b[0m\u001b[0mreference\u001b[0m\u001b[1;33m/\u001b[0m\u001b[0mget\u001b[0m\u001b[1;33m-\u001b[0m\u001b[0msearch\u001b[0m\u001b[1;33m-\u001b[0m\u001b[0mtweets\u001b[0m\u001b[1;33m\u001b[0m\u001b[1;33m\u001b[0m\u001b[0m\n\u001b[0;32m   1264\u001b[0m         \"\"\"\n\u001b[1;32m-> 1265\u001b[1;33m         return self.request(\n\u001b[0m\u001b[0;32m   1266\u001b[0m             'GET', 'search/tweets', endpoint_parameters=(\n\u001b[0;32m   1267\u001b[0m                 \u001b[1;34m'q'\u001b[0m\u001b[1;33m,\u001b[0m \u001b[1;34m'geocode'\u001b[0m\u001b[1;33m,\u001b[0m \u001b[1;34m'lang'\u001b[0m\u001b[1;33m,\u001b[0m \u001b[1;34m'locale'\u001b[0m\u001b[1;33m,\u001b[0m \u001b[1;34m'result_type'\u001b[0m\u001b[1;33m,\u001b[0m \u001b[1;34m'count'\u001b[0m\u001b[1;33m,\u001b[0m\u001b[1;33m\u001b[0m\u001b[1;33m\u001b[0m\u001b[0m\n",
      "\u001b[1;32m~\\anaconda3\\envs\\tweet_crawl\\lib\\site-packages\\tweepy\\api.py\u001b[0m in \u001b[0;36mrequest\u001b[1;34m(self, method, endpoint, endpoint_parameters, params, headers, json_payload, parser, payload_list, payload_type, post_data, files, require_auth, return_cursors, upload_api, use_cache, **kwargs)\u001b[0m\n\u001b[0;32m    263\u001b[0m                 \u001b[1;32mraise\u001b[0m \u001b[0mTooManyRequests\u001b[0m\u001b[1;33m(\u001b[0m\u001b[0mresp\u001b[0m\u001b[1;33m)\u001b[0m\u001b[1;33m\u001b[0m\u001b[1;33m\u001b[0m\u001b[0m\n\u001b[0;32m    264\u001b[0m             \u001b[1;32mif\u001b[0m \u001b[0mresp\u001b[0m\u001b[1;33m.\u001b[0m\u001b[0mstatus_code\u001b[0m \u001b[1;33m>=\u001b[0m \u001b[1;36m500\u001b[0m\u001b[1;33m:\u001b[0m\u001b[1;33m\u001b[0m\u001b[1;33m\u001b[0m\u001b[0m\n\u001b[1;32m--> 265\u001b[1;33m                 \u001b[1;32mraise\u001b[0m \u001b[0mTwitterServerError\u001b[0m\u001b[1;33m(\u001b[0m\u001b[0mresp\u001b[0m\u001b[1;33m)\u001b[0m\u001b[1;33m\u001b[0m\u001b[1;33m\u001b[0m\u001b[0m\n\u001b[0m\u001b[0;32m    266\u001b[0m             \u001b[1;32mif\u001b[0m \u001b[0mresp\u001b[0m\u001b[1;33m.\u001b[0m\u001b[0mstatus_code\u001b[0m \u001b[1;32mand\u001b[0m \u001b[1;32mnot\u001b[0m \u001b[1;36m200\u001b[0m \u001b[1;33m<=\u001b[0m \u001b[0mresp\u001b[0m\u001b[1;33m.\u001b[0m\u001b[0mstatus_code\u001b[0m \u001b[1;33m<\u001b[0m \u001b[1;36m300\u001b[0m\u001b[1;33m:\u001b[0m\u001b[1;33m\u001b[0m\u001b[1;33m\u001b[0m\u001b[0m\n\u001b[0;32m    267\u001b[0m                 \u001b[1;32mraise\u001b[0m \u001b[0mHTTPException\u001b[0m\u001b[1;33m(\u001b[0m\u001b[0mresp\u001b[0m\u001b[1;33m)\u001b[0m\u001b[1;33m\u001b[0m\u001b[1;33m\u001b[0m\u001b[0m\n",
      "\u001b[1;31mTwitterServerError\u001b[0m: 500 Internal Server Error\n131 - Internal error"
     ]
    }
   ],
   "source": [
    "# FORMULA E NETIZEN\n",
    "start_date = '2023-04-29'\n",
    "end_date = '2023-05-04'\n",
    "\n",
    "no_file = 999\n",
    "tgl_file = '5mei'\n",
    "\n",
    "tweets_topic = twitter_client.get_search_tweets(10000, 'csgo lang:id -filter:retweets -filter:replies since:{}'.format(start_date), '{}'.format(end_date)) #GANTI TANGGAL SINCE UNTUK MENGAMBIL DATA PADA TANGGAL TSB\n",
    "\n",
    "df2 = tweet_export.tweets_to_dataframe(tweets_topic)\n",
    "\n",
    "tweet_export.dataframe_to_csv2(df2, 'NETIZEN_{}_csgo_{}'.format(no_file, tgl_file)) #GANTI NAMA FILE"
   ]
  }
 ],
 "metadata": {
  "kernelspec": {
   "display_name": "Python 3 (ipykernel)",
   "language": "python",
   "name": "python3"
  },
  "language_info": {
   "codemirror_mode": {
    "name": "ipython",
    "version": 3
   },
   "file_extension": ".py",
   "mimetype": "text/x-python",
   "name": "python",
   "nbconvert_exporter": "python",
   "pygments_lexer": "ipython3",
   "version": "3.9.16"
  }
 },
 "nbformat": 4,
 "nbformat_minor": 5
}
